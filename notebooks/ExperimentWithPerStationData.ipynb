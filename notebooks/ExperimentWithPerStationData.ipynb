{
 "cells": [
  {
   "cell_type": "markdown",
   "metadata": {
    "collapsed": true,
    "pycharm": {
     "name": "#%% md\n"
    }
   },
   "source": [
    "# Phase 1\n",
    "Data Investigation"
   ]
  },
  {
   "cell_type": "code",
   "execution_count": 5,
   "outputs": [],
   "source": [
    "import pandas as pd\n",
    "data_201= pd.read_csv('../data/Train/station_201_deploy.csv')\n",
    "data_275= pd.read_csv('../data/Train/station_275_deploy.csv')\n"
   ],
   "metadata": {
    "collapsed": false,
    "pycharm": {
     "name": "#%%\n"
    }
   }
  },
  {
   "cell_type": "code",
   "execution_count": 6,
   "outputs": [
    {
     "data": {
      "text/plain": "     station   latitude  longitude  numDocks     timestamp  year  month  day  \\\n0        201  39.478178  -0.383541        27  1.412114e+09  2014     10    1   \n1        201  39.478178  -0.383541        27  1.412118e+09  2014     10    1   \n2        201  39.478178  -0.383541        27  1.412122e+09  2014     10    1   \n3        201  39.478178  -0.383541        27  1.412125e+09  2014     10    1   \n4        201  39.478178  -0.383541        27  1.412129e+09  2014     10    1   \n..       ...        ...        ...       ...           ...   ...    ...  ...   \n740      201  39.478178  -0.383541        27  1.414778e+09  2014     10   31   \n741      201  39.478178  -0.383541        27  1.414782e+09  2014     10   31   \n742      201  39.478178  -0.383541        27  1.414786e+09  2014     10   31   \n743      201  39.478178  -0.383541        27  1.414789e+09  2014     10   31   \n744      201  39.478178  -0.383541        27  1.414793e+09  2014     10   31   \n\n     hour    weekday  ...  temperature.C  relHumidity.HR  airPressure.mb  \\\n0       0  Wednesday  ...           21.3            85.0           855.3   \n1       1  Wednesday  ...           21.1            86.0          1000.6   \n2       2  Wednesday  ...           20.9            86.0           880.6   \n3       3  Wednesday  ...           20.4            88.0           859.8   \n4       4  Wednesday  ...           20.3            87.0           898.1   \n..    ...        ...  ...            ...             ...             ...   \n740    19     Friday  ...           20.2            80.0          1023.5   \n741    20     Friday  ...           20.2            82.0          1023.9   \n742    21     Friday  ...           20.0            83.0          1024.0   \n743    22     Friday  ...           19.3            84.0          1024.4   \n744    23     Friday  ...           19.1            86.0          1024.1   \n\n     precipitation.l.m2  bikes_3h_ago  full_profile_3h_diff_bikes  \\\n0                   0.0           NaN                         NaN   \n1                   0.0           NaN                         NaN   \n2                   0.0           NaN                         NaN   \n3                   0.0           1.0                         NaN   \n4                   0.0           0.0                         NaN   \n..                  ...           ...                         ...   \n740                 0.0           1.0                        2.00   \n741                 0.0           1.0                        3.00   \n742                 0.0           1.0                        2.25   \n743                 0.0           0.0                        3.25   \n744                 0.0           2.0                        7.50   \n\n     full_profile_bikes  short_profile_3h_diff_bikes  short_profile_bikes  \\\n0                   NaN                          NaN                  NaN   \n1                   NaN                          NaN                  NaN   \n2                   NaN                          NaN                  NaN   \n3                   NaN                          NaN                  NaN   \n4                   NaN                          NaN                  NaN   \n..                  ...                          ...                  ...   \n740                2.50                         2.00                 2.50   \n741                3.25                         3.00                 3.25   \n742                2.75                         2.25                 2.75   \n743                5.75                         3.25                 5.75   \n744               10.75                         7.50                10.75   \n\n     bikes  \n0      1.0  \n1      0.0  \n2      0.0  \n3      0.0  \n4      0.0  \n..     ...  \n740    0.0  \n741    2.0  \n742    7.0  \n743    9.0  \n744   14.0  \n\n[745 rows x 25 columns]",
      "text/html": "<div>\n<style scoped>\n    .dataframe tbody tr th:only-of-type {\n        vertical-align: middle;\n    }\n\n    .dataframe tbody tr th {\n        vertical-align: top;\n    }\n\n    .dataframe thead th {\n        text-align: right;\n    }\n</style>\n<table border=\"1\" class=\"dataframe\">\n  <thead>\n    <tr style=\"text-align: right;\">\n      <th></th>\n      <th>station</th>\n      <th>latitude</th>\n      <th>longitude</th>\n      <th>numDocks</th>\n      <th>timestamp</th>\n      <th>year</th>\n      <th>month</th>\n      <th>day</th>\n      <th>hour</th>\n      <th>weekday</th>\n      <th>...</th>\n      <th>temperature.C</th>\n      <th>relHumidity.HR</th>\n      <th>airPressure.mb</th>\n      <th>precipitation.l.m2</th>\n      <th>bikes_3h_ago</th>\n      <th>full_profile_3h_diff_bikes</th>\n      <th>full_profile_bikes</th>\n      <th>short_profile_3h_diff_bikes</th>\n      <th>short_profile_bikes</th>\n      <th>bikes</th>\n    </tr>\n  </thead>\n  <tbody>\n    <tr>\n      <th>0</th>\n      <td>201</td>\n      <td>39.478178</td>\n      <td>-0.383541</td>\n      <td>27</td>\n      <td>1.412114e+09</td>\n      <td>2014</td>\n      <td>10</td>\n      <td>1</td>\n      <td>0</td>\n      <td>Wednesday</td>\n      <td>...</td>\n      <td>21.3</td>\n      <td>85.0</td>\n      <td>855.3</td>\n      <td>0.0</td>\n      <td>NaN</td>\n      <td>NaN</td>\n      <td>NaN</td>\n      <td>NaN</td>\n      <td>NaN</td>\n      <td>1.0</td>\n    </tr>\n    <tr>\n      <th>1</th>\n      <td>201</td>\n      <td>39.478178</td>\n      <td>-0.383541</td>\n      <td>27</td>\n      <td>1.412118e+09</td>\n      <td>2014</td>\n      <td>10</td>\n      <td>1</td>\n      <td>1</td>\n      <td>Wednesday</td>\n      <td>...</td>\n      <td>21.1</td>\n      <td>86.0</td>\n      <td>1000.6</td>\n      <td>0.0</td>\n      <td>NaN</td>\n      <td>NaN</td>\n      <td>NaN</td>\n      <td>NaN</td>\n      <td>NaN</td>\n      <td>0.0</td>\n    </tr>\n    <tr>\n      <th>2</th>\n      <td>201</td>\n      <td>39.478178</td>\n      <td>-0.383541</td>\n      <td>27</td>\n      <td>1.412122e+09</td>\n      <td>2014</td>\n      <td>10</td>\n      <td>1</td>\n      <td>2</td>\n      <td>Wednesday</td>\n      <td>...</td>\n      <td>20.9</td>\n      <td>86.0</td>\n      <td>880.6</td>\n      <td>0.0</td>\n      <td>NaN</td>\n      <td>NaN</td>\n      <td>NaN</td>\n      <td>NaN</td>\n      <td>NaN</td>\n      <td>0.0</td>\n    </tr>\n    <tr>\n      <th>3</th>\n      <td>201</td>\n      <td>39.478178</td>\n      <td>-0.383541</td>\n      <td>27</td>\n      <td>1.412125e+09</td>\n      <td>2014</td>\n      <td>10</td>\n      <td>1</td>\n      <td>3</td>\n      <td>Wednesday</td>\n      <td>...</td>\n      <td>20.4</td>\n      <td>88.0</td>\n      <td>859.8</td>\n      <td>0.0</td>\n      <td>1.0</td>\n      <td>NaN</td>\n      <td>NaN</td>\n      <td>NaN</td>\n      <td>NaN</td>\n      <td>0.0</td>\n    </tr>\n    <tr>\n      <th>4</th>\n      <td>201</td>\n      <td>39.478178</td>\n      <td>-0.383541</td>\n      <td>27</td>\n      <td>1.412129e+09</td>\n      <td>2014</td>\n      <td>10</td>\n      <td>1</td>\n      <td>4</td>\n      <td>Wednesday</td>\n      <td>...</td>\n      <td>20.3</td>\n      <td>87.0</td>\n      <td>898.1</td>\n      <td>0.0</td>\n      <td>0.0</td>\n      <td>NaN</td>\n      <td>NaN</td>\n      <td>NaN</td>\n      <td>NaN</td>\n      <td>0.0</td>\n    </tr>\n    <tr>\n      <th>...</th>\n      <td>...</td>\n      <td>...</td>\n      <td>...</td>\n      <td>...</td>\n      <td>...</td>\n      <td>...</td>\n      <td>...</td>\n      <td>...</td>\n      <td>...</td>\n      <td>...</td>\n      <td>...</td>\n      <td>...</td>\n      <td>...</td>\n      <td>...</td>\n      <td>...</td>\n      <td>...</td>\n      <td>...</td>\n      <td>...</td>\n      <td>...</td>\n      <td>...</td>\n      <td>...</td>\n    </tr>\n    <tr>\n      <th>740</th>\n      <td>201</td>\n      <td>39.478178</td>\n      <td>-0.383541</td>\n      <td>27</td>\n      <td>1.414778e+09</td>\n      <td>2014</td>\n      <td>10</td>\n      <td>31</td>\n      <td>19</td>\n      <td>Friday</td>\n      <td>...</td>\n      <td>20.2</td>\n      <td>80.0</td>\n      <td>1023.5</td>\n      <td>0.0</td>\n      <td>1.0</td>\n      <td>2.00</td>\n      <td>2.50</td>\n      <td>2.00</td>\n      <td>2.50</td>\n      <td>0.0</td>\n    </tr>\n    <tr>\n      <th>741</th>\n      <td>201</td>\n      <td>39.478178</td>\n      <td>-0.383541</td>\n      <td>27</td>\n      <td>1.414782e+09</td>\n      <td>2014</td>\n      <td>10</td>\n      <td>31</td>\n      <td>20</td>\n      <td>Friday</td>\n      <td>...</td>\n      <td>20.2</td>\n      <td>82.0</td>\n      <td>1023.9</td>\n      <td>0.0</td>\n      <td>1.0</td>\n      <td>3.00</td>\n      <td>3.25</td>\n      <td>3.00</td>\n      <td>3.25</td>\n      <td>2.0</td>\n    </tr>\n    <tr>\n      <th>742</th>\n      <td>201</td>\n      <td>39.478178</td>\n      <td>-0.383541</td>\n      <td>27</td>\n      <td>1.414786e+09</td>\n      <td>2014</td>\n      <td>10</td>\n      <td>31</td>\n      <td>21</td>\n      <td>Friday</td>\n      <td>...</td>\n      <td>20.0</td>\n      <td>83.0</td>\n      <td>1024.0</td>\n      <td>0.0</td>\n      <td>1.0</td>\n      <td>2.25</td>\n      <td>2.75</td>\n      <td>2.25</td>\n      <td>2.75</td>\n      <td>7.0</td>\n    </tr>\n    <tr>\n      <th>743</th>\n      <td>201</td>\n      <td>39.478178</td>\n      <td>-0.383541</td>\n      <td>27</td>\n      <td>1.414789e+09</td>\n      <td>2014</td>\n      <td>10</td>\n      <td>31</td>\n      <td>22</td>\n      <td>Friday</td>\n      <td>...</td>\n      <td>19.3</td>\n      <td>84.0</td>\n      <td>1024.4</td>\n      <td>0.0</td>\n      <td>0.0</td>\n      <td>3.25</td>\n      <td>5.75</td>\n      <td>3.25</td>\n      <td>5.75</td>\n      <td>9.0</td>\n    </tr>\n    <tr>\n      <th>744</th>\n      <td>201</td>\n      <td>39.478178</td>\n      <td>-0.383541</td>\n      <td>27</td>\n      <td>1.414793e+09</td>\n      <td>2014</td>\n      <td>10</td>\n      <td>31</td>\n      <td>23</td>\n      <td>Friday</td>\n      <td>...</td>\n      <td>19.1</td>\n      <td>86.0</td>\n      <td>1024.1</td>\n      <td>0.0</td>\n      <td>2.0</td>\n      <td>7.50</td>\n      <td>10.75</td>\n      <td>7.50</td>\n      <td>10.75</td>\n      <td>14.0</td>\n    </tr>\n  </tbody>\n</table>\n<p>745 rows × 25 columns</p>\n</div>"
     },
     "execution_count": 6,
     "metadata": {},
     "output_type": "execute_result"
    }
   ],
   "source": [
    "data_201"
   ],
   "metadata": {
    "collapsed": false,
    "pycharm": {
     "name": "#%%\n"
    }
   }
  },
  {
   "cell_type": "code",
   "execution_count": 7,
   "outputs": [
    {
     "data": {
      "text/plain": "     station   latitude  longitude  numDocks     timestamp  year  month  day  \\\n0        275  39.450273  -0.333363        15  1.412114e+09  2014     10    1   \n1        275  39.450273  -0.333363        15  1.412118e+09  2014     10    1   \n2        275  39.450273  -0.333363        15  1.412122e+09  2014     10    1   \n3        275  39.450273  -0.333363        15  1.412125e+09  2014     10    1   \n4        275  39.450273  -0.333363        15  1.412129e+09  2014     10    1   \n..       ...        ...        ...       ...           ...   ...    ...  ...   \n740      275  39.450273  -0.333363        15  1.414778e+09  2014     10   31   \n741      275  39.450273  -0.333363        15  1.414782e+09  2014     10   31   \n742      275  39.450273  -0.333363        15  1.414786e+09  2014     10   31   \n743      275  39.450273  -0.333363        15  1.414789e+09  2014     10   31   \n744      275  39.450273  -0.333363        15  1.414793e+09  2014     10   31   \n\n     hour    weekday  ...  temperature.C  relHumidity.HR  airPressure.mb  \\\n0       0  Wednesday  ...           21.3            85.0           855.3   \n1       1  Wednesday  ...           21.1            86.0          1000.6   \n2       2  Wednesday  ...           20.9            86.0           880.6   \n3       3  Wednesday  ...           20.4            88.0           859.8   \n4       4  Wednesday  ...           20.3            87.0           898.1   \n..    ...        ...  ...            ...             ...             ...   \n740    19     Friday  ...           20.2            80.0          1023.5   \n741    20     Friday  ...           20.2            82.0          1023.9   \n742    21     Friday  ...           20.0            83.0          1024.0   \n743    22     Friday  ...           19.3            84.0          1024.4   \n744    23     Friday  ...           19.1            86.0          1024.1   \n\n     precipitation.l.m2  bikes_3h_ago  full_profile_3h_diff_bikes  \\\n0                   0.0           NaN                         NaN   \n1                   0.0           NaN                         NaN   \n2                   0.0           NaN                         NaN   \n3                   0.0          15.0                         NaN   \n4                   0.0          15.0                         NaN   \n..                  ...           ...                         ...   \n740                 0.0          15.0                       -0.50   \n741                 0.0          15.0                        1.75   \n742                 0.0          15.0                        3.25   \n743                 0.0          15.0                        3.00   \n744                 0.0          15.0                        0.25   \n\n     full_profile_bikes  short_profile_3h_diff_bikes  short_profile_bikes  \\\n0                   NaN                          NaN                  NaN   \n1                   NaN                          NaN                  NaN   \n2                   NaN                          NaN                  NaN   \n3                   NaN                          NaN                  NaN   \n4                   NaN                          NaN                  NaN   \n..                  ...                          ...                  ...   \n740                7.00                        -0.50                 7.00   \n741                8.75                         1.75                 8.75   \n742               10.50                         3.25                10.50   \n743               10.00                         3.00                10.00   \n744                9.00                         0.25                 9.00   \n\n     bikes  \n0     15.0  \n1     15.0  \n2     15.0  \n3     15.0  \n4     15.0  \n..     ...  \n740   15.0  \n741   15.0  \n742   15.0  \n743   15.0  \n744   14.0  \n\n[745 rows x 25 columns]",
      "text/html": "<div>\n<style scoped>\n    .dataframe tbody tr th:only-of-type {\n        vertical-align: middle;\n    }\n\n    .dataframe tbody tr th {\n        vertical-align: top;\n    }\n\n    .dataframe thead th {\n        text-align: right;\n    }\n</style>\n<table border=\"1\" class=\"dataframe\">\n  <thead>\n    <tr style=\"text-align: right;\">\n      <th></th>\n      <th>station</th>\n      <th>latitude</th>\n      <th>longitude</th>\n      <th>numDocks</th>\n      <th>timestamp</th>\n      <th>year</th>\n      <th>month</th>\n      <th>day</th>\n      <th>hour</th>\n      <th>weekday</th>\n      <th>...</th>\n      <th>temperature.C</th>\n      <th>relHumidity.HR</th>\n      <th>airPressure.mb</th>\n      <th>precipitation.l.m2</th>\n      <th>bikes_3h_ago</th>\n      <th>full_profile_3h_diff_bikes</th>\n      <th>full_profile_bikes</th>\n      <th>short_profile_3h_diff_bikes</th>\n      <th>short_profile_bikes</th>\n      <th>bikes</th>\n    </tr>\n  </thead>\n  <tbody>\n    <tr>\n      <th>0</th>\n      <td>275</td>\n      <td>39.450273</td>\n      <td>-0.333363</td>\n      <td>15</td>\n      <td>1.412114e+09</td>\n      <td>2014</td>\n      <td>10</td>\n      <td>1</td>\n      <td>0</td>\n      <td>Wednesday</td>\n      <td>...</td>\n      <td>21.3</td>\n      <td>85.0</td>\n      <td>855.3</td>\n      <td>0.0</td>\n      <td>NaN</td>\n      <td>NaN</td>\n      <td>NaN</td>\n      <td>NaN</td>\n      <td>NaN</td>\n      <td>15.0</td>\n    </tr>\n    <tr>\n      <th>1</th>\n      <td>275</td>\n      <td>39.450273</td>\n      <td>-0.333363</td>\n      <td>15</td>\n      <td>1.412118e+09</td>\n      <td>2014</td>\n      <td>10</td>\n      <td>1</td>\n      <td>1</td>\n      <td>Wednesday</td>\n      <td>...</td>\n      <td>21.1</td>\n      <td>86.0</td>\n      <td>1000.6</td>\n      <td>0.0</td>\n      <td>NaN</td>\n      <td>NaN</td>\n      <td>NaN</td>\n      <td>NaN</td>\n      <td>NaN</td>\n      <td>15.0</td>\n    </tr>\n    <tr>\n      <th>2</th>\n      <td>275</td>\n      <td>39.450273</td>\n      <td>-0.333363</td>\n      <td>15</td>\n      <td>1.412122e+09</td>\n      <td>2014</td>\n      <td>10</td>\n      <td>1</td>\n      <td>2</td>\n      <td>Wednesday</td>\n      <td>...</td>\n      <td>20.9</td>\n      <td>86.0</td>\n      <td>880.6</td>\n      <td>0.0</td>\n      <td>NaN</td>\n      <td>NaN</td>\n      <td>NaN</td>\n      <td>NaN</td>\n      <td>NaN</td>\n      <td>15.0</td>\n    </tr>\n    <tr>\n      <th>3</th>\n      <td>275</td>\n      <td>39.450273</td>\n      <td>-0.333363</td>\n      <td>15</td>\n      <td>1.412125e+09</td>\n      <td>2014</td>\n      <td>10</td>\n      <td>1</td>\n      <td>3</td>\n      <td>Wednesday</td>\n      <td>...</td>\n      <td>20.4</td>\n      <td>88.0</td>\n      <td>859.8</td>\n      <td>0.0</td>\n      <td>15.0</td>\n      <td>NaN</td>\n      <td>NaN</td>\n      <td>NaN</td>\n      <td>NaN</td>\n      <td>15.0</td>\n    </tr>\n    <tr>\n      <th>4</th>\n      <td>275</td>\n      <td>39.450273</td>\n      <td>-0.333363</td>\n      <td>15</td>\n      <td>1.412129e+09</td>\n      <td>2014</td>\n      <td>10</td>\n      <td>1</td>\n      <td>4</td>\n      <td>Wednesday</td>\n      <td>...</td>\n      <td>20.3</td>\n      <td>87.0</td>\n      <td>898.1</td>\n      <td>0.0</td>\n      <td>15.0</td>\n      <td>NaN</td>\n      <td>NaN</td>\n      <td>NaN</td>\n      <td>NaN</td>\n      <td>15.0</td>\n    </tr>\n    <tr>\n      <th>...</th>\n      <td>...</td>\n      <td>...</td>\n      <td>...</td>\n      <td>...</td>\n      <td>...</td>\n      <td>...</td>\n      <td>...</td>\n      <td>...</td>\n      <td>...</td>\n      <td>...</td>\n      <td>...</td>\n      <td>...</td>\n      <td>...</td>\n      <td>...</td>\n      <td>...</td>\n      <td>...</td>\n      <td>...</td>\n      <td>...</td>\n      <td>...</td>\n      <td>...</td>\n      <td>...</td>\n    </tr>\n    <tr>\n      <th>740</th>\n      <td>275</td>\n      <td>39.450273</td>\n      <td>-0.333363</td>\n      <td>15</td>\n      <td>1.414778e+09</td>\n      <td>2014</td>\n      <td>10</td>\n      <td>31</td>\n      <td>19</td>\n      <td>Friday</td>\n      <td>...</td>\n      <td>20.2</td>\n      <td>80.0</td>\n      <td>1023.5</td>\n      <td>0.0</td>\n      <td>15.0</td>\n      <td>-0.50</td>\n      <td>7.00</td>\n      <td>-0.50</td>\n      <td>7.00</td>\n      <td>15.0</td>\n    </tr>\n    <tr>\n      <th>741</th>\n      <td>275</td>\n      <td>39.450273</td>\n      <td>-0.333363</td>\n      <td>15</td>\n      <td>1.414782e+09</td>\n      <td>2014</td>\n      <td>10</td>\n      <td>31</td>\n      <td>20</td>\n      <td>Friday</td>\n      <td>...</td>\n      <td>20.2</td>\n      <td>82.0</td>\n      <td>1023.9</td>\n      <td>0.0</td>\n      <td>15.0</td>\n      <td>1.75</td>\n      <td>8.75</td>\n      <td>1.75</td>\n      <td>8.75</td>\n      <td>15.0</td>\n    </tr>\n    <tr>\n      <th>742</th>\n      <td>275</td>\n      <td>39.450273</td>\n      <td>-0.333363</td>\n      <td>15</td>\n      <td>1.414786e+09</td>\n      <td>2014</td>\n      <td>10</td>\n      <td>31</td>\n      <td>21</td>\n      <td>Friday</td>\n      <td>...</td>\n      <td>20.0</td>\n      <td>83.0</td>\n      <td>1024.0</td>\n      <td>0.0</td>\n      <td>15.0</td>\n      <td>3.25</td>\n      <td>10.50</td>\n      <td>3.25</td>\n      <td>10.50</td>\n      <td>15.0</td>\n    </tr>\n    <tr>\n      <th>743</th>\n      <td>275</td>\n      <td>39.450273</td>\n      <td>-0.333363</td>\n      <td>15</td>\n      <td>1.414789e+09</td>\n      <td>2014</td>\n      <td>10</td>\n      <td>31</td>\n      <td>22</td>\n      <td>Friday</td>\n      <td>...</td>\n      <td>19.3</td>\n      <td>84.0</td>\n      <td>1024.4</td>\n      <td>0.0</td>\n      <td>15.0</td>\n      <td>3.00</td>\n      <td>10.00</td>\n      <td>3.00</td>\n      <td>10.00</td>\n      <td>15.0</td>\n    </tr>\n    <tr>\n      <th>744</th>\n      <td>275</td>\n      <td>39.450273</td>\n      <td>-0.333363</td>\n      <td>15</td>\n      <td>1.414793e+09</td>\n      <td>2014</td>\n      <td>10</td>\n      <td>31</td>\n      <td>23</td>\n      <td>Friday</td>\n      <td>...</td>\n      <td>19.1</td>\n      <td>86.0</td>\n      <td>1024.1</td>\n      <td>0.0</td>\n      <td>15.0</td>\n      <td>0.25</td>\n      <td>9.00</td>\n      <td>0.25</td>\n      <td>9.00</td>\n      <td>14.0</td>\n    </tr>\n  </tbody>\n</table>\n<p>745 rows × 25 columns</p>\n</div>"
     },
     "execution_count": 7,
     "metadata": {},
     "output_type": "execute_result"
    }
   ],
   "source": [
    "data_275"
   ],
   "metadata": {
    "collapsed": false,
    "pycharm": {
     "name": "#%%\n"
    }
   }
  },
  {
   "cell_type": "code",
   "execution_count": 4,
   "outputs": [
    {
     "name": "stdout",
     "output_type": "stream",
     "text": [
      "<class 'pandas.core.frame.DataFrame'>\n",
      "RangeIndex: 745 entries, 0 to 744\n",
      "Data columns (total 25 columns):\n",
      " #   Column                       Non-Null Count  Dtype  \n",
      "---  ------                       --------------  -----  \n",
      " 0   station                      745 non-null    int64  \n",
      " 1   latitude                     745 non-null    float64\n",
      " 2   longitude                    745 non-null    float64\n",
      " 3   numDocks                     745 non-null    int64  \n",
      " 4   timestamp                    745 non-null    float64\n",
      " 5   year                         745 non-null    int64  \n",
      " 6   month                        745 non-null    int64  \n",
      " 7   day                          745 non-null    int64  \n",
      " 8   hour                         745 non-null    int64  \n",
      " 9   weekday                      745 non-null    object \n",
      " 10  weekhour                     745 non-null    int64  \n",
      " 11  isHoliday                    745 non-null    int64  \n",
      " 12  windMaxSpeed.m.s             744 non-null    float64\n",
      " 13  windMeanSpeed.m.s            744 non-null    float64\n",
      " 14  windDirection.grades         740 non-null    float64\n",
      " 15  temperature.C                744 non-null    float64\n",
      " 16  relHumidity.HR               744 non-null    float64\n",
      " 17  airPressure.mb               744 non-null    float64\n",
      " 18  precipitation.l.m2           744 non-null    float64\n",
      " 19  bikes_3h_ago                 741 non-null    float64\n",
      " 20  full_profile_3h_diff_bikes   574 non-null    float64\n",
      " 21  full_profile_bikes           577 non-null    float64\n",
      " 22  short_profile_3h_diff_bikes  574 non-null    float64\n",
      " 23  short_profile_bikes          577 non-null    float64\n",
      " 24  bikes                        744 non-null    float64\n",
      "dtypes: float64(16), int64(8), object(1)\n",
      "memory usage: 145.6+ KB\n"
     ]
    }
   ],
   "source": [
    "#station, latitude, longitude and numDocks are per station\n",
    "data_201.info()"
   ],
   "metadata": {
    "collapsed": false,
    "pycharm": {
     "name": "#%%\n"
    }
   }
  },
  {
   "cell_type": "code",
   "execution_count": 8,
   "outputs": [
    {
     "name": "stdout",
     "output_type": "stream",
     "text": [
      "<class 'pandas.core.frame.DataFrame'>\n",
      "RangeIndex: 745 entries, 0 to 744\n",
      "Data columns (total 25 columns):\n",
      " #   Column                       Non-Null Count  Dtype  \n",
      "---  ------                       --------------  -----  \n",
      " 0   station                      745 non-null    int64  \n",
      " 1   latitude                     745 non-null    float64\n",
      " 2   longitude                    745 non-null    float64\n",
      " 3   numDocks                     745 non-null    int64  \n",
      " 4   timestamp                    745 non-null    float64\n",
      " 5   year                         745 non-null    int64  \n",
      " 6   month                        745 non-null    int64  \n",
      " 7   day                          745 non-null    int64  \n",
      " 8   hour                         745 non-null    int64  \n",
      " 9   weekday                      745 non-null    object \n",
      " 10  weekhour                     745 non-null    int64  \n",
      " 11  isHoliday                    745 non-null    int64  \n",
      " 12  windMaxSpeed.m.s             744 non-null    float64\n",
      " 13  windMeanSpeed.m.s            744 non-null    float64\n",
      " 14  windDirection.grades         740 non-null    float64\n",
      " 15  temperature.C                744 non-null    float64\n",
      " 16  relHumidity.HR               744 non-null    float64\n",
      " 17  airPressure.mb               744 non-null    float64\n",
      " 18  precipitation.l.m2           744 non-null    float64\n",
      " 19  bikes_3h_ago                 741 non-null    float64\n",
      " 20  full_profile_3h_diff_bikes   574 non-null    float64\n",
      " 21  full_profile_bikes           577 non-null    float64\n",
      " 22  short_profile_3h_diff_bikes  574 non-null    float64\n",
      " 23  short_profile_bikes          577 non-null    float64\n",
      " 24  bikes                        744 non-null    float64\n",
      "dtypes: float64(16), int64(8), object(1)\n",
      "memory usage: 145.6+ KB\n"
     ]
    }
   ],
   "source": [
    "data_275.info()"
   ],
   "metadata": {
    "collapsed": false,
    "pycharm": {
     "name": "#%%\n"
    }
   }
  },
  {
   "cell_type": "code",
   "execution_count": 20,
   "outputs": [
    {
     "data": {
      "text/plain": "        isHoliday  windMaxSpeed.m.s  windMeanSpeed.m.s  windDirection.grades  \\\ncount  745.000000        744.000000         744.000000            740.000000   \nmean     0.064430         11.406855           4.694489            170.227162   \nstd      0.245681          8.670207           4.586135             86.970566   \nmin      0.000000          0.000000           0.000000              0.000000   \n25%      0.000000          4.800000           1.600000            135.000000   \n50%      0.000000          9.700000           3.200000            180.000000   \n75%      0.000000         16.100000           6.400000            202.500000   \nmax      1.000000         43.500000          27.400000            337.500000   \n\n       temperature.C  relHumidity.HR  airPressure.mb  precipitation.l.m2  \\\ncount     744.000000      744.000000      744.000000               744.0   \nmean       21.707796       65.943548     1002.257258                 0.0   \nstd         3.273425       16.735357       42.551917                 0.0   \nmin        13.900000       18.000000      811.900000                 0.0   \n25%        19.400000       54.000000     1009.675000                 0.0   \n50%        21.350000       68.000000     1015.350000                 0.0   \n75%        23.400000       81.000000     1021.500000                 0.0   \nmax        34.600000       91.000000     1084.900000                 0.0   \n\n       bikes_3h_ago  full_profile_3h_diff_bikes  full_profile_bikes  \\\ncount    741.000000                  574.000000          577.000000   \nmean       4.292848                    0.050377            3.857019   \nstd        4.576888                    4.395611            3.743557   \nmin        0.000000                  -19.000000            0.000000   \n25%        1.000000                   -2.000000            1.000000   \n50%        3.000000                    0.000000            3.000000   \n75%        6.000000                    2.333333            5.000000   \nmax       26.000000                   17.000000           20.000000   \n\n       short_profile_3h_diff_bikes  short_profile_bikes       bikes  \ncount                   574.000000           577.000000  744.000000  \nmean                      0.050377             3.857019    4.315860  \nstd                       4.395611             3.743557    4.585772  \nmin                     -19.000000             0.000000    0.000000  \n25%                      -2.000000             1.000000    1.000000  \n50%                       0.000000             3.000000    3.000000  \n75%                       2.333333             5.000000    6.000000  \nmax                      17.000000            20.000000   26.000000  ",
      "text/html": "<div>\n<style scoped>\n    .dataframe tbody tr th:only-of-type {\n        vertical-align: middle;\n    }\n\n    .dataframe tbody tr th {\n        vertical-align: top;\n    }\n\n    .dataframe thead th {\n        text-align: right;\n    }\n</style>\n<table border=\"1\" class=\"dataframe\">\n  <thead>\n    <tr style=\"text-align: right;\">\n      <th></th>\n      <th>isHoliday</th>\n      <th>windMaxSpeed.m.s</th>\n      <th>windMeanSpeed.m.s</th>\n      <th>windDirection.grades</th>\n      <th>temperature.C</th>\n      <th>relHumidity.HR</th>\n      <th>airPressure.mb</th>\n      <th>precipitation.l.m2</th>\n      <th>bikes_3h_ago</th>\n      <th>full_profile_3h_diff_bikes</th>\n      <th>full_profile_bikes</th>\n      <th>short_profile_3h_diff_bikes</th>\n      <th>short_profile_bikes</th>\n      <th>bikes</th>\n    </tr>\n  </thead>\n  <tbody>\n    <tr>\n      <th>count</th>\n      <td>745.000000</td>\n      <td>744.000000</td>\n      <td>744.000000</td>\n      <td>740.000000</td>\n      <td>744.000000</td>\n      <td>744.000000</td>\n      <td>744.000000</td>\n      <td>744.0</td>\n      <td>741.000000</td>\n      <td>574.000000</td>\n      <td>577.000000</td>\n      <td>574.000000</td>\n      <td>577.000000</td>\n      <td>744.000000</td>\n    </tr>\n    <tr>\n      <th>mean</th>\n      <td>0.064430</td>\n      <td>11.406855</td>\n      <td>4.694489</td>\n      <td>170.227162</td>\n      <td>21.707796</td>\n      <td>65.943548</td>\n      <td>1002.257258</td>\n      <td>0.0</td>\n      <td>4.292848</td>\n      <td>0.050377</td>\n      <td>3.857019</td>\n      <td>0.050377</td>\n      <td>3.857019</td>\n      <td>4.315860</td>\n    </tr>\n    <tr>\n      <th>std</th>\n      <td>0.245681</td>\n      <td>8.670207</td>\n      <td>4.586135</td>\n      <td>86.970566</td>\n      <td>3.273425</td>\n      <td>16.735357</td>\n      <td>42.551917</td>\n      <td>0.0</td>\n      <td>4.576888</td>\n      <td>4.395611</td>\n      <td>3.743557</td>\n      <td>4.395611</td>\n      <td>3.743557</td>\n      <td>4.585772</td>\n    </tr>\n    <tr>\n      <th>min</th>\n      <td>0.000000</td>\n      <td>0.000000</td>\n      <td>0.000000</td>\n      <td>0.000000</td>\n      <td>13.900000</td>\n      <td>18.000000</td>\n      <td>811.900000</td>\n      <td>0.0</td>\n      <td>0.000000</td>\n      <td>-19.000000</td>\n      <td>0.000000</td>\n      <td>-19.000000</td>\n      <td>0.000000</td>\n      <td>0.000000</td>\n    </tr>\n    <tr>\n      <th>25%</th>\n      <td>0.000000</td>\n      <td>4.800000</td>\n      <td>1.600000</td>\n      <td>135.000000</td>\n      <td>19.400000</td>\n      <td>54.000000</td>\n      <td>1009.675000</td>\n      <td>0.0</td>\n      <td>1.000000</td>\n      <td>-2.000000</td>\n      <td>1.000000</td>\n      <td>-2.000000</td>\n      <td>1.000000</td>\n      <td>1.000000</td>\n    </tr>\n    <tr>\n      <th>50%</th>\n      <td>0.000000</td>\n      <td>9.700000</td>\n      <td>3.200000</td>\n      <td>180.000000</td>\n      <td>21.350000</td>\n      <td>68.000000</td>\n      <td>1015.350000</td>\n      <td>0.0</td>\n      <td>3.000000</td>\n      <td>0.000000</td>\n      <td>3.000000</td>\n      <td>0.000000</td>\n      <td>3.000000</td>\n      <td>3.000000</td>\n    </tr>\n    <tr>\n      <th>75%</th>\n      <td>0.000000</td>\n      <td>16.100000</td>\n      <td>6.400000</td>\n      <td>202.500000</td>\n      <td>23.400000</td>\n      <td>81.000000</td>\n      <td>1021.500000</td>\n      <td>0.0</td>\n      <td>6.000000</td>\n      <td>2.333333</td>\n      <td>5.000000</td>\n      <td>2.333333</td>\n      <td>5.000000</td>\n      <td>6.000000</td>\n    </tr>\n    <tr>\n      <th>max</th>\n      <td>1.000000</td>\n      <td>43.500000</td>\n      <td>27.400000</td>\n      <td>337.500000</td>\n      <td>34.600000</td>\n      <td>91.000000</td>\n      <td>1084.900000</td>\n      <td>0.0</td>\n      <td>26.000000</td>\n      <td>17.000000</td>\n      <td>20.000000</td>\n      <td>17.000000</td>\n      <td>20.000000</td>\n      <td>26.000000</td>\n    </tr>\n  </tbody>\n</table>\n</div>"
     },
     "execution_count": 20,
     "metadata": {},
     "output_type": "execute_result"
    }
   ],
   "source": [
    "data_201[['isHoliday',\n",
    "          'windMaxSpeed.m.s', 'windMeanSpeed.m.s', 'windDirection.grades',\n",
    "          'temperature.C', 'relHumidity.HR', 'airPressure.mb',\n",
    "          'precipitation.l.m2', 'bikes_3h_ago', 'full_profile_3h_diff_bikes',\n",
    "          'full_profile_bikes', 'short_profile_3h_diff_bikes',\n",
    "          'short_profile_bikes', 'bikes']].describe()\n",
    "\n"
   ],
   "metadata": {
    "collapsed": false,
    "pycharm": {
     "name": "#%%\n"
    }
   }
  },
  {
   "cell_type": "code",
   "execution_count": 29,
   "outputs": [
    {
     "data": {
      "text/plain": "0    697\n1     48\nName: isHoliday, dtype: int64"
     },
     "execution_count": 29,
     "metadata": {},
     "output_type": "execute_result"
    }
   ],
   "source": [
    "data_201.isHoliday.value_counts()"
   ],
   "metadata": {
    "collapsed": false,
    "pycharm": {
     "name": "#%%\n"
    }
   }
  },
  {
   "cell_type": "code",
   "execution_count": 41,
   "outputs": [
    {
     "data": {
      "text/plain": "49     5\n104    5\n102    5\n101    5\n100    5\n      ..\n150    4\n149    4\n148    4\n146    4\n48     4\nName: weekhour, Length: 168, dtype: int64"
     },
     "execution_count": 41,
     "metadata": {},
     "output_type": "execute_result"
    }
   ],
   "source": [
    "data_201.weekhour.value_counts()"
   ],
   "metadata": {
    "collapsed": false,
    "pycharm": {
     "name": "#%%\n"
    }
   }
  },
  {
   "cell_type": "code",
   "execution_count": 42,
   "outputs": [
    {
     "data": {
      "text/plain": "2     32\n0     31\n13    31\n22    31\n21    31\n20    31\n19    31\n18    31\n17    31\n16    31\n15    31\n14    31\n12    31\n1     31\n11    31\n10    31\n9     31\n8     31\n7     31\n6     31\n5     31\n4     31\n3     31\n23    31\nName: hour, dtype: int64"
     },
     "execution_count": 42,
     "metadata": {},
     "output_type": "execute_result"
    }
   ],
   "source": [
    "data_201.hour.value_counts()"
   ],
   "metadata": {
    "collapsed": false,
    "pycharm": {
     "name": "#%%\n"
    }
   }
  },
  {
   "cell_type": "code",
   "execution_count": 34,
   "outputs": [
    {
     "data": {
      "text/plain": "10    745\nName: month, dtype: int64"
     },
     "execution_count": 34,
     "metadata": {},
     "output_type": "execute_result"
    }
   ],
   "source": [
    "data_201.month.value_counts()"
   ],
   "metadata": {
    "collapsed": false,
    "pycharm": {
     "name": "#%%\n"
    }
   }
  },
  {
   "cell_type": "code",
   "execution_count": 39,
   "outputs": [
    {
     "data": {
      "text/plain": "2014    745\nName: year, dtype: int64"
     },
     "execution_count": 39,
     "metadata": {},
     "output_type": "execute_result"
    }
   ],
   "source": [
    "data_275.year.value_counts()"
   ],
   "metadata": {
    "collapsed": false,
    "pycharm": {
     "name": "#%%\n"
    }
   }
  },
  {
   "cell_type": "code",
   "execution_count": 40,
   "outputs": [
    {
     "data": {
      "text/plain": "Wednesday    120\nThursday     120\nFriday       120\nSunday        97\nSaturday      96\nMonday        96\nTuesday       96\nName: weekday, dtype: int64"
     },
     "execution_count": 40,
     "metadata": {},
     "output_type": "execute_result"
    }
   ],
   "source": [
    "data_201.weekday.value_counts()"
   ],
   "metadata": {
    "collapsed": false,
    "pycharm": {
     "name": "#%%\n"
    }
   }
  },
  {
   "cell_type": "code",
   "execution_count": 31,
   "outputs": [
    {
     "data": {
      "text/plain": "0.0     140\n1.0     122\n2.0      79\n3.0      62\n4.0      58\n6.0      54\n5.0      52\n7.0      36\n8.0      34\n9.0      25\n10.0     16\n11.0     13\n12.0      7\n14.0      6\n15.0      6\n20.0      6\n16.0      6\n17.0      5\n13.0      5\n19.0      4\n18.0      2\n22.0      2\n24.0      2\n23.0      1\n26.0      1\nName: bikes, dtype: int64"
     },
     "execution_count": 31,
     "metadata": {},
     "output_type": "execute_result"
    }
   ],
   "source": [
    "data_201.bikes.value_counts()"
   ],
   "metadata": {
    "collapsed": false,
    "pycharm": {
     "name": "#%%\n"
    }
   }
  },
  {
   "cell_type": "code",
   "execution_count": 26,
   "outputs": [
    {
     "data": {
      "text/plain": " 0.000000    61\n-1.000000    43\n-2.000000    34\n 1.000000    26\n 3.000000    23\n             ..\n 5.333333     1\n-5.666667     1\n 5.666667     1\n-5.333333     1\n 3.250000     1\nName: full_profile_3h_diff_bikes, Length: 97, dtype: int64"
     },
     "execution_count": 26,
     "metadata": {},
     "output_type": "execute_result"
    }
   ],
   "source": [
    "data_201.full_profile_3h_diff_bikes.value_counts()"
   ],
   "metadata": {
    "collapsed": false,
    "pycharm": {
     "name": "#%%\n"
    }
   }
  },
  {
   "cell_type": "code",
   "execution_count": 32,
   "outputs": [
    {
     "data": {
      "text/plain": " 0.000000    61\n-1.000000    43\n-2.000000    34\n 1.000000    26\n 3.000000    23\n             ..\n 5.333333     1\n-5.666667     1\n 5.666667     1\n-5.333333     1\n 3.250000     1\nName: short_profile_3h_diff_bikes, Length: 97, dtype: int64"
     },
     "execution_count": 32,
     "metadata": {},
     "output_type": "execute_result"
    }
   ],
   "source": [
    "data_201.short_profile_3h_diff_bikes.value_counts()"
   ],
   "metadata": {
    "collapsed": false,
    "pycharm": {
     "name": "#%%\n"
    }
   }
  },
  {
   "cell_type": "code",
   "execution_count": 43,
   "outputs": [
    {
     "data": {
      "text/plain": "    station   latitude  longitude  numDocks     timestamp  year  month  day  \\\n0       201  39.478178  -0.383541        27  1.412114e+09  2014     10    1   \n1       201  39.478178  -0.383541        27  1.412118e+09  2014     10    1   \n2       201  39.478178  -0.383541        27  1.412122e+09  2014     10    1   \n3       201  39.478178  -0.383541        27  1.412125e+09  2014     10    1   \n4       201  39.478178  -0.383541        27  1.412129e+09  2014     10    1   \n5       201  39.478178  -0.383541        27  1.412132e+09  2014     10    1   \n6       201  39.478178  -0.383541        27  1.412136e+09  2014     10    1   \n7       201  39.478178  -0.383541        27  1.412140e+09  2014     10    1   \n8       201  39.478178  -0.383541        27  1.412143e+09  2014     10    1   \n9       201  39.478178  -0.383541        27  1.412147e+09  2014     10    1   \n10      201  39.478178  -0.383541        27  1.412150e+09  2014     10    1   \n11      201  39.478178  -0.383541        27  1.412154e+09  2014     10    1   \n12      201  39.478178  -0.383541        27  1.412158e+09  2014     10    1   \n13      201  39.478178  -0.383541        27  1.412161e+09  2014     10    1   \n14      201  39.478178  -0.383541        27  1.412165e+09  2014     10    1   \n15      201  39.478178  -0.383541        27  1.412168e+09  2014     10    1   \n16      201  39.478178  -0.383541        27  1.412172e+09  2014     10    1   \n17      201  39.478178  -0.383541        27  1.412176e+09  2014     10    1   \n18      201  39.478178  -0.383541        27  1.412179e+09  2014     10    1   \n19      201  39.478178  -0.383541        27  1.412183e+09  2014     10    1   \n\n    hour    weekday  ...  temperature.C  relHumidity.HR  airPressure.mb  \\\n0      0  Wednesday  ...           21.3            85.0           855.3   \n1      1  Wednesday  ...           21.1            86.0          1000.6   \n2      2  Wednesday  ...           20.9            86.0           880.6   \n3      3  Wednesday  ...           20.4            88.0           859.8   \n4      4  Wednesday  ...           20.3            87.0           898.1   \n5      5  Wednesday  ...           20.1            88.0           910.6   \n6      6  Wednesday  ...           19.6            89.0           908.1   \n7      7  Wednesday  ...           19.7            89.0           987.8   \n8      8  Wednesday  ...           19.8            88.0           971.3   \n9      9  Wednesday  ...           20.1            87.0           983.1   \n10    10  Wednesday  ...           21.1            84.0           983.1   \n11    11  Wednesday  ...           22.2            82.0           884.0   \n12    12  Wednesday  ...           22.8            80.0           850.0   \n13    13  Wednesday  ...           23.1            78.0           819.7   \n14    14  Wednesday  ...           23.2            78.0           811.9   \n15    15  Wednesday  ...           23.3            76.0           997.4   \n16    16  Wednesday  ...           23.3            77.0          1084.9   \n17    17  Wednesday  ...           23.2            79.0           996.9   \n18    18  Wednesday  ...           23.1            81.0          1072.1   \n19    19  Wednesday  ...           22.9            80.0           971.0   \n\n    precipitation.l.m2  bikes_3h_ago  full_profile_3h_diff_bikes  \\\n0                  0.0           NaN                         NaN   \n1                  0.0           NaN                         NaN   \n2                  0.0           NaN                         NaN   \n3                  0.0           1.0                         NaN   \n4                  0.0           0.0                         NaN   \n5                  0.0           0.0                         NaN   \n6                  0.0           0.0                         NaN   \n7                  0.0           0.0                         NaN   \n8                  0.0           0.0                         NaN   \n9                  0.0           0.0                         NaN   \n10                 0.0           0.0                         NaN   \n11                 0.0           8.0                         NaN   \n12                 0.0           6.0                         NaN   \n13                 0.0           6.0                         NaN   \n14                 0.0           3.0                         NaN   \n15                 0.0           7.0                         NaN   \n16                 0.0           3.0                         NaN   \n17                 0.0           5.0                         NaN   \n18                 0.0           2.0                         NaN   \n19                 0.0          10.0                         NaN   \n\n    full_profile_bikes  short_profile_3h_diff_bikes  short_profile_bikes  \\\n0                  NaN                          NaN                  NaN   \n1                  NaN                          NaN                  NaN   \n2                  NaN                          NaN                  NaN   \n3                  NaN                          NaN                  NaN   \n4                  NaN                          NaN                  NaN   \n5                  NaN                          NaN                  NaN   \n6                  NaN                          NaN                  NaN   \n7                  NaN                          NaN                  NaN   \n8                  NaN                          NaN                  NaN   \n9                  NaN                          NaN                  NaN   \n10                 NaN                          NaN                  NaN   \n11                 NaN                          NaN                  NaN   \n12                 NaN                          NaN                  NaN   \n13                 NaN                          NaN                  NaN   \n14                 NaN                          NaN                  NaN   \n15                 NaN                          NaN                  NaN   \n16                 NaN                          NaN                  NaN   \n17                 NaN                          NaN                  NaN   \n18                 NaN                          NaN                  NaN   \n19                 NaN                          NaN                  NaN   \n\n    bikes  \n0     1.0  \n1     0.0  \n2     0.0  \n3     0.0  \n4     0.0  \n5     0.0  \n6     0.0  \n7     0.0  \n8     8.0  \n9     6.0  \n10    6.0  \n11    3.0  \n12    7.0  \n13    3.0  \n14    5.0  \n15    2.0  \n16   10.0  \n17   19.0  \n18   10.0  \n19    3.0  \n\n[20 rows x 25 columns]",
      "text/html": "<div>\n<style scoped>\n    .dataframe tbody tr th:only-of-type {\n        vertical-align: middle;\n    }\n\n    .dataframe tbody tr th {\n        vertical-align: top;\n    }\n\n    .dataframe thead th {\n        text-align: right;\n    }\n</style>\n<table border=\"1\" class=\"dataframe\">\n  <thead>\n    <tr style=\"text-align: right;\">\n      <th></th>\n      <th>station</th>\n      <th>latitude</th>\n      <th>longitude</th>\n      <th>numDocks</th>\n      <th>timestamp</th>\n      <th>year</th>\n      <th>month</th>\n      <th>day</th>\n      <th>hour</th>\n      <th>weekday</th>\n      <th>...</th>\n      <th>temperature.C</th>\n      <th>relHumidity.HR</th>\n      <th>airPressure.mb</th>\n      <th>precipitation.l.m2</th>\n      <th>bikes_3h_ago</th>\n      <th>full_profile_3h_diff_bikes</th>\n      <th>full_profile_bikes</th>\n      <th>short_profile_3h_diff_bikes</th>\n      <th>short_profile_bikes</th>\n      <th>bikes</th>\n    </tr>\n  </thead>\n  <tbody>\n    <tr>\n      <th>0</th>\n      <td>201</td>\n      <td>39.478178</td>\n      <td>-0.383541</td>\n      <td>27</td>\n      <td>1.412114e+09</td>\n      <td>2014</td>\n      <td>10</td>\n      <td>1</td>\n      <td>0</td>\n      <td>Wednesday</td>\n      <td>...</td>\n      <td>21.3</td>\n      <td>85.0</td>\n      <td>855.3</td>\n      <td>0.0</td>\n      <td>NaN</td>\n      <td>NaN</td>\n      <td>NaN</td>\n      <td>NaN</td>\n      <td>NaN</td>\n      <td>1.0</td>\n    </tr>\n    <tr>\n      <th>1</th>\n      <td>201</td>\n      <td>39.478178</td>\n      <td>-0.383541</td>\n      <td>27</td>\n      <td>1.412118e+09</td>\n      <td>2014</td>\n      <td>10</td>\n      <td>1</td>\n      <td>1</td>\n      <td>Wednesday</td>\n      <td>...</td>\n      <td>21.1</td>\n      <td>86.0</td>\n      <td>1000.6</td>\n      <td>0.0</td>\n      <td>NaN</td>\n      <td>NaN</td>\n      <td>NaN</td>\n      <td>NaN</td>\n      <td>NaN</td>\n      <td>0.0</td>\n    </tr>\n    <tr>\n      <th>2</th>\n      <td>201</td>\n      <td>39.478178</td>\n      <td>-0.383541</td>\n      <td>27</td>\n      <td>1.412122e+09</td>\n      <td>2014</td>\n      <td>10</td>\n      <td>1</td>\n      <td>2</td>\n      <td>Wednesday</td>\n      <td>...</td>\n      <td>20.9</td>\n      <td>86.0</td>\n      <td>880.6</td>\n      <td>0.0</td>\n      <td>NaN</td>\n      <td>NaN</td>\n      <td>NaN</td>\n      <td>NaN</td>\n      <td>NaN</td>\n      <td>0.0</td>\n    </tr>\n    <tr>\n      <th>3</th>\n      <td>201</td>\n      <td>39.478178</td>\n      <td>-0.383541</td>\n      <td>27</td>\n      <td>1.412125e+09</td>\n      <td>2014</td>\n      <td>10</td>\n      <td>1</td>\n      <td>3</td>\n      <td>Wednesday</td>\n      <td>...</td>\n      <td>20.4</td>\n      <td>88.0</td>\n      <td>859.8</td>\n      <td>0.0</td>\n      <td>1.0</td>\n      <td>NaN</td>\n      <td>NaN</td>\n      <td>NaN</td>\n      <td>NaN</td>\n      <td>0.0</td>\n    </tr>\n    <tr>\n      <th>4</th>\n      <td>201</td>\n      <td>39.478178</td>\n      <td>-0.383541</td>\n      <td>27</td>\n      <td>1.412129e+09</td>\n      <td>2014</td>\n      <td>10</td>\n      <td>1</td>\n      <td>4</td>\n      <td>Wednesday</td>\n      <td>...</td>\n      <td>20.3</td>\n      <td>87.0</td>\n      <td>898.1</td>\n      <td>0.0</td>\n      <td>0.0</td>\n      <td>NaN</td>\n      <td>NaN</td>\n      <td>NaN</td>\n      <td>NaN</td>\n      <td>0.0</td>\n    </tr>\n    <tr>\n      <th>5</th>\n      <td>201</td>\n      <td>39.478178</td>\n      <td>-0.383541</td>\n      <td>27</td>\n      <td>1.412132e+09</td>\n      <td>2014</td>\n      <td>10</td>\n      <td>1</td>\n      <td>5</td>\n      <td>Wednesday</td>\n      <td>...</td>\n      <td>20.1</td>\n      <td>88.0</td>\n      <td>910.6</td>\n      <td>0.0</td>\n      <td>0.0</td>\n      <td>NaN</td>\n      <td>NaN</td>\n      <td>NaN</td>\n      <td>NaN</td>\n      <td>0.0</td>\n    </tr>\n    <tr>\n      <th>6</th>\n      <td>201</td>\n      <td>39.478178</td>\n      <td>-0.383541</td>\n      <td>27</td>\n      <td>1.412136e+09</td>\n      <td>2014</td>\n      <td>10</td>\n      <td>1</td>\n      <td>6</td>\n      <td>Wednesday</td>\n      <td>...</td>\n      <td>19.6</td>\n      <td>89.0</td>\n      <td>908.1</td>\n      <td>0.0</td>\n      <td>0.0</td>\n      <td>NaN</td>\n      <td>NaN</td>\n      <td>NaN</td>\n      <td>NaN</td>\n      <td>0.0</td>\n    </tr>\n    <tr>\n      <th>7</th>\n      <td>201</td>\n      <td>39.478178</td>\n      <td>-0.383541</td>\n      <td>27</td>\n      <td>1.412140e+09</td>\n      <td>2014</td>\n      <td>10</td>\n      <td>1</td>\n      <td>7</td>\n      <td>Wednesday</td>\n      <td>...</td>\n      <td>19.7</td>\n      <td>89.0</td>\n      <td>987.8</td>\n      <td>0.0</td>\n      <td>0.0</td>\n      <td>NaN</td>\n      <td>NaN</td>\n      <td>NaN</td>\n      <td>NaN</td>\n      <td>0.0</td>\n    </tr>\n    <tr>\n      <th>8</th>\n      <td>201</td>\n      <td>39.478178</td>\n      <td>-0.383541</td>\n      <td>27</td>\n      <td>1.412143e+09</td>\n      <td>2014</td>\n      <td>10</td>\n      <td>1</td>\n      <td>8</td>\n      <td>Wednesday</td>\n      <td>...</td>\n      <td>19.8</td>\n      <td>88.0</td>\n      <td>971.3</td>\n      <td>0.0</td>\n      <td>0.0</td>\n      <td>NaN</td>\n      <td>NaN</td>\n      <td>NaN</td>\n      <td>NaN</td>\n      <td>8.0</td>\n    </tr>\n    <tr>\n      <th>9</th>\n      <td>201</td>\n      <td>39.478178</td>\n      <td>-0.383541</td>\n      <td>27</td>\n      <td>1.412147e+09</td>\n      <td>2014</td>\n      <td>10</td>\n      <td>1</td>\n      <td>9</td>\n      <td>Wednesday</td>\n      <td>...</td>\n      <td>20.1</td>\n      <td>87.0</td>\n      <td>983.1</td>\n      <td>0.0</td>\n      <td>0.0</td>\n      <td>NaN</td>\n      <td>NaN</td>\n      <td>NaN</td>\n      <td>NaN</td>\n      <td>6.0</td>\n    </tr>\n    <tr>\n      <th>10</th>\n      <td>201</td>\n      <td>39.478178</td>\n      <td>-0.383541</td>\n      <td>27</td>\n      <td>1.412150e+09</td>\n      <td>2014</td>\n      <td>10</td>\n      <td>1</td>\n      <td>10</td>\n      <td>Wednesday</td>\n      <td>...</td>\n      <td>21.1</td>\n      <td>84.0</td>\n      <td>983.1</td>\n      <td>0.0</td>\n      <td>0.0</td>\n      <td>NaN</td>\n      <td>NaN</td>\n      <td>NaN</td>\n      <td>NaN</td>\n      <td>6.0</td>\n    </tr>\n    <tr>\n      <th>11</th>\n      <td>201</td>\n      <td>39.478178</td>\n      <td>-0.383541</td>\n      <td>27</td>\n      <td>1.412154e+09</td>\n      <td>2014</td>\n      <td>10</td>\n      <td>1</td>\n      <td>11</td>\n      <td>Wednesday</td>\n      <td>...</td>\n      <td>22.2</td>\n      <td>82.0</td>\n      <td>884.0</td>\n      <td>0.0</td>\n      <td>8.0</td>\n      <td>NaN</td>\n      <td>NaN</td>\n      <td>NaN</td>\n      <td>NaN</td>\n      <td>3.0</td>\n    </tr>\n    <tr>\n      <th>12</th>\n      <td>201</td>\n      <td>39.478178</td>\n      <td>-0.383541</td>\n      <td>27</td>\n      <td>1.412158e+09</td>\n      <td>2014</td>\n      <td>10</td>\n      <td>1</td>\n      <td>12</td>\n      <td>Wednesday</td>\n      <td>...</td>\n      <td>22.8</td>\n      <td>80.0</td>\n      <td>850.0</td>\n      <td>0.0</td>\n      <td>6.0</td>\n      <td>NaN</td>\n      <td>NaN</td>\n      <td>NaN</td>\n      <td>NaN</td>\n      <td>7.0</td>\n    </tr>\n    <tr>\n      <th>13</th>\n      <td>201</td>\n      <td>39.478178</td>\n      <td>-0.383541</td>\n      <td>27</td>\n      <td>1.412161e+09</td>\n      <td>2014</td>\n      <td>10</td>\n      <td>1</td>\n      <td>13</td>\n      <td>Wednesday</td>\n      <td>...</td>\n      <td>23.1</td>\n      <td>78.0</td>\n      <td>819.7</td>\n      <td>0.0</td>\n      <td>6.0</td>\n      <td>NaN</td>\n      <td>NaN</td>\n      <td>NaN</td>\n      <td>NaN</td>\n      <td>3.0</td>\n    </tr>\n    <tr>\n      <th>14</th>\n      <td>201</td>\n      <td>39.478178</td>\n      <td>-0.383541</td>\n      <td>27</td>\n      <td>1.412165e+09</td>\n      <td>2014</td>\n      <td>10</td>\n      <td>1</td>\n      <td>14</td>\n      <td>Wednesday</td>\n      <td>...</td>\n      <td>23.2</td>\n      <td>78.0</td>\n      <td>811.9</td>\n      <td>0.0</td>\n      <td>3.0</td>\n      <td>NaN</td>\n      <td>NaN</td>\n      <td>NaN</td>\n      <td>NaN</td>\n      <td>5.0</td>\n    </tr>\n    <tr>\n      <th>15</th>\n      <td>201</td>\n      <td>39.478178</td>\n      <td>-0.383541</td>\n      <td>27</td>\n      <td>1.412168e+09</td>\n      <td>2014</td>\n      <td>10</td>\n      <td>1</td>\n      <td>15</td>\n      <td>Wednesday</td>\n      <td>...</td>\n      <td>23.3</td>\n      <td>76.0</td>\n      <td>997.4</td>\n      <td>0.0</td>\n      <td>7.0</td>\n      <td>NaN</td>\n      <td>NaN</td>\n      <td>NaN</td>\n      <td>NaN</td>\n      <td>2.0</td>\n    </tr>\n    <tr>\n      <th>16</th>\n      <td>201</td>\n      <td>39.478178</td>\n      <td>-0.383541</td>\n      <td>27</td>\n      <td>1.412172e+09</td>\n      <td>2014</td>\n      <td>10</td>\n      <td>1</td>\n      <td>16</td>\n      <td>Wednesday</td>\n      <td>...</td>\n      <td>23.3</td>\n      <td>77.0</td>\n      <td>1084.9</td>\n      <td>0.0</td>\n      <td>3.0</td>\n      <td>NaN</td>\n      <td>NaN</td>\n      <td>NaN</td>\n      <td>NaN</td>\n      <td>10.0</td>\n    </tr>\n    <tr>\n      <th>17</th>\n      <td>201</td>\n      <td>39.478178</td>\n      <td>-0.383541</td>\n      <td>27</td>\n      <td>1.412176e+09</td>\n      <td>2014</td>\n      <td>10</td>\n      <td>1</td>\n      <td>17</td>\n      <td>Wednesday</td>\n      <td>...</td>\n      <td>23.2</td>\n      <td>79.0</td>\n      <td>996.9</td>\n      <td>0.0</td>\n      <td>5.0</td>\n      <td>NaN</td>\n      <td>NaN</td>\n      <td>NaN</td>\n      <td>NaN</td>\n      <td>19.0</td>\n    </tr>\n    <tr>\n      <th>18</th>\n      <td>201</td>\n      <td>39.478178</td>\n      <td>-0.383541</td>\n      <td>27</td>\n      <td>1.412179e+09</td>\n      <td>2014</td>\n      <td>10</td>\n      <td>1</td>\n      <td>18</td>\n      <td>Wednesday</td>\n      <td>...</td>\n      <td>23.1</td>\n      <td>81.0</td>\n      <td>1072.1</td>\n      <td>0.0</td>\n      <td>2.0</td>\n      <td>NaN</td>\n      <td>NaN</td>\n      <td>NaN</td>\n      <td>NaN</td>\n      <td>10.0</td>\n    </tr>\n    <tr>\n      <th>19</th>\n      <td>201</td>\n      <td>39.478178</td>\n      <td>-0.383541</td>\n      <td>27</td>\n      <td>1.412183e+09</td>\n      <td>2014</td>\n      <td>10</td>\n      <td>1</td>\n      <td>19</td>\n      <td>Wednesday</td>\n      <td>...</td>\n      <td>22.9</td>\n      <td>80.0</td>\n      <td>971.0</td>\n      <td>0.0</td>\n      <td>10.0</td>\n      <td>NaN</td>\n      <td>NaN</td>\n      <td>NaN</td>\n      <td>NaN</td>\n      <td>3.0</td>\n    </tr>\n  </tbody>\n</table>\n<p>20 rows × 25 columns</p>\n</div>"
     },
     "execution_count": 43,
     "metadata": {},
     "output_type": "execute_result"
    }
   ],
   "source": [
    "data_201[:20]"
   ],
   "metadata": {
    "collapsed": false,
    "pycharm": {
     "name": "#%%\n"
    }
   }
  },
  {
   "cell_type": "markdown",
   "source": [
    "#First conclusions:\n",
    "Goal: Predict the number of bikes available at each hour. Which makes it possible to predict 3h in advance\n",
    "\n",
    "ML:\n",
    "- Seems to be a regression problem -> probably first algorithms to try\n",
    "\n",
    "Data:\n",
    "- There are NA data fields that need to be handled\n",
    "- Not sure yet what full_profile3h_diff_bikes, full_profile_bikes, short_profile_3h_diff_bikes and short_profile_bikes means\n",
    "- Need some further investigation of what features are most correlated to no of bikes\n",
    "\n",
    "Evaluation:\n",
    "Mean absolute error between the predicted and true value"
   ],
   "metadata": {
    "collapsed": false,
    "pycharm": {
     "name": "#%% md\n"
    }
   }
  },
  {
   "cell_type": "markdown",
   "source": [],
   "metadata": {
    "collapsed": false
   }
  },
  {
   "cell_type": "code",
   "execution_count": 10,
   "outputs": [
    {
     "data": {
      "text/plain": "     station   latitude  longitude  numDocks     timestamp  year  month  day  \\\n0        206  39.472030  -0.370965        24  1.412114e+09  2014     10    1   \n1        206  39.472030  -0.370965        24  1.412118e+09  2014     10    1   \n2        206  39.472030  -0.370965        24  1.412122e+09  2014     10    1   \n3        206  39.472030  -0.370965        24  1.412125e+09  2014     10    1   \n4        206  39.472030  -0.370965        24  1.412129e+09  2014     10    1   \n..       ...        ...        ...       ...           ...   ...    ...  ...   \n740      208  39.469056  -0.375728        34  1.414778e+09  2014     10   31   \n741      208  39.469056  -0.375728        34  1.414782e+09  2014     10   31   \n742      208  39.469056  -0.375728        34  1.414786e+09  2014     10   31   \n743      208  39.469056  -0.375728        34  1.414789e+09  2014     10   31   \n744      208  39.469056  -0.375728        34  1.414793e+09  2014     10   31   \n\n     hour    weekday  ...  temperature.C  relHumidity.HR  airPressure.mb  \\\n0       0  Wednesday  ...           21.3            85.0           855.3   \n1       1  Wednesday  ...           21.1            86.0          1000.6   \n2       2  Wednesday  ...           20.9            86.0           880.6   \n3       3  Wednesday  ...           20.4            88.0           859.8   \n4       4  Wednesday  ...           20.3            87.0           898.1   \n..    ...        ...  ...            ...             ...             ...   \n740    19     Friday  ...           20.2            80.0          1023.5   \n741    20     Friday  ...           20.2            82.0          1023.9   \n742    21     Friday  ...           20.0            83.0          1024.0   \n743    22     Friday  ...           19.3            84.0          1024.4   \n744    23     Friday  ...           19.1            86.0          1024.1   \n\n     precipitation.l.m2  bikes_3h_ago  full_profile_3h_diff_bikes  \\\n0                   0.0           NaN                         NaN   \n1                   0.0           NaN                         NaN   \n2                   0.0           NaN                         NaN   \n3                   0.0           0.0                         NaN   \n4                   0.0           0.0                         NaN   \n..                  ...           ...                         ...   \n740                 0.0          12.0                        0.25   \n741                 0.0           9.0                       -2.25   \n742                 0.0           6.0                       -1.75   \n743                 0.0           6.0                       -6.75   \n744                 0.0           7.0                       -3.50   \n\n     full_profile_bikes  short_profile_3h_diff_bikes  short_profile_bikes  \\\n0                   NaN                          NaN                  NaN   \n1                   NaN                          NaN                  NaN   \n2                   NaN                          NaN                  NaN   \n3                   NaN                          NaN                  NaN   \n4                   NaN                          NaN                  NaN   \n..                  ...                          ...                  ...   \n740               10.00                         0.25                10.00   \n741                6.50                        -2.25                 6.50   \n742                6.00                        -1.75                 6.00   \n743                3.25                        -6.75                 3.25   \n744                3.00                        -3.50                 3.00   \n\n     bikes  \n0      0.0  \n1      0.0  \n2      0.0  \n3      0.0  \n4      0.0  \n..     ...  \n740    6.0  \n741    7.0  \n742    6.0  \n743    5.0  \n744   11.0  \n\n[55875 rows x 25 columns]",
      "text/html": "<div>\n<style scoped>\n    .dataframe tbody tr th:only-of-type {\n        vertical-align: middle;\n    }\n\n    .dataframe tbody tr th {\n        vertical-align: top;\n    }\n\n    .dataframe thead th {\n        text-align: right;\n    }\n</style>\n<table border=\"1\" class=\"dataframe\">\n  <thead>\n    <tr style=\"text-align: right;\">\n      <th></th>\n      <th>station</th>\n      <th>latitude</th>\n      <th>longitude</th>\n      <th>numDocks</th>\n      <th>timestamp</th>\n      <th>year</th>\n      <th>month</th>\n      <th>day</th>\n      <th>hour</th>\n      <th>weekday</th>\n      <th>...</th>\n      <th>temperature.C</th>\n      <th>relHumidity.HR</th>\n      <th>airPressure.mb</th>\n      <th>precipitation.l.m2</th>\n      <th>bikes_3h_ago</th>\n      <th>full_profile_3h_diff_bikes</th>\n      <th>full_profile_bikes</th>\n      <th>short_profile_3h_diff_bikes</th>\n      <th>short_profile_bikes</th>\n      <th>bikes</th>\n    </tr>\n  </thead>\n  <tbody>\n    <tr>\n      <th>0</th>\n      <td>206</td>\n      <td>39.472030</td>\n      <td>-0.370965</td>\n      <td>24</td>\n      <td>1.412114e+09</td>\n      <td>2014</td>\n      <td>10</td>\n      <td>1</td>\n      <td>0</td>\n      <td>Wednesday</td>\n      <td>...</td>\n      <td>21.3</td>\n      <td>85.0</td>\n      <td>855.3</td>\n      <td>0.0</td>\n      <td>NaN</td>\n      <td>NaN</td>\n      <td>NaN</td>\n      <td>NaN</td>\n      <td>NaN</td>\n      <td>0.0</td>\n    </tr>\n    <tr>\n      <th>1</th>\n      <td>206</td>\n      <td>39.472030</td>\n      <td>-0.370965</td>\n      <td>24</td>\n      <td>1.412118e+09</td>\n      <td>2014</td>\n      <td>10</td>\n      <td>1</td>\n      <td>1</td>\n      <td>Wednesday</td>\n      <td>...</td>\n      <td>21.1</td>\n      <td>86.0</td>\n      <td>1000.6</td>\n      <td>0.0</td>\n      <td>NaN</td>\n      <td>NaN</td>\n      <td>NaN</td>\n      <td>NaN</td>\n      <td>NaN</td>\n      <td>0.0</td>\n    </tr>\n    <tr>\n      <th>2</th>\n      <td>206</td>\n      <td>39.472030</td>\n      <td>-0.370965</td>\n      <td>24</td>\n      <td>1.412122e+09</td>\n      <td>2014</td>\n      <td>10</td>\n      <td>1</td>\n      <td>2</td>\n      <td>Wednesday</td>\n      <td>...</td>\n      <td>20.9</td>\n      <td>86.0</td>\n      <td>880.6</td>\n      <td>0.0</td>\n      <td>NaN</td>\n      <td>NaN</td>\n      <td>NaN</td>\n      <td>NaN</td>\n      <td>NaN</td>\n      <td>0.0</td>\n    </tr>\n    <tr>\n      <th>3</th>\n      <td>206</td>\n      <td>39.472030</td>\n      <td>-0.370965</td>\n      <td>24</td>\n      <td>1.412125e+09</td>\n      <td>2014</td>\n      <td>10</td>\n      <td>1</td>\n      <td>3</td>\n      <td>Wednesday</td>\n      <td>...</td>\n      <td>20.4</td>\n      <td>88.0</td>\n      <td>859.8</td>\n      <td>0.0</td>\n      <td>0.0</td>\n      <td>NaN</td>\n      <td>NaN</td>\n      <td>NaN</td>\n      <td>NaN</td>\n      <td>0.0</td>\n    </tr>\n    <tr>\n      <th>4</th>\n      <td>206</td>\n      <td>39.472030</td>\n      <td>-0.370965</td>\n      <td>24</td>\n      <td>1.412129e+09</td>\n      <td>2014</td>\n      <td>10</td>\n      <td>1</td>\n      <td>4</td>\n      <td>Wednesday</td>\n      <td>...</td>\n      <td>20.3</td>\n      <td>87.0</td>\n      <td>898.1</td>\n      <td>0.0</td>\n      <td>0.0</td>\n      <td>NaN</td>\n      <td>NaN</td>\n      <td>NaN</td>\n      <td>NaN</td>\n      <td>0.0</td>\n    </tr>\n    <tr>\n      <th>...</th>\n      <td>...</td>\n      <td>...</td>\n      <td>...</td>\n      <td>...</td>\n      <td>...</td>\n      <td>...</td>\n      <td>...</td>\n      <td>...</td>\n      <td>...</td>\n      <td>...</td>\n      <td>...</td>\n      <td>...</td>\n      <td>...</td>\n      <td>...</td>\n      <td>...</td>\n      <td>...</td>\n      <td>...</td>\n      <td>...</td>\n      <td>...</td>\n      <td>...</td>\n      <td>...</td>\n    </tr>\n    <tr>\n      <th>740</th>\n      <td>208</td>\n      <td>39.469056</td>\n      <td>-0.375728</td>\n      <td>34</td>\n      <td>1.414778e+09</td>\n      <td>2014</td>\n      <td>10</td>\n      <td>31</td>\n      <td>19</td>\n      <td>Friday</td>\n      <td>...</td>\n      <td>20.2</td>\n      <td>80.0</td>\n      <td>1023.5</td>\n      <td>0.0</td>\n      <td>12.0</td>\n      <td>0.25</td>\n      <td>10.00</td>\n      <td>0.25</td>\n      <td>10.00</td>\n      <td>6.0</td>\n    </tr>\n    <tr>\n      <th>741</th>\n      <td>208</td>\n      <td>39.469056</td>\n      <td>-0.375728</td>\n      <td>34</td>\n      <td>1.414782e+09</td>\n      <td>2014</td>\n      <td>10</td>\n      <td>31</td>\n      <td>20</td>\n      <td>Friday</td>\n      <td>...</td>\n      <td>20.2</td>\n      <td>82.0</td>\n      <td>1023.9</td>\n      <td>0.0</td>\n      <td>9.0</td>\n      <td>-2.25</td>\n      <td>6.50</td>\n      <td>-2.25</td>\n      <td>6.50</td>\n      <td>7.0</td>\n    </tr>\n    <tr>\n      <th>742</th>\n      <td>208</td>\n      <td>39.469056</td>\n      <td>-0.375728</td>\n      <td>34</td>\n      <td>1.414786e+09</td>\n      <td>2014</td>\n      <td>10</td>\n      <td>31</td>\n      <td>21</td>\n      <td>Friday</td>\n      <td>...</td>\n      <td>20.0</td>\n      <td>83.0</td>\n      <td>1024.0</td>\n      <td>0.0</td>\n      <td>6.0</td>\n      <td>-1.75</td>\n      <td>6.00</td>\n      <td>-1.75</td>\n      <td>6.00</td>\n      <td>6.0</td>\n    </tr>\n    <tr>\n      <th>743</th>\n      <td>208</td>\n      <td>39.469056</td>\n      <td>-0.375728</td>\n      <td>34</td>\n      <td>1.414789e+09</td>\n      <td>2014</td>\n      <td>10</td>\n      <td>31</td>\n      <td>22</td>\n      <td>Friday</td>\n      <td>...</td>\n      <td>19.3</td>\n      <td>84.0</td>\n      <td>1024.4</td>\n      <td>0.0</td>\n      <td>6.0</td>\n      <td>-6.75</td>\n      <td>3.25</td>\n      <td>-6.75</td>\n      <td>3.25</td>\n      <td>5.0</td>\n    </tr>\n    <tr>\n      <th>744</th>\n      <td>208</td>\n      <td>39.469056</td>\n      <td>-0.375728</td>\n      <td>34</td>\n      <td>1.414793e+09</td>\n      <td>2014</td>\n      <td>10</td>\n      <td>31</td>\n      <td>23</td>\n      <td>Friday</td>\n      <td>...</td>\n      <td>19.1</td>\n      <td>86.0</td>\n      <td>1024.1</td>\n      <td>0.0</td>\n      <td>7.0</td>\n      <td>-3.50</td>\n      <td>3.00</td>\n      <td>-3.50</td>\n      <td>3.00</td>\n      <td>11.0</td>\n    </tr>\n  </tbody>\n</table>\n<p>55875 rows × 25 columns</p>\n</div>"
     },
     "execution_count": 10,
     "metadata": {},
     "output_type": "execute_result"
    }
   ],
   "source": [
    "#reading all csv files for training into one dataframe\n",
    "import glob\n",
    "import os\n",
    "df = pd.concat(map(pd.read_csv, glob.glob(os.path.join('../Data/Train', \"*.csv\"))))\n",
    "    df"
   ],
   "metadata": {
    "collapsed": false,
    "pycharm": {
     "name": "#%%\n"
    }
   }
  },
  {
   "cell_type": "code",
   "execution_count": 11,
   "outputs": [
    {
     "data": {
      "text/plain": "(55875, 25)"
     },
     "execution_count": 11,
     "metadata": {},
     "output_type": "execute_result"
    }
   ],
   "source": [
    "df.shape"
   ],
   "metadata": {
    "collapsed": false,
    "pycharm": {
     "name": "#%%\n"
    }
   }
  },
  {
   "cell_type": "code",
   "execution_count": 16,
   "outputs": [
    {
     "name": "stdout",
     "output_type": "stream",
     "text": [
      "<class 'pandas.core.frame.DataFrame'>\n",
      "Int64Index: 55875 entries, 0 to 744\n",
      "Data columns (total 25 columns):\n",
      " #   Column                       Non-Null Count  Dtype  \n",
      "---  ------                       --------------  -----  \n",
      " 0   station                      55875 non-null  int64  \n",
      " 1   latitude                     55875 non-null  float64\n",
      " 2   longitude                    55875 non-null  float64\n",
      " 3   numDocks                     55875 non-null  int64  \n",
      " 4   timestamp                    55875 non-null  float64\n",
      " 5   year                         55875 non-null  int64  \n",
      " 6   month                        55875 non-null  int64  \n",
      " 7   day                          55875 non-null  int64  \n",
      " 8   hour                         55875 non-null  int64  \n",
      " 9   weekday                      55875 non-null  object \n",
      " 10  weekhour                     55875 non-null  int64  \n",
      " 11  isHoliday                    55875 non-null  int64  \n",
      " 12  windMaxSpeed.m.s             55800 non-null  float64\n",
      " 13  windMeanSpeed.m.s            55800 non-null  float64\n",
      " 14  windDirection.grades         55500 non-null  float64\n",
      " 15  temperature.C                55800 non-null  float64\n",
      " 16  relHumidity.HR               55800 non-null  float64\n",
      " 17  airPressure.mb               55800 non-null  float64\n",
      " 18  precipitation.l.m2           55800 non-null  float64\n",
      " 19  bikes_3h_ago                 55575 non-null  float64\n",
      " 20  full_profile_3h_diff_bikes   43050 non-null  float64\n",
      " 21  full_profile_bikes           43275 non-null  float64\n",
      " 22  short_profile_3h_diff_bikes  43050 non-null  float64\n",
      " 23  short_profile_bikes          43275 non-null  float64\n",
      " 24  bikes                        55800 non-null  float64\n",
      "dtypes: float64(16), int64(8), object(1)\n",
      "memory usage: 11.1+ MB\n"
     ]
    }
   ],
   "source": [
    "df.bikes\n",
    "df.info()\n"
   ],
   "metadata": {
    "collapsed": false,
    "pycharm": {
     "name": "#%%\n"
    }
   }
  },
  {
   "cell_type": "code",
   "execution_count": 23,
   "outputs": [
    {
     "data": {
      "text/plain": "     station   latitude  longitude  numDocks     timestamp  year  month  day  \\\n603      206  39.472030  -0.370965        24  1.414285e+09  2014     10   26   \n603      231  39.478354  -0.347366        20  1.414285e+09  2014     10   26   \n603      264  39.495034  -0.382369        15  1.414285e+09  2014     10   26   \n603      253  39.485811  -0.396678        20  1.414285e+09  2014     10   26   \n603      269  39.450256  -0.403665        20  1.414285e+09  2014     10   26   \n..       ...        ...        ...       ...           ...   ...    ...  ...   \n603      267  39.462808  -0.405060        20  1.414285e+09  2014     10   26   \n603      241  39.469844  -0.329645        15  1.414285e+09  2014     10   26   \n603      214  39.467333  -0.365119        20  1.414285e+09  2014     10   26   \n603      223  39.467747  -0.358505        20  1.414285e+09  2014     10   26   \n603      208  39.469056  -0.375728        34  1.414285e+09  2014     10   26   \n\n     hour weekday  ...  temperature.C  relHumidity.HR  airPressure.mb  \\\n603     2  Sunday  ...            NaN             NaN             NaN   \n603     2  Sunday  ...            NaN             NaN             NaN   \n603     2  Sunday  ...            NaN             NaN             NaN   \n603     2  Sunday  ...            NaN             NaN             NaN   \n603     2  Sunday  ...            NaN             NaN             NaN   \n..    ...     ...  ...            ...             ...             ...   \n603     2  Sunday  ...            NaN             NaN             NaN   \n603     2  Sunday  ...            NaN             NaN             NaN   \n603     2  Sunday  ...            NaN             NaN             NaN   \n603     2  Sunday  ...            NaN             NaN             NaN   \n603     2  Sunday  ...            NaN             NaN             NaN   \n\n     precipitation.l.m2  bikes_3h_ago  full_profile_3h_diff_bikes  \\\n603                 NaN           1.0                       -2.75   \n603                 NaN          14.0                        0.50   \n603                 NaN          10.0                        1.00   \n603                 NaN           4.0                        0.25   \n603                 NaN           6.0                        0.25   \n..                  ...           ...                         ...   \n603                 NaN           1.0                        0.25   \n603                 NaN           6.0                       -1.50   \n603                 NaN           9.0                      -11.50   \n603                 NaN           1.0                       -4.25   \n603                 NaN           2.0                       -8.25   \n\n     full_profile_bikes  short_profile_3h_diff_bikes  short_profile_bikes  \\\n603                4.75                        -2.75                 4.75   \n603               12.75                         0.50                12.75   \n603                7.00                         1.00                 7.00   \n603                5.75                         0.25                 5.75   \n603               13.00                         0.25                13.00   \n..                  ...                          ...                  ...   \n603                9.50                         0.25                 9.50   \n603                5.75                        -1.50                 5.75   \n603                3.50                       -11.50                 3.50   \n603                3.25                        -4.25                 3.25   \n603                5.00                        -8.25                 5.00   \n\n     bikes  \n603    NaN  \n603    NaN  \n603    NaN  \n603    NaN  \n603    NaN  \n..     ...  \n603    NaN  \n603    NaN  \n603    NaN  \n603    NaN  \n603    NaN  \n\n[75 rows x 25 columns]",
      "text/html": "<div>\n<style scoped>\n    .dataframe tbody tr th:only-of-type {\n        vertical-align: middle;\n    }\n\n    .dataframe tbody tr th {\n        vertical-align: top;\n    }\n\n    .dataframe thead th {\n        text-align: right;\n    }\n</style>\n<table border=\"1\" class=\"dataframe\">\n  <thead>\n    <tr style=\"text-align: right;\">\n      <th></th>\n      <th>station</th>\n      <th>latitude</th>\n      <th>longitude</th>\n      <th>numDocks</th>\n      <th>timestamp</th>\n      <th>year</th>\n      <th>month</th>\n      <th>day</th>\n      <th>hour</th>\n      <th>weekday</th>\n      <th>...</th>\n      <th>temperature.C</th>\n      <th>relHumidity.HR</th>\n      <th>airPressure.mb</th>\n      <th>precipitation.l.m2</th>\n      <th>bikes_3h_ago</th>\n      <th>full_profile_3h_diff_bikes</th>\n      <th>full_profile_bikes</th>\n      <th>short_profile_3h_diff_bikes</th>\n      <th>short_profile_bikes</th>\n      <th>bikes</th>\n    </tr>\n  </thead>\n  <tbody>\n    <tr>\n      <th>603</th>\n      <td>206</td>\n      <td>39.472030</td>\n      <td>-0.370965</td>\n      <td>24</td>\n      <td>1.414285e+09</td>\n      <td>2014</td>\n      <td>10</td>\n      <td>26</td>\n      <td>2</td>\n      <td>Sunday</td>\n      <td>...</td>\n      <td>NaN</td>\n      <td>NaN</td>\n      <td>NaN</td>\n      <td>NaN</td>\n      <td>1.0</td>\n      <td>-2.75</td>\n      <td>4.75</td>\n      <td>-2.75</td>\n      <td>4.75</td>\n      <td>NaN</td>\n    </tr>\n    <tr>\n      <th>603</th>\n      <td>231</td>\n      <td>39.478354</td>\n      <td>-0.347366</td>\n      <td>20</td>\n      <td>1.414285e+09</td>\n      <td>2014</td>\n      <td>10</td>\n      <td>26</td>\n      <td>2</td>\n      <td>Sunday</td>\n      <td>...</td>\n      <td>NaN</td>\n      <td>NaN</td>\n      <td>NaN</td>\n      <td>NaN</td>\n      <td>14.0</td>\n      <td>0.50</td>\n      <td>12.75</td>\n      <td>0.50</td>\n      <td>12.75</td>\n      <td>NaN</td>\n    </tr>\n    <tr>\n      <th>603</th>\n      <td>264</td>\n      <td>39.495034</td>\n      <td>-0.382369</td>\n      <td>15</td>\n      <td>1.414285e+09</td>\n      <td>2014</td>\n      <td>10</td>\n      <td>26</td>\n      <td>2</td>\n      <td>Sunday</td>\n      <td>...</td>\n      <td>NaN</td>\n      <td>NaN</td>\n      <td>NaN</td>\n      <td>NaN</td>\n      <td>10.0</td>\n      <td>1.00</td>\n      <td>7.00</td>\n      <td>1.00</td>\n      <td>7.00</td>\n      <td>NaN</td>\n    </tr>\n    <tr>\n      <th>603</th>\n      <td>253</td>\n      <td>39.485811</td>\n      <td>-0.396678</td>\n      <td>20</td>\n      <td>1.414285e+09</td>\n      <td>2014</td>\n      <td>10</td>\n      <td>26</td>\n      <td>2</td>\n      <td>Sunday</td>\n      <td>...</td>\n      <td>NaN</td>\n      <td>NaN</td>\n      <td>NaN</td>\n      <td>NaN</td>\n      <td>4.0</td>\n      <td>0.25</td>\n      <td>5.75</td>\n      <td>0.25</td>\n      <td>5.75</td>\n      <td>NaN</td>\n    </tr>\n    <tr>\n      <th>603</th>\n      <td>269</td>\n      <td>39.450256</td>\n      <td>-0.403665</td>\n      <td>20</td>\n      <td>1.414285e+09</td>\n      <td>2014</td>\n      <td>10</td>\n      <td>26</td>\n      <td>2</td>\n      <td>Sunday</td>\n      <td>...</td>\n      <td>NaN</td>\n      <td>NaN</td>\n      <td>NaN</td>\n      <td>NaN</td>\n      <td>6.0</td>\n      <td>0.25</td>\n      <td>13.00</td>\n      <td>0.25</td>\n      <td>13.00</td>\n      <td>NaN</td>\n    </tr>\n    <tr>\n      <th>...</th>\n      <td>...</td>\n      <td>...</td>\n      <td>...</td>\n      <td>...</td>\n      <td>...</td>\n      <td>...</td>\n      <td>...</td>\n      <td>...</td>\n      <td>...</td>\n      <td>...</td>\n      <td>...</td>\n      <td>...</td>\n      <td>...</td>\n      <td>...</td>\n      <td>...</td>\n      <td>...</td>\n      <td>...</td>\n      <td>...</td>\n      <td>...</td>\n      <td>...</td>\n      <td>...</td>\n    </tr>\n    <tr>\n      <th>603</th>\n      <td>267</td>\n      <td>39.462808</td>\n      <td>-0.405060</td>\n      <td>20</td>\n      <td>1.414285e+09</td>\n      <td>2014</td>\n      <td>10</td>\n      <td>26</td>\n      <td>2</td>\n      <td>Sunday</td>\n      <td>...</td>\n      <td>NaN</td>\n      <td>NaN</td>\n      <td>NaN</td>\n      <td>NaN</td>\n      <td>1.0</td>\n      <td>0.25</td>\n      <td>9.50</td>\n      <td>0.25</td>\n      <td>9.50</td>\n      <td>NaN</td>\n    </tr>\n    <tr>\n      <th>603</th>\n      <td>241</td>\n      <td>39.469844</td>\n      <td>-0.329645</td>\n      <td>15</td>\n      <td>1.414285e+09</td>\n      <td>2014</td>\n      <td>10</td>\n      <td>26</td>\n      <td>2</td>\n      <td>Sunday</td>\n      <td>...</td>\n      <td>NaN</td>\n      <td>NaN</td>\n      <td>NaN</td>\n      <td>NaN</td>\n      <td>6.0</td>\n      <td>-1.50</td>\n      <td>5.75</td>\n      <td>-1.50</td>\n      <td>5.75</td>\n      <td>NaN</td>\n    </tr>\n    <tr>\n      <th>603</th>\n      <td>214</td>\n      <td>39.467333</td>\n      <td>-0.365119</td>\n      <td>20</td>\n      <td>1.414285e+09</td>\n      <td>2014</td>\n      <td>10</td>\n      <td>26</td>\n      <td>2</td>\n      <td>Sunday</td>\n      <td>...</td>\n      <td>NaN</td>\n      <td>NaN</td>\n      <td>NaN</td>\n      <td>NaN</td>\n      <td>9.0</td>\n      <td>-11.50</td>\n      <td>3.50</td>\n      <td>-11.50</td>\n      <td>3.50</td>\n      <td>NaN</td>\n    </tr>\n    <tr>\n      <th>603</th>\n      <td>223</td>\n      <td>39.467747</td>\n      <td>-0.358505</td>\n      <td>20</td>\n      <td>1.414285e+09</td>\n      <td>2014</td>\n      <td>10</td>\n      <td>26</td>\n      <td>2</td>\n      <td>Sunday</td>\n      <td>...</td>\n      <td>NaN</td>\n      <td>NaN</td>\n      <td>NaN</td>\n      <td>NaN</td>\n      <td>1.0</td>\n      <td>-4.25</td>\n      <td>3.25</td>\n      <td>-4.25</td>\n      <td>3.25</td>\n      <td>NaN</td>\n    </tr>\n    <tr>\n      <th>603</th>\n      <td>208</td>\n      <td>39.469056</td>\n      <td>-0.375728</td>\n      <td>34</td>\n      <td>1.414285e+09</td>\n      <td>2014</td>\n      <td>10</td>\n      <td>26</td>\n      <td>2</td>\n      <td>Sunday</td>\n      <td>...</td>\n      <td>NaN</td>\n      <td>NaN</td>\n      <td>NaN</td>\n      <td>NaN</td>\n      <td>2.0</td>\n      <td>-8.25</td>\n      <td>5.00</td>\n      <td>-8.25</td>\n      <td>5.00</td>\n      <td>NaN</td>\n    </tr>\n  </tbody>\n</table>\n<p>75 rows × 25 columns</p>\n</div>"
     },
     "execution_count": 23,
     "metadata": {},
     "output_type": "execute_result"
    }
   ],
   "source": [
    "#75 rows don't have a label! -> Probably best to remove those for training\n",
    "df[df['bikes'].isnull()]"
   ],
   "metadata": {
    "collapsed": false,
    "pycharm": {
     "name": "#%%\n"
    }
   }
  },
  {
   "cell_type": "code",
   "execution_count": 24,
   "outputs": [
    {
     "data": {
      "text/plain": "     station   latitude  longitude  numDocks     timestamp  year  month  day  \\\n0        206  39.472030  -0.370965        24  1.412114e+09  2014     10    1   \n1        206  39.472030  -0.370965        24  1.412118e+09  2014     10    1   \n2        206  39.472030  -0.370965        24  1.412122e+09  2014     10    1   \n3        206  39.472030  -0.370965        24  1.412125e+09  2014     10    1   \n4        206  39.472030  -0.370965        24  1.412129e+09  2014     10    1   \n..       ...        ...        ...       ...           ...   ...    ...  ...   \n218      208  39.469056  -0.375728        34  1.412899e+09  2014     10   10   \n222      208  39.469056  -0.375728        34  1.412914e+09  2014     10   10   \n334      208  39.469056  -0.375728        34  1.413317e+09  2014     10   14   \n603      208  39.469056  -0.375728        34  1.414285e+09  2014     10   26   \n606      208  39.469056  -0.375728        34  1.414296e+09  2014     10   26   \n\n     hour    weekday  ...  temperature.C  relHumidity.HR  airPressure.mb  \\\n0       0  Wednesday  ...           21.3            85.0           855.3   \n1       1  Wednesday  ...           21.1            86.0          1000.6   \n2       2  Wednesday  ...           20.9            86.0           880.6   \n3       3  Wednesday  ...           20.4            88.0           859.8   \n4       4  Wednesday  ...           20.3            87.0           898.1   \n..    ...        ...  ...            ...             ...             ...   \n218     2     Friday  ...           21.7            78.0          1011.2   \n222     6     Friday  ...           19.7            75.0          1010.7   \n334    22    Tuesday  ...           19.8            58.0          1008.6   \n603     2     Sunday  ...            NaN             NaN             NaN   \n606     5     Sunday  ...           18.8            49.0          1021.4   \n\n     precipitation.l.m2  bikes_3h_ago  full_profile_3h_diff_bikes  \\\n0                   0.0           NaN                         NaN   \n1                   0.0           NaN                         NaN   \n2                   0.0           NaN                         NaN   \n3                   0.0           0.0                         NaN   \n4                   0.0           0.0                         NaN   \n..                  ...           ...                         ...   \n218                 0.0           0.0                    0.000000   \n222                 0.0           0.0                    0.000000   \n334                 0.0           4.0                  -11.000000   \n603                 NaN           2.0                   -8.250000   \n606                 0.0           NaN                   -6.666667   \n\n     full_profile_bikes  short_profile_3h_diff_bikes  short_profile_bikes  \\\n0                   NaN                          NaN                  NaN   \n1                   NaN                          NaN                  NaN   \n2                   NaN                          NaN                  NaN   \n3                   NaN                          NaN                  NaN   \n4                   NaN                          NaN                  NaN   \n..                  ...                          ...                  ...   \n218                 0.0                     0.000000                  0.0   \n222                 0.0                     0.000000                  0.0   \n334                 2.0                   -11.000000                  2.0   \n603                 5.0                    -8.250000                  5.0   \n606                 0.0                    -6.666667                  0.0   \n\n     bikes  \n0      0.0  \n1      0.0  \n2      0.0  \n3      0.0  \n4      0.0  \n..     ...  \n218    0.0  \n222    2.0  \n334    0.0  \n603    NaN  \n606    1.0  \n\n[13275 rows x 25 columns]",
      "text/html": "<div>\n<style scoped>\n    .dataframe tbody tr th:only-of-type {\n        vertical-align: middle;\n    }\n\n    .dataframe tbody tr th {\n        vertical-align: top;\n    }\n\n    .dataframe thead th {\n        text-align: right;\n    }\n</style>\n<table border=\"1\" class=\"dataframe\">\n  <thead>\n    <tr style=\"text-align: right;\">\n      <th></th>\n      <th>station</th>\n      <th>latitude</th>\n      <th>longitude</th>\n      <th>numDocks</th>\n      <th>timestamp</th>\n      <th>year</th>\n      <th>month</th>\n      <th>day</th>\n      <th>hour</th>\n      <th>weekday</th>\n      <th>...</th>\n      <th>temperature.C</th>\n      <th>relHumidity.HR</th>\n      <th>airPressure.mb</th>\n      <th>precipitation.l.m2</th>\n      <th>bikes_3h_ago</th>\n      <th>full_profile_3h_diff_bikes</th>\n      <th>full_profile_bikes</th>\n      <th>short_profile_3h_diff_bikes</th>\n      <th>short_profile_bikes</th>\n      <th>bikes</th>\n    </tr>\n  </thead>\n  <tbody>\n    <tr>\n      <th>0</th>\n      <td>206</td>\n      <td>39.472030</td>\n      <td>-0.370965</td>\n      <td>24</td>\n      <td>1.412114e+09</td>\n      <td>2014</td>\n      <td>10</td>\n      <td>1</td>\n      <td>0</td>\n      <td>Wednesday</td>\n      <td>...</td>\n      <td>21.3</td>\n      <td>85.0</td>\n      <td>855.3</td>\n      <td>0.0</td>\n      <td>NaN</td>\n      <td>NaN</td>\n      <td>NaN</td>\n      <td>NaN</td>\n      <td>NaN</td>\n      <td>0.0</td>\n    </tr>\n    <tr>\n      <th>1</th>\n      <td>206</td>\n      <td>39.472030</td>\n      <td>-0.370965</td>\n      <td>24</td>\n      <td>1.412118e+09</td>\n      <td>2014</td>\n      <td>10</td>\n      <td>1</td>\n      <td>1</td>\n      <td>Wednesday</td>\n      <td>...</td>\n      <td>21.1</td>\n      <td>86.0</td>\n      <td>1000.6</td>\n      <td>0.0</td>\n      <td>NaN</td>\n      <td>NaN</td>\n      <td>NaN</td>\n      <td>NaN</td>\n      <td>NaN</td>\n      <td>0.0</td>\n    </tr>\n    <tr>\n      <th>2</th>\n      <td>206</td>\n      <td>39.472030</td>\n      <td>-0.370965</td>\n      <td>24</td>\n      <td>1.412122e+09</td>\n      <td>2014</td>\n      <td>10</td>\n      <td>1</td>\n      <td>2</td>\n      <td>Wednesday</td>\n      <td>...</td>\n      <td>20.9</td>\n      <td>86.0</td>\n      <td>880.6</td>\n      <td>0.0</td>\n      <td>NaN</td>\n      <td>NaN</td>\n      <td>NaN</td>\n      <td>NaN</td>\n      <td>NaN</td>\n      <td>0.0</td>\n    </tr>\n    <tr>\n      <th>3</th>\n      <td>206</td>\n      <td>39.472030</td>\n      <td>-0.370965</td>\n      <td>24</td>\n      <td>1.412125e+09</td>\n      <td>2014</td>\n      <td>10</td>\n      <td>1</td>\n      <td>3</td>\n      <td>Wednesday</td>\n      <td>...</td>\n      <td>20.4</td>\n      <td>88.0</td>\n      <td>859.8</td>\n      <td>0.0</td>\n      <td>0.0</td>\n      <td>NaN</td>\n      <td>NaN</td>\n      <td>NaN</td>\n      <td>NaN</td>\n      <td>0.0</td>\n    </tr>\n    <tr>\n      <th>4</th>\n      <td>206</td>\n      <td>39.472030</td>\n      <td>-0.370965</td>\n      <td>24</td>\n      <td>1.412129e+09</td>\n      <td>2014</td>\n      <td>10</td>\n      <td>1</td>\n      <td>4</td>\n      <td>Wednesday</td>\n      <td>...</td>\n      <td>20.3</td>\n      <td>87.0</td>\n      <td>898.1</td>\n      <td>0.0</td>\n      <td>0.0</td>\n      <td>NaN</td>\n      <td>NaN</td>\n      <td>NaN</td>\n      <td>NaN</td>\n      <td>0.0</td>\n    </tr>\n    <tr>\n      <th>...</th>\n      <td>...</td>\n      <td>...</td>\n      <td>...</td>\n      <td>...</td>\n      <td>...</td>\n      <td>...</td>\n      <td>...</td>\n      <td>...</td>\n      <td>...</td>\n      <td>...</td>\n      <td>...</td>\n      <td>...</td>\n      <td>...</td>\n      <td>...</td>\n      <td>...</td>\n      <td>...</td>\n      <td>...</td>\n      <td>...</td>\n      <td>...</td>\n      <td>...</td>\n      <td>...</td>\n    </tr>\n    <tr>\n      <th>218</th>\n      <td>208</td>\n      <td>39.469056</td>\n      <td>-0.375728</td>\n      <td>34</td>\n      <td>1.412899e+09</td>\n      <td>2014</td>\n      <td>10</td>\n      <td>10</td>\n      <td>2</td>\n      <td>Friday</td>\n      <td>...</td>\n      <td>21.7</td>\n      <td>78.0</td>\n      <td>1011.2</td>\n      <td>0.0</td>\n      <td>0.0</td>\n      <td>0.000000</td>\n      <td>0.0</td>\n      <td>0.000000</td>\n      <td>0.0</td>\n      <td>0.0</td>\n    </tr>\n    <tr>\n      <th>222</th>\n      <td>208</td>\n      <td>39.469056</td>\n      <td>-0.375728</td>\n      <td>34</td>\n      <td>1.412914e+09</td>\n      <td>2014</td>\n      <td>10</td>\n      <td>10</td>\n      <td>6</td>\n      <td>Friday</td>\n      <td>...</td>\n      <td>19.7</td>\n      <td>75.0</td>\n      <td>1010.7</td>\n      <td>0.0</td>\n      <td>0.0</td>\n      <td>0.000000</td>\n      <td>0.0</td>\n      <td>0.000000</td>\n      <td>0.0</td>\n      <td>2.0</td>\n    </tr>\n    <tr>\n      <th>334</th>\n      <td>208</td>\n      <td>39.469056</td>\n      <td>-0.375728</td>\n      <td>34</td>\n      <td>1.413317e+09</td>\n      <td>2014</td>\n      <td>10</td>\n      <td>14</td>\n      <td>22</td>\n      <td>Tuesday</td>\n      <td>...</td>\n      <td>19.8</td>\n      <td>58.0</td>\n      <td>1008.6</td>\n      <td>0.0</td>\n      <td>4.0</td>\n      <td>-11.000000</td>\n      <td>2.0</td>\n      <td>-11.000000</td>\n      <td>2.0</td>\n      <td>0.0</td>\n    </tr>\n    <tr>\n      <th>603</th>\n      <td>208</td>\n      <td>39.469056</td>\n      <td>-0.375728</td>\n      <td>34</td>\n      <td>1.414285e+09</td>\n      <td>2014</td>\n      <td>10</td>\n      <td>26</td>\n      <td>2</td>\n      <td>Sunday</td>\n      <td>...</td>\n      <td>NaN</td>\n      <td>NaN</td>\n      <td>NaN</td>\n      <td>NaN</td>\n      <td>2.0</td>\n      <td>-8.250000</td>\n      <td>5.0</td>\n      <td>-8.250000</td>\n      <td>5.0</td>\n      <td>NaN</td>\n    </tr>\n    <tr>\n      <th>606</th>\n      <td>208</td>\n      <td>39.469056</td>\n      <td>-0.375728</td>\n      <td>34</td>\n      <td>1.414296e+09</td>\n      <td>2014</td>\n      <td>10</td>\n      <td>26</td>\n      <td>5</td>\n      <td>Sunday</td>\n      <td>...</td>\n      <td>18.8</td>\n      <td>49.0</td>\n      <td>1021.4</td>\n      <td>0.0</td>\n      <td>NaN</td>\n      <td>-6.666667</td>\n      <td>0.0</td>\n      <td>-6.666667</td>\n      <td>0.0</td>\n      <td>1.0</td>\n    </tr>\n  </tbody>\n</table>\n<p>13275 rows × 25 columns</p>\n</div>"
     },
     "execution_count": 24,
     "metadata": {},
     "output_type": "execute_result"
    }
   ],
   "source": [
    "#most rows have some NaN values\n",
    "is_NaN = df.isnull()\n",
    "row_has_NaN = is_NaN.any(axis=1)\n",
    "rows_with_NaN = df[row_has_NaN]\n",
    "rows_with_NaN"
   ],
   "metadata": {
    "collapsed": false,
    "pycharm": {
     "name": "#%%\n"
    }
   }
  },
  {
   "cell_type": "code",
   "execution_count": 25,
   "outputs": [
    {
     "data": {
      "text/plain": "Empty DataFrame\nColumns: [station, latitude, longitude, numDocks, timestamp, year, month, day, hour, weekday, weekhour, isHoliday, windMaxSpeed.m.s, windMeanSpeed.m.s, windDirection.grades, temperature.C, relHumidity.HR, airPressure.mb, precipitation.l.m2, bikes_3h_ago, full_profile_3h_diff_bikes, full_profile_bikes, short_profile_3h_diff_bikes, short_profile_bikes, bikes]\nIndex: []\n\n[0 rows x 25 columns]",
      "text/html": "<div>\n<style scoped>\n    .dataframe tbody tr th:only-of-type {\n        vertical-align: middle;\n    }\n\n    .dataframe tbody tr th {\n        vertical-align: top;\n    }\n\n    .dataframe thead th {\n        text-align: right;\n    }\n</style>\n<table border=\"1\" class=\"dataframe\">\n  <thead>\n    <tr style=\"text-align: right;\">\n      <th></th>\n      <th>station</th>\n      <th>latitude</th>\n      <th>longitude</th>\n      <th>numDocks</th>\n      <th>timestamp</th>\n      <th>year</th>\n      <th>month</th>\n      <th>day</th>\n      <th>hour</th>\n      <th>weekday</th>\n      <th>...</th>\n      <th>temperature.C</th>\n      <th>relHumidity.HR</th>\n      <th>airPressure.mb</th>\n      <th>precipitation.l.m2</th>\n      <th>bikes_3h_ago</th>\n      <th>full_profile_3h_diff_bikes</th>\n      <th>full_profile_bikes</th>\n      <th>short_profile_3h_diff_bikes</th>\n      <th>short_profile_bikes</th>\n      <th>bikes</th>\n    </tr>\n  </thead>\n  <tbody>\n  </tbody>\n</table>\n<p>0 rows × 25 columns</p>\n</div>"
     },
     "execution_count": 25,
     "metadata": {},
     "output_type": "execute_result"
    }
   ],
   "source": [
    "#all stations have docks\n",
    "df[df['numDocks'].isnull()]"
   ],
   "metadata": {
    "collapsed": false,
    "pycharm": {
     "name": "#%%\n"
    }
   }
  },
  {
   "cell_type": "code",
   "execution_count": 26,
   "outputs": [
    {
     "data": {
      "text/plain": "     station   latitude  longitude  numDocks     timestamp  year  month  day  \\\n0        206  39.472030  -0.370965        24  1.412114e+09  2014     10    1   \n1        206  39.472030  -0.370965        24  1.412118e+09  2014     10    1   \n2        206  39.472030  -0.370965        24  1.412122e+09  2014     10    1   \n3        206  39.472030  -0.370965        24  1.412125e+09  2014     10    1   \n4        206  39.472030  -0.370965        24  1.412129e+09  2014     10    1   \n..       ...        ...        ...       ...           ...   ...    ...  ...   \n740      208  39.469056  -0.375728        34  1.414778e+09  2014     10   31   \n741      208  39.469056  -0.375728        34  1.414782e+09  2014     10   31   \n742      208  39.469056  -0.375728        34  1.414786e+09  2014     10   31   \n743      208  39.469056  -0.375728        34  1.414789e+09  2014     10   31   \n744      208  39.469056  -0.375728        34  1.414793e+09  2014     10   31   \n\n     hour    weekday  ...  temperature.C  relHumidity.HR  airPressure.mb  \\\n0       0  Wednesday  ...           21.3            85.0           855.3   \n1       1  Wednesday  ...           21.1            86.0          1000.6   \n2       2  Wednesday  ...           20.9            86.0           880.6   \n3       3  Wednesday  ...           20.4            88.0           859.8   \n4       4  Wednesday  ...           20.3            87.0           898.1   \n..    ...        ...  ...            ...             ...             ...   \n740    19     Friday  ...           20.2            80.0          1023.5   \n741    20     Friday  ...           20.2            82.0          1023.9   \n742    21     Friday  ...           20.0            83.0          1024.0   \n743    22     Friday  ...           19.3            84.0          1024.4   \n744    23     Friday  ...           19.1            86.0          1024.1   \n\n     precipitation.l.m2  bikes_3h_ago  full_profile_3h_diff_bikes  \\\n0                   0.0           NaN                         NaN   \n1                   0.0           NaN                         NaN   \n2                   0.0           NaN                         NaN   \n3                   0.0           0.0                         NaN   \n4                   0.0           0.0                         NaN   \n..                  ...           ...                         ...   \n740                 0.0          12.0                        0.25   \n741                 0.0           9.0                       -2.25   \n742                 0.0           6.0                       -1.75   \n743                 0.0           6.0                       -6.75   \n744                 0.0           7.0                       -3.50   \n\n     full_profile_bikes  short_profile_3h_diff_bikes  short_profile_bikes  \\\n0                   NaN                          NaN                  NaN   \n1                   NaN                          NaN                  NaN   \n2                   NaN                          NaN                  NaN   \n3                   NaN                          NaN                  NaN   \n4                   NaN                          NaN                  NaN   \n..                  ...                          ...                  ...   \n740               10.00                         0.25                10.00   \n741                6.50                        -2.25                 6.50   \n742                6.00                        -1.75                 6.00   \n743                3.25                        -6.75                 3.25   \n744                3.00                        -3.50                 3.00   \n\n     bikes  \n0      0.0  \n1      0.0  \n2      0.0  \n3      0.0  \n4      0.0  \n..     ...  \n740    6.0  \n741    7.0  \n742    6.0  \n743    5.0  \n744   11.0  \n\n[55800 rows x 25 columns]",
      "text/html": "<div>\n<style scoped>\n    .dataframe tbody tr th:only-of-type {\n        vertical-align: middle;\n    }\n\n    .dataframe tbody tr th {\n        vertical-align: top;\n    }\n\n    .dataframe thead th {\n        text-align: right;\n    }\n</style>\n<table border=\"1\" class=\"dataframe\">\n  <thead>\n    <tr style=\"text-align: right;\">\n      <th></th>\n      <th>station</th>\n      <th>latitude</th>\n      <th>longitude</th>\n      <th>numDocks</th>\n      <th>timestamp</th>\n      <th>year</th>\n      <th>month</th>\n      <th>day</th>\n      <th>hour</th>\n      <th>weekday</th>\n      <th>...</th>\n      <th>temperature.C</th>\n      <th>relHumidity.HR</th>\n      <th>airPressure.mb</th>\n      <th>precipitation.l.m2</th>\n      <th>bikes_3h_ago</th>\n      <th>full_profile_3h_diff_bikes</th>\n      <th>full_profile_bikes</th>\n      <th>short_profile_3h_diff_bikes</th>\n      <th>short_profile_bikes</th>\n      <th>bikes</th>\n    </tr>\n  </thead>\n  <tbody>\n    <tr>\n      <th>0</th>\n      <td>206</td>\n      <td>39.472030</td>\n      <td>-0.370965</td>\n      <td>24</td>\n      <td>1.412114e+09</td>\n      <td>2014</td>\n      <td>10</td>\n      <td>1</td>\n      <td>0</td>\n      <td>Wednesday</td>\n      <td>...</td>\n      <td>21.3</td>\n      <td>85.0</td>\n      <td>855.3</td>\n      <td>0.0</td>\n      <td>NaN</td>\n      <td>NaN</td>\n      <td>NaN</td>\n      <td>NaN</td>\n      <td>NaN</td>\n      <td>0.0</td>\n    </tr>\n    <tr>\n      <th>1</th>\n      <td>206</td>\n      <td>39.472030</td>\n      <td>-0.370965</td>\n      <td>24</td>\n      <td>1.412118e+09</td>\n      <td>2014</td>\n      <td>10</td>\n      <td>1</td>\n      <td>1</td>\n      <td>Wednesday</td>\n      <td>...</td>\n      <td>21.1</td>\n      <td>86.0</td>\n      <td>1000.6</td>\n      <td>0.0</td>\n      <td>NaN</td>\n      <td>NaN</td>\n      <td>NaN</td>\n      <td>NaN</td>\n      <td>NaN</td>\n      <td>0.0</td>\n    </tr>\n    <tr>\n      <th>2</th>\n      <td>206</td>\n      <td>39.472030</td>\n      <td>-0.370965</td>\n      <td>24</td>\n      <td>1.412122e+09</td>\n      <td>2014</td>\n      <td>10</td>\n      <td>1</td>\n      <td>2</td>\n      <td>Wednesday</td>\n      <td>...</td>\n      <td>20.9</td>\n      <td>86.0</td>\n      <td>880.6</td>\n      <td>0.0</td>\n      <td>NaN</td>\n      <td>NaN</td>\n      <td>NaN</td>\n      <td>NaN</td>\n      <td>NaN</td>\n      <td>0.0</td>\n    </tr>\n    <tr>\n      <th>3</th>\n      <td>206</td>\n      <td>39.472030</td>\n      <td>-0.370965</td>\n      <td>24</td>\n      <td>1.412125e+09</td>\n      <td>2014</td>\n      <td>10</td>\n      <td>1</td>\n      <td>3</td>\n      <td>Wednesday</td>\n      <td>...</td>\n      <td>20.4</td>\n      <td>88.0</td>\n      <td>859.8</td>\n      <td>0.0</td>\n      <td>0.0</td>\n      <td>NaN</td>\n      <td>NaN</td>\n      <td>NaN</td>\n      <td>NaN</td>\n      <td>0.0</td>\n    </tr>\n    <tr>\n      <th>4</th>\n      <td>206</td>\n      <td>39.472030</td>\n      <td>-0.370965</td>\n      <td>24</td>\n      <td>1.412129e+09</td>\n      <td>2014</td>\n      <td>10</td>\n      <td>1</td>\n      <td>4</td>\n      <td>Wednesday</td>\n      <td>...</td>\n      <td>20.3</td>\n      <td>87.0</td>\n      <td>898.1</td>\n      <td>0.0</td>\n      <td>0.0</td>\n      <td>NaN</td>\n      <td>NaN</td>\n      <td>NaN</td>\n      <td>NaN</td>\n      <td>0.0</td>\n    </tr>\n    <tr>\n      <th>...</th>\n      <td>...</td>\n      <td>...</td>\n      <td>...</td>\n      <td>...</td>\n      <td>...</td>\n      <td>...</td>\n      <td>...</td>\n      <td>...</td>\n      <td>...</td>\n      <td>...</td>\n      <td>...</td>\n      <td>...</td>\n      <td>...</td>\n      <td>...</td>\n      <td>...</td>\n      <td>...</td>\n      <td>...</td>\n      <td>...</td>\n      <td>...</td>\n      <td>...</td>\n      <td>...</td>\n    </tr>\n    <tr>\n      <th>740</th>\n      <td>208</td>\n      <td>39.469056</td>\n      <td>-0.375728</td>\n      <td>34</td>\n      <td>1.414778e+09</td>\n      <td>2014</td>\n      <td>10</td>\n      <td>31</td>\n      <td>19</td>\n      <td>Friday</td>\n      <td>...</td>\n      <td>20.2</td>\n      <td>80.0</td>\n      <td>1023.5</td>\n      <td>0.0</td>\n      <td>12.0</td>\n      <td>0.25</td>\n      <td>10.00</td>\n      <td>0.25</td>\n      <td>10.00</td>\n      <td>6.0</td>\n    </tr>\n    <tr>\n      <th>741</th>\n      <td>208</td>\n      <td>39.469056</td>\n      <td>-0.375728</td>\n      <td>34</td>\n      <td>1.414782e+09</td>\n      <td>2014</td>\n      <td>10</td>\n      <td>31</td>\n      <td>20</td>\n      <td>Friday</td>\n      <td>...</td>\n      <td>20.2</td>\n      <td>82.0</td>\n      <td>1023.9</td>\n      <td>0.0</td>\n      <td>9.0</td>\n      <td>-2.25</td>\n      <td>6.50</td>\n      <td>-2.25</td>\n      <td>6.50</td>\n      <td>7.0</td>\n    </tr>\n    <tr>\n      <th>742</th>\n      <td>208</td>\n      <td>39.469056</td>\n      <td>-0.375728</td>\n      <td>34</td>\n      <td>1.414786e+09</td>\n      <td>2014</td>\n      <td>10</td>\n      <td>31</td>\n      <td>21</td>\n      <td>Friday</td>\n      <td>...</td>\n      <td>20.0</td>\n      <td>83.0</td>\n      <td>1024.0</td>\n      <td>0.0</td>\n      <td>6.0</td>\n      <td>-1.75</td>\n      <td>6.00</td>\n      <td>-1.75</td>\n      <td>6.00</td>\n      <td>6.0</td>\n    </tr>\n    <tr>\n      <th>743</th>\n      <td>208</td>\n      <td>39.469056</td>\n      <td>-0.375728</td>\n      <td>34</td>\n      <td>1.414789e+09</td>\n      <td>2014</td>\n      <td>10</td>\n      <td>31</td>\n      <td>22</td>\n      <td>Friday</td>\n      <td>...</td>\n      <td>19.3</td>\n      <td>84.0</td>\n      <td>1024.4</td>\n      <td>0.0</td>\n      <td>6.0</td>\n      <td>-6.75</td>\n      <td>3.25</td>\n      <td>-6.75</td>\n      <td>3.25</td>\n      <td>5.0</td>\n    </tr>\n    <tr>\n      <th>744</th>\n      <td>208</td>\n      <td>39.469056</td>\n      <td>-0.375728</td>\n      <td>34</td>\n      <td>1.414793e+09</td>\n      <td>2014</td>\n      <td>10</td>\n      <td>31</td>\n      <td>23</td>\n      <td>Friday</td>\n      <td>...</td>\n      <td>19.1</td>\n      <td>86.0</td>\n      <td>1024.1</td>\n      <td>0.0</td>\n      <td>7.0</td>\n      <td>-3.50</td>\n      <td>3.00</td>\n      <td>-3.50</td>\n      <td>3.00</td>\n      <td>11.0</td>\n    </tr>\n  </tbody>\n</table>\n<p>55800 rows × 25 columns</p>\n</div>"
     },
     "execution_count": 26,
     "metadata": {},
     "output_type": "execute_result"
    }
   ],
   "source": [
    "df.dropna(subset=['bikes'])"
   ],
   "metadata": {
    "collapsed": false,
    "pycharm": {
     "name": "#%%\n"
    }
   }
  },
  {
   "cell_type": "code",
   "execution_count": 27,
   "outputs": [
    {
     "data": {
      "text/plain": "     station   latitude  longitude  numDocks     timestamp  year  month  day  \\\n0        206  39.472030  -0.370965        24  1.412114e+09  2014     10    1   \n1        206  39.472030  -0.370965        24  1.412118e+09  2014     10    1   \n2        206  39.472030  -0.370965        24  1.412122e+09  2014     10    1   \n606      206  39.472030  -0.370965        24  1.414296e+09  2014     10   26   \n0        231  39.478354  -0.347366        20  1.412114e+09  2014     10    1   \n..       ...        ...        ...       ...           ...   ...    ...  ...   \n606      223  39.467747  -0.358505        20  1.414296e+09  2014     10   26   \n0        208  39.469056  -0.375728        34  1.412114e+09  2014     10    1   \n1        208  39.469056  -0.375728        34  1.412118e+09  2014     10    1   \n2        208  39.469056  -0.375728        34  1.412122e+09  2014     10    1   \n606      208  39.469056  -0.375728        34  1.414296e+09  2014     10   26   \n\n     hour    weekday  ...  temperature.C  relHumidity.HR  airPressure.mb  \\\n0       0  Wednesday  ...           21.3            85.0           855.3   \n1       1  Wednesday  ...           21.1            86.0          1000.6   \n2       2  Wednesday  ...           20.9            86.0           880.6   \n606     5     Sunday  ...           18.8            49.0          1021.4   \n0       0  Wednesday  ...           21.3            85.0           855.3   \n..    ...        ...  ...            ...             ...             ...   \n606     5     Sunday  ...           18.8            49.0          1021.4   \n0       0  Wednesday  ...           21.3            85.0           855.3   \n1       1  Wednesday  ...           21.1            86.0          1000.6   \n2       2  Wednesday  ...           20.9            86.0           880.6   \n606     5     Sunday  ...           18.8            49.0          1021.4   \n\n     precipitation.l.m2  bikes_3h_ago  full_profile_3h_diff_bikes  \\\n0                   0.0           NaN                         NaN   \n1                   0.0           NaN                         NaN   \n2                   0.0           NaN                         NaN   \n606                 0.0           NaN                   -3.333333   \n0                   0.0           NaN                         NaN   \n..                  ...           ...                         ...   \n606                 0.0           NaN                    1.333333   \n0                   0.0           NaN                         NaN   \n1                   0.0           NaN                         NaN   \n2                   0.0           NaN                         NaN   \n606                 0.0           NaN                   -6.666667   \n\n     full_profile_bikes  short_profile_3h_diff_bikes  short_profile_bikes  \\\n0                   NaN                          NaN                  NaN   \n1                   NaN                          NaN                  NaN   \n2                   NaN                          NaN                  NaN   \n606            3.000000                    -3.333333             3.000000   \n0                   NaN                          NaN                  NaN   \n..                  ...                          ...                  ...   \n606            4.333333                     1.333333             4.333333   \n0                   NaN                          NaN                  NaN   \n1                   NaN                          NaN                  NaN   \n2                   NaN                          NaN                  NaN   \n606            0.000000                    -6.666667             0.000000   \n\n     bikes  \n0      0.0  \n1      0.0  \n2      0.0  \n606    1.0  \n0      5.0  \n..     ...  \n606    1.0  \n0      0.0  \n1      0.0  \n2      0.0  \n606    1.0  \n\n[300 rows x 25 columns]",
      "text/html": "<div>\n<style scoped>\n    .dataframe tbody tr th:only-of-type {\n        vertical-align: middle;\n    }\n\n    .dataframe tbody tr th {\n        vertical-align: top;\n    }\n\n    .dataframe thead th {\n        text-align: right;\n    }\n</style>\n<table border=\"1\" class=\"dataframe\">\n  <thead>\n    <tr style=\"text-align: right;\">\n      <th></th>\n      <th>station</th>\n      <th>latitude</th>\n      <th>longitude</th>\n      <th>numDocks</th>\n      <th>timestamp</th>\n      <th>year</th>\n      <th>month</th>\n      <th>day</th>\n      <th>hour</th>\n      <th>weekday</th>\n      <th>...</th>\n      <th>temperature.C</th>\n      <th>relHumidity.HR</th>\n      <th>airPressure.mb</th>\n      <th>precipitation.l.m2</th>\n      <th>bikes_3h_ago</th>\n      <th>full_profile_3h_diff_bikes</th>\n      <th>full_profile_bikes</th>\n      <th>short_profile_3h_diff_bikes</th>\n      <th>short_profile_bikes</th>\n      <th>bikes</th>\n    </tr>\n  </thead>\n  <tbody>\n    <tr>\n      <th>0</th>\n      <td>206</td>\n      <td>39.472030</td>\n      <td>-0.370965</td>\n      <td>24</td>\n      <td>1.412114e+09</td>\n      <td>2014</td>\n      <td>10</td>\n      <td>1</td>\n      <td>0</td>\n      <td>Wednesday</td>\n      <td>...</td>\n      <td>21.3</td>\n      <td>85.0</td>\n      <td>855.3</td>\n      <td>0.0</td>\n      <td>NaN</td>\n      <td>NaN</td>\n      <td>NaN</td>\n      <td>NaN</td>\n      <td>NaN</td>\n      <td>0.0</td>\n    </tr>\n    <tr>\n      <th>1</th>\n      <td>206</td>\n      <td>39.472030</td>\n      <td>-0.370965</td>\n      <td>24</td>\n      <td>1.412118e+09</td>\n      <td>2014</td>\n      <td>10</td>\n      <td>1</td>\n      <td>1</td>\n      <td>Wednesday</td>\n      <td>...</td>\n      <td>21.1</td>\n      <td>86.0</td>\n      <td>1000.6</td>\n      <td>0.0</td>\n      <td>NaN</td>\n      <td>NaN</td>\n      <td>NaN</td>\n      <td>NaN</td>\n      <td>NaN</td>\n      <td>0.0</td>\n    </tr>\n    <tr>\n      <th>2</th>\n      <td>206</td>\n      <td>39.472030</td>\n      <td>-0.370965</td>\n      <td>24</td>\n      <td>1.412122e+09</td>\n      <td>2014</td>\n      <td>10</td>\n      <td>1</td>\n      <td>2</td>\n      <td>Wednesday</td>\n      <td>...</td>\n      <td>20.9</td>\n      <td>86.0</td>\n      <td>880.6</td>\n      <td>0.0</td>\n      <td>NaN</td>\n      <td>NaN</td>\n      <td>NaN</td>\n      <td>NaN</td>\n      <td>NaN</td>\n      <td>0.0</td>\n    </tr>\n    <tr>\n      <th>606</th>\n      <td>206</td>\n      <td>39.472030</td>\n      <td>-0.370965</td>\n      <td>24</td>\n      <td>1.414296e+09</td>\n      <td>2014</td>\n      <td>10</td>\n      <td>26</td>\n      <td>5</td>\n      <td>Sunday</td>\n      <td>...</td>\n      <td>18.8</td>\n      <td>49.0</td>\n      <td>1021.4</td>\n      <td>0.0</td>\n      <td>NaN</td>\n      <td>-3.333333</td>\n      <td>3.000000</td>\n      <td>-3.333333</td>\n      <td>3.000000</td>\n      <td>1.0</td>\n    </tr>\n    <tr>\n      <th>0</th>\n      <td>231</td>\n      <td>39.478354</td>\n      <td>-0.347366</td>\n      <td>20</td>\n      <td>1.412114e+09</td>\n      <td>2014</td>\n      <td>10</td>\n      <td>1</td>\n      <td>0</td>\n      <td>Wednesday</td>\n      <td>...</td>\n      <td>21.3</td>\n      <td>85.0</td>\n      <td>855.3</td>\n      <td>0.0</td>\n      <td>NaN</td>\n      <td>NaN</td>\n      <td>NaN</td>\n      <td>NaN</td>\n      <td>NaN</td>\n      <td>5.0</td>\n    </tr>\n    <tr>\n      <th>...</th>\n      <td>...</td>\n      <td>...</td>\n      <td>...</td>\n      <td>...</td>\n      <td>...</td>\n      <td>...</td>\n      <td>...</td>\n      <td>...</td>\n      <td>...</td>\n      <td>...</td>\n      <td>...</td>\n      <td>...</td>\n      <td>...</td>\n      <td>...</td>\n      <td>...</td>\n      <td>...</td>\n      <td>...</td>\n      <td>...</td>\n      <td>...</td>\n      <td>...</td>\n      <td>...</td>\n    </tr>\n    <tr>\n      <th>606</th>\n      <td>223</td>\n      <td>39.467747</td>\n      <td>-0.358505</td>\n      <td>20</td>\n      <td>1.414296e+09</td>\n      <td>2014</td>\n      <td>10</td>\n      <td>26</td>\n      <td>5</td>\n      <td>Sunday</td>\n      <td>...</td>\n      <td>18.8</td>\n      <td>49.0</td>\n      <td>1021.4</td>\n      <td>0.0</td>\n      <td>NaN</td>\n      <td>1.333333</td>\n      <td>4.333333</td>\n      <td>1.333333</td>\n      <td>4.333333</td>\n      <td>1.0</td>\n    </tr>\n    <tr>\n      <th>0</th>\n      <td>208</td>\n      <td>39.469056</td>\n      <td>-0.375728</td>\n      <td>34</td>\n      <td>1.412114e+09</td>\n      <td>2014</td>\n      <td>10</td>\n      <td>1</td>\n      <td>0</td>\n      <td>Wednesday</td>\n      <td>...</td>\n      <td>21.3</td>\n      <td>85.0</td>\n      <td>855.3</td>\n      <td>0.0</td>\n      <td>NaN</td>\n      <td>NaN</td>\n      <td>NaN</td>\n      <td>NaN</td>\n      <td>NaN</td>\n      <td>0.0</td>\n    </tr>\n    <tr>\n      <th>1</th>\n      <td>208</td>\n      <td>39.469056</td>\n      <td>-0.375728</td>\n      <td>34</td>\n      <td>1.412118e+09</td>\n      <td>2014</td>\n      <td>10</td>\n      <td>1</td>\n      <td>1</td>\n      <td>Wednesday</td>\n      <td>...</td>\n      <td>21.1</td>\n      <td>86.0</td>\n      <td>1000.6</td>\n      <td>0.0</td>\n      <td>NaN</td>\n      <td>NaN</td>\n      <td>NaN</td>\n      <td>NaN</td>\n      <td>NaN</td>\n      <td>0.0</td>\n    </tr>\n    <tr>\n      <th>2</th>\n      <td>208</td>\n      <td>39.469056</td>\n      <td>-0.375728</td>\n      <td>34</td>\n      <td>1.412122e+09</td>\n      <td>2014</td>\n      <td>10</td>\n      <td>1</td>\n      <td>2</td>\n      <td>Wednesday</td>\n      <td>...</td>\n      <td>20.9</td>\n      <td>86.0</td>\n      <td>880.6</td>\n      <td>0.0</td>\n      <td>NaN</td>\n      <td>NaN</td>\n      <td>NaN</td>\n      <td>NaN</td>\n      <td>NaN</td>\n      <td>0.0</td>\n    </tr>\n    <tr>\n      <th>606</th>\n      <td>208</td>\n      <td>39.469056</td>\n      <td>-0.375728</td>\n      <td>34</td>\n      <td>1.414296e+09</td>\n      <td>2014</td>\n      <td>10</td>\n      <td>26</td>\n      <td>5</td>\n      <td>Sunday</td>\n      <td>...</td>\n      <td>18.8</td>\n      <td>49.0</td>\n      <td>1021.4</td>\n      <td>0.0</td>\n      <td>NaN</td>\n      <td>-6.666667</td>\n      <td>0.000000</td>\n      <td>-6.666667</td>\n      <td>0.000000</td>\n      <td>1.0</td>\n    </tr>\n  </tbody>\n</table>\n<p>300 rows × 25 columns</p>\n</div>"
     },
     "execution_count": 27,
     "metadata": {},
     "output_type": "execute_result"
    }
   ],
   "source": [
    "# figure out how many rows don't have bikes from 3h ago \n",
    "df[df.bikes_3h_ago.isnull()]"
   ],
   "metadata": {
    "collapsed": false,
    "pycharm": {
     "name": "#%%\n"
    }
   }
  },
  {
   "cell_type": "code",
   "execution_count": 39,
   "outputs": [
    {
     "name": "stdout",
     "output_type": "stream",
     "text": [
      "All Stations:\n",
      " [201, 202, 203, 204, 205, 206, 207, 208, 209, 210, 211, 212, 213, 214, 215, 216, 217, 218, 219, 220, 221, 222, 223, 224, 225, 226, 227, 228, 229, 230, 231, 232, 233, 234, 235, 236, 237, 238, 239, 240, 241, 242, 243, 244, 245, 246, 247, 248, 249, 250, 251, 252, 253, 254, 255, 256, 257, 258, 259, 260, 261, 262, 263, 264, 265, 266, 267, 268, 269, 270, 271, 272, 273, 274, 275]\n",
      "Stations that don't have nan in bikes:\n",
      " [201, 202, 203, 204, 205, 206, 207, 208, 209, 210, 211, 212, 213, 214, 215, 216, 217, 218, 219, 220, 221, 222, 223, 224, 225, 226, 227, 228, 229, 230, 231, 232, 233, 234, 235, 236, 237, 238, 239, 240, 241, 242, 243, 244, 245, 246, 247, 248, 249, 250, 251, 252, 253, 254, 255, 256, 257, 258, 259, 260, 261, 262, 263, 264, 265, 266, 267, 268, 269, 270, 271, 272, 273, 274, 275]\n",
      "Stations that have nan in bikes:\n",
      " [201, 202, 203, 204, 205, 206, 207, 208, 209, 210, 211, 212, 213, 214, 215, 216, 217, 218, 219, 220, 221, 222, 223, 224, 225, 226, 227, 228, 229, 230, 231, 232, 233, 234, 235, 236, 237, 238, 239, 240, 241, 242, 243, 244, 245, 246, 247, 248, 249, 250, 251, 252, 253, 254, 255, 256, 257, 258, 259, 260, 261, 262, 263, 264, 265, 266, 267, 268, 269, 270, 271, 272, 273, 274, 275]\n"
     ]
    }
   ],
   "source": [
    "# find station that has all bikes\n",
    "stations_with_all_bikes = df[~df['bikes'].isna()]\n",
    "stations_with_nan_in_bikes = df[df['bikes'].isna()]\n",
    "print(f'All Stations:\\n {sorted(set(stations_with_all_bikes[\"station\"]))}')\n",
    "print(f'Stations that don\\'t have nan in bikes:\\n {sorted(set(stations_with_all_bikes[\"station\"]))}')\n",
    "print(f'Stations that have nan in bikes:\\n {sorted(set(stations_with_nan_in_bikes[\"station\"]))}')\n",
    "\n",
    "# all station have one bike null"
   ],
   "metadata": {
    "collapsed": false,
    "pycharm": {
     "name": "#%%\n"
    }
   }
  },
  {
   "cell_type": "code",
   "execution_count": 41,
   "outputs": [
    {
     "name": "stdout",
     "output_type": "stream",
     "text": [
      "Number of bikes for station 201: 745\n",
      "Number of bikes for station 202: 745\n",
      "Number of bikes for station 203: 745\n",
      "Number of bikes for station 204: 745\n",
      "Number of bikes for station 205: 745\n",
      "Number of bikes for station 206: 745\n",
      "Number of bikes for station 207: 745\n",
      "Number of bikes for station 208: 745\n",
      "Number of bikes for station 209: 745\n",
      "Number of bikes for station 210: 745\n",
      "Number of bikes for station 211: 745\n",
      "Number of bikes for station 212: 745\n",
      "Number of bikes for station 213: 745\n",
      "Number of bikes for station 214: 745\n",
      "Number of bikes for station 215: 745\n",
      "Number of bikes for station 216: 745\n",
      "Number of bikes for station 217: 745\n",
      "Number of bikes for station 218: 745\n",
      "Number of bikes for station 219: 745\n",
      "Number of bikes for station 220: 745\n",
      "Number of bikes for station 221: 745\n",
      "Number of bikes for station 222: 745\n",
      "Number of bikes for station 223: 745\n",
      "Number of bikes for station 224: 745\n",
      "Number of bikes for station 225: 745\n",
      "Number of bikes for station 226: 745\n",
      "Number of bikes for station 227: 745\n",
      "Number of bikes for station 228: 745\n",
      "Number of bikes for station 229: 745\n",
      "Number of bikes for station 230: 745\n",
      "Number of bikes for station 231: 745\n",
      "Number of bikes for station 232: 745\n",
      "Number of bikes for station 233: 745\n",
      "Number of bikes for station 234: 745\n",
      "Number of bikes for station 235: 745\n",
      "Number of bikes for station 236: 745\n",
      "Number of bikes for station 237: 745\n",
      "Number of bikes for station 238: 745\n",
      "Number of bikes for station 239: 745\n",
      "Number of bikes for station 240: 745\n",
      "Number of bikes for station 241: 745\n",
      "Number of bikes for station 242: 745\n",
      "Number of bikes for station 243: 745\n",
      "Number of bikes for station 244: 745\n",
      "Number of bikes for station 245: 745\n",
      "Number of bikes for station 246: 745\n",
      "Number of bikes for station 247: 745\n",
      "Number of bikes for station 248: 745\n",
      "Number of bikes for station 249: 745\n",
      "Number of bikes for station 250: 745\n",
      "Number of bikes for station 251: 745\n",
      "Number of bikes for station 252: 745\n",
      "Number of bikes for station 253: 745\n",
      "Number of bikes for station 254: 745\n",
      "Number of bikes for station 255: 745\n",
      "Number of bikes for station 256: 745\n",
      "Number of bikes for station 257: 745\n",
      "Number of bikes for station 258: 745\n",
      "Number of bikes for station 259: 745\n",
      "Number of bikes for station 260: 745\n",
      "Number of bikes for station 261: 745\n",
      "Number of bikes for station 262: 745\n",
      "Number of bikes for station 263: 745\n",
      "Number of bikes for station 264: 745\n",
      "Number of bikes for station 265: 745\n",
      "Number of bikes for station 266: 745\n",
      "Number of bikes for station 267: 745\n",
      "Number of bikes for station 268: 745\n",
      "Number of bikes for station 269: 745\n",
      "Number of bikes for station 270: 745\n",
      "Number of bikes for station 271: 745\n",
      "Number of bikes for station 272: 745\n",
      "Number of bikes for station 273: 745\n",
      "Number of bikes for station 274: 745\n",
      "Number of bikes for station 275: 745\n"
     ]
    }
   ],
   "source": [
    "#Number of bikes per station\n",
    "station_ids = sorted(set(df['station']))\n",
    "for station in station_ids:\n",
    "    number_of_bikes = df.loc[df['station'] == station].shape[0]\n",
    "    print(f'Number of bikes for station {station}: {number_of_bikes}')"
   ],
   "metadata": {
    "collapsed": false,
    "pycharm": {
     "name": "#%%\n"
    }
   }
  },
  {
   "cell_type": "code",
   "execution_count": 45,
   "outputs": [],
   "source": [],
   "metadata": {
    "collapsed": false,
    "pycharm": {
     "name": "#%%\n"
    }
   }
  },
  {
   "cell_type": "code",
   "execution_count": null,
   "outputs": [],
   "source": [],
   "metadata": {
    "collapsed": false,
    "pycharm": {
     "name": "#%%\n"
    }
   }
  }
 ],
 "metadata": {
  "kernelspec": {
   "display_name": "Python 3",
   "language": "python",
   "name": "python3"
  },
  "language_info": {
   "codemirror_mode": {
    "name": "ipython",
    "version": 2
   },
   "file_extension": ".py",
   "mimetype": "text/x-python",
   "name": "python",
   "nbconvert_exporter": "python",
   "pygments_lexer": "ipython2",
   "version": "2.7.6"
  }
 },
 "nbformat": 4,
 "nbformat_minor": 0
}