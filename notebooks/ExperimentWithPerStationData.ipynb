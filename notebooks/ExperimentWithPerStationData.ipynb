{
 "cells": [
  {
   "cell_type": "markdown",
   "metadata": {
    "collapsed": true,
    "pycharm": {
     "name": "#%% md\n"
    }
   },
   "source": [
    "# Phase 1\n",
    "Data Investigation"
   ]
  },
  {
   "cell_type": "code",
   "execution_count": 2,
   "outputs": [
    {
     "data": {
      "text/plain": "     station   latitude  longitude  numDocks     timestamp  year  month  day  \\\n0        201  39.478178  -0.383541        27  1.412114e+09  2014     10    1   \n1        201  39.478178  -0.383541        27  1.412118e+09  2014     10    1   \n2        201  39.478178  -0.383541        27  1.412122e+09  2014     10    1   \n3        201  39.478178  -0.383541        27  1.412125e+09  2014     10    1   \n4        201  39.478178  -0.383541        27  1.412129e+09  2014     10    1   \n..       ...        ...        ...       ...           ...   ...    ...  ...   \n740      201  39.478178  -0.383541        27  1.414778e+09  2014     10   31   \n741      201  39.478178  -0.383541        27  1.414782e+09  2014     10   31   \n742      201  39.478178  -0.383541        27  1.414786e+09  2014     10   31   \n743      201  39.478178  -0.383541        27  1.414789e+09  2014     10   31   \n744      201  39.478178  -0.383541        27  1.414793e+09  2014     10   31   \n\n     hour    weekday  ...  temperature.C  relHumidity.HR  airPressure.mb  \\\n0       0  Wednesday  ...           21.3            85.0           855.3   \n1       1  Wednesday  ...           21.1            86.0          1000.6   \n2       2  Wednesday  ...           20.9            86.0           880.6   \n3       3  Wednesday  ...           20.4            88.0           859.8   \n4       4  Wednesday  ...           20.3            87.0           898.1   \n..    ...        ...  ...            ...             ...             ...   \n740    19     Friday  ...           20.2            80.0          1023.5   \n741    20     Friday  ...           20.2            82.0          1023.9   \n742    21     Friday  ...           20.0            83.0          1024.0   \n743    22     Friday  ...           19.3            84.0          1024.4   \n744    23     Friday  ...           19.1            86.0          1024.1   \n\n     precipitation.l.m2  bikes_3h_ago  full_profile_3h_diff_bikes  \\\n0                   0.0           NaN                         NaN   \n1                   0.0           NaN                         NaN   \n2                   0.0           NaN                         NaN   \n3                   0.0           1.0                         NaN   \n4                   0.0           0.0                         NaN   \n..                  ...           ...                         ...   \n740                 0.0           1.0                        2.00   \n741                 0.0           1.0                        3.00   \n742                 0.0           1.0                        2.25   \n743                 0.0           0.0                        3.25   \n744                 0.0           2.0                        7.50   \n\n     full_profile_bikes  short_profile_3h_diff_bikes  short_profile_bikes  \\\n0                   NaN                          NaN                  NaN   \n1                   NaN                          NaN                  NaN   \n2                   NaN                          NaN                  NaN   \n3                   NaN                          NaN                  NaN   \n4                   NaN                          NaN                  NaN   \n..                  ...                          ...                  ...   \n740                2.50                         2.00                 2.50   \n741                3.25                         3.00                 3.25   \n742                2.75                         2.25                 2.75   \n743                5.75                         3.25                 5.75   \n744               10.75                         7.50                10.75   \n\n     bikes  \n0      1.0  \n1      0.0  \n2      0.0  \n3      0.0  \n4      0.0  \n..     ...  \n740    0.0  \n741    2.0  \n742    7.0  \n743    9.0  \n744   14.0  \n\n[745 rows x 25 columns]",
      "text/html": "<div>\n<style scoped>\n    .dataframe tbody tr th:only-of-type {\n        vertical-align: middle;\n    }\n\n    .dataframe tbody tr th {\n        vertical-align: top;\n    }\n\n    .dataframe thead th {\n        text-align: right;\n    }\n</style>\n<table border=\"1\" class=\"dataframe\">\n  <thead>\n    <tr style=\"text-align: right;\">\n      <th></th>\n      <th>station</th>\n      <th>latitude</th>\n      <th>longitude</th>\n      <th>numDocks</th>\n      <th>timestamp</th>\n      <th>year</th>\n      <th>month</th>\n      <th>day</th>\n      <th>hour</th>\n      <th>weekday</th>\n      <th>...</th>\n      <th>temperature.C</th>\n      <th>relHumidity.HR</th>\n      <th>airPressure.mb</th>\n      <th>precipitation.l.m2</th>\n      <th>bikes_3h_ago</th>\n      <th>full_profile_3h_diff_bikes</th>\n      <th>full_profile_bikes</th>\n      <th>short_profile_3h_diff_bikes</th>\n      <th>short_profile_bikes</th>\n      <th>bikes</th>\n    </tr>\n  </thead>\n  <tbody>\n    <tr>\n      <th>0</th>\n      <td>201</td>\n      <td>39.478178</td>\n      <td>-0.383541</td>\n      <td>27</td>\n      <td>1.412114e+09</td>\n      <td>2014</td>\n      <td>10</td>\n      <td>1</td>\n      <td>0</td>\n      <td>Wednesday</td>\n      <td>...</td>\n      <td>21.3</td>\n      <td>85.0</td>\n      <td>855.3</td>\n      <td>0.0</td>\n      <td>NaN</td>\n      <td>NaN</td>\n      <td>NaN</td>\n      <td>NaN</td>\n      <td>NaN</td>\n      <td>1.0</td>\n    </tr>\n    <tr>\n      <th>1</th>\n      <td>201</td>\n      <td>39.478178</td>\n      <td>-0.383541</td>\n      <td>27</td>\n      <td>1.412118e+09</td>\n      <td>2014</td>\n      <td>10</td>\n      <td>1</td>\n      <td>1</td>\n      <td>Wednesday</td>\n      <td>...</td>\n      <td>21.1</td>\n      <td>86.0</td>\n      <td>1000.6</td>\n      <td>0.0</td>\n      <td>NaN</td>\n      <td>NaN</td>\n      <td>NaN</td>\n      <td>NaN</td>\n      <td>NaN</td>\n      <td>0.0</td>\n    </tr>\n    <tr>\n      <th>2</th>\n      <td>201</td>\n      <td>39.478178</td>\n      <td>-0.383541</td>\n      <td>27</td>\n      <td>1.412122e+09</td>\n      <td>2014</td>\n      <td>10</td>\n      <td>1</td>\n      <td>2</td>\n      <td>Wednesday</td>\n      <td>...</td>\n      <td>20.9</td>\n      <td>86.0</td>\n      <td>880.6</td>\n      <td>0.0</td>\n      <td>NaN</td>\n      <td>NaN</td>\n      <td>NaN</td>\n      <td>NaN</td>\n      <td>NaN</td>\n      <td>0.0</td>\n    </tr>\n    <tr>\n      <th>3</th>\n      <td>201</td>\n      <td>39.478178</td>\n      <td>-0.383541</td>\n      <td>27</td>\n      <td>1.412125e+09</td>\n      <td>2014</td>\n      <td>10</td>\n      <td>1</td>\n      <td>3</td>\n      <td>Wednesday</td>\n      <td>...</td>\n      <td>20.4</td>\n      <td>88.0</td>\n      <td>859.8</td>\n      <td>0.0</td>\n      <td>1.0</td>\n      <td>NaN</td>\n      <td>NaN</td>\n      <td>NaN</td>\n      <td>NaN</td>\n      <td>0.0</td>\n    </tr>\n    <tr>\n      <th>4</th>\n      <td>201</td>\n      <td>39.478178</td>\n      <td>-0.383541</td>\n      <td>27</td>\n      <td>1.412129e+09</td>\n      <td>2014</td>\n      <td>10</td>\n      <td>1</td>\n      <td>4</td>\n      <td>Wednesday</td>\n      <td>...</td>\n      <td>20.3</td>\n      <td>87.0</td>\n      <td>898.1</td>\n      <td>0.0</td>\n      <td>0.0</td>\n      <td>NaN</td>\n      <td>NaN</td>\n      <td>NaN</td>\n      <td>NaN</td>\n      <td>0.0</td>\n    </tr>\n    <tr>\n      <th>...</th>\n      <td>...</td>\n      <td>...</td>\n      <td>...</td>\n      <td>...</td>\n      <td>...</td>\n      <td>...</td>\n      <td>...</td>\n      <td>...</td>\n      <td>...</td>\n      <td>...</td>\n      <td>...</td>\n      <td>...</td>\n      <td>...</td>\n      <td>...</td>\n      <td>...</td>\n      <td>...</td>\n      <td>...</td>\n      <td>...</td>\n      <td>...</td>\n      <td>...</td>\n      <td>...</td>\n    </tr>\n    <tr>\n      <th>740</th>\n      <td>201</td>\n      <td>39.478178</td>\n      <td>-0.383541</td>\n      <td>27</td>\n      <td>1.414778e+09</td>\n      <td>2014</td>\n      <td>10</td>\n      <td>31</td>\n      <td>19</td>\n      <td>Friday</td>\n      <td>...</td>\n      <td>20.2</td>\n      <td>80.0</td>\n      <td>1023.5</td>\n      <td>0.0</td>\n      <td>1.0</td>\n      <td>2.00</td>\n      <td>2.50</td>\n      <td>2.00</td>\n      <td>2.50</td>\n      <td>0.0</td>\n    </tr>\n    <tr>\n      <th>741</th>\n      <td>201</td>\n      <td>39.478178</td>\n      <td>-0.383541</td>\n      <td>27</td>\n      <td>1.414782e+09</td>\n      <td>2014</td>\n      <td>10</td>\n      <td>31</td>\n      <td>20</td>\n      <td>Friday</td>\n      <td>...</td>\n      <td>20.2</td>\n      <td>82.0</td>\n      <td>1023.9</td>\n      <td>0.0</td>\n      <td>1.0</td>\n      <td>3.00</td>\n      <td>3.25</td>\n      <td>3.00</td>\n      <td>3.25</td>\n      <td>2.0</td>\n    </tr>\n    <tr>\n      <th>742</th>\n      <td>201</td>\n      <td>39.478178</td>\n      <td>-0.383541</td>\n      <td>27</td>\n      <td>1.414786e+09</td>\n      <td>2014</td>\n      <td>10</td>\n      <td>31</td>\n      <td>21</td>\n      <td>Friday</td>\n      <td>...</td>\n      <td>20.0</td>\n      <td>83.0</td>\n      <td>1024.0</td>\n      <td>0.0</td>\n      <td>1.0</td>\n      <td>2.25</td>\n      <td>2.75</td>\n      <td>2.25</td>\n      <td>2.75</td>\n      <td>7.0</td>\n    </tr>\n    <tr>\n      <th>743</th>\n      <td>201</td>\n      <td>39.478178</td>\n      <td>-0.383541</td>\n      <td>27</td>\n      <td>1.414789e+09</td>\n      <td>2014</td>\n      <td>10</td>\n      <td>31</td>\n      <td>22</td>\n      <td>Friday</td>\n      <td>...</td>\n      <td>19.3</td>\n      <td>84.0</td>\n      <td>1024.4</td>\n      <td>0.0</td>\n      <td>0.0</td>\n      <td>3.25</td>\n      <td>5.75</td>\n      <td>3.25</td>\n      <td>5.75</td>\n      <td>9.0</td>\n    </tr>\n    <tr>\n      <th>744</th>\n      <td>201</td>\n      <td>39.478178</td>\n      <td>-0.383541</td>\n      <td>27</td>\n      <td>1.414793e+09</td>\n      <td>2014</td>\n      <td>10</td>\n      <td>31</td>\n      <td>23</td>\n      <td>Friday</td>\n      <td>...</td>\n      <td>19.1</td>\n      <td>86.0</td>\n      <td>1024.1</td>\n      <td>0.0</td>\n      <td>2.0</td>\n      <td>7.50</td>\n      <td>10.75</td>\n      <td>7.50</td>\n      <td>10.75</td>\n      <td>14.0</td>\n    </tr>\n  </tbody>\n</table>\n<p>745 rows × 25 columns</p>\n</div>"
     },
     "execution_count": 2,
     "metadata": {},
     "output_type": "execute_result"
    }
   ],
   "source": [
    "import pandas as pd\n",
    "data_201= pd.read_csv('../data/Train/station_201_deploy.csv')\n",
    "data_201"
   ],
   "metadata": {
    "collapsed": false,
    "pycharm": {
     "name": "#%%\n"
    }
   }
  },
  {
   "cell_type": "code",
   "execution_count": null,
   "outputs": [],
   "source": [],
   "metadata": {
    "collapsed": false,
    "pycharm": {
     "name": "#%%\n"
    }
   }
  }
 ],
 "metadata": {
  "kernelspec": {
   "display_name": "Python 3",
   "language": "python",
   "name": "python3"
  },
  "language_info": {
   "codemirror_mode": {
    "name": "ipython",
    "version": 2
   },
   "file_extension": ".py",
   "mimetype": "text/x-python",
   "name": "python",
   "nbconvert_exporter": "python",
   "pygments_lexer": "ipython2",
   "version": "2.7.6"
  }
 },
 "nbformat": 4,
 "nbformat_minor": 0
}