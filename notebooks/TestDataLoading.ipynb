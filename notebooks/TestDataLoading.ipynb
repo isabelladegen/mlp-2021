{
 "cells": [
  {
   "cell_type": "markdown",
   "metadata": {
    "collapsed": true,
    "pycharm": {
     "name": "#%% md\n"
    }
   },
   "source": [
    "# Test Data Loading"
   ]
  },
  {
   "cell_type": "code",
   "execution_count": 5,
   "outputs": [
    {
     "data": {
      "text/plain": "   Id  station   latitude  longitude  numDocks   timestamp  year  month  day  \\\n0   1      201  39.478178  -0.383541        27  1415149200  2014     11    5   \n1   2      201  39.478178  -0.383541        27  1415469600  2014     11    8   \n2   3      201  39.478178  -0.383541        27  1415714400  2014     11   11   \n3   4      201  39.478178  -0.383541        27  1415919600  2014     11   14   \n4   5      201  39.478178  -0.383541        27  1416254400  2014     11   17   \n\n   hour  ... windDirection.grades  temperature.C  relHumidity.HR  \\\n0     2  ...                202.5           12.1              62   \n1    19  ...                202.5           17.2              43   \n2    15  ...                135.0           11.8              89   \n3     0  ...                202.5           19.3              64   \n4    21  ...                112.5           14.4              52   \n\n   airPressure.mb  precipitation.l.m2  bikes_3h_ago  \\\n0          1002.6                 0.0             1   \n1          1011.2                 0.0             0   \n2          1004.0                 0.0            15   \n3          1010.5                 0.0             3   \n4          1011.6                 0.0             0   \n\n   full_profile_3h_diff_bikes  full_profile_bikes  \\\n0                   -2.000000            2.200000   \n1                    0.800000            4.400000   \n2                   -7.200000            3.800000   \n3                    0.166667            2.333333   \n4                    1.166667            2.333333   \n\n   short_profile_3h_diff_bikes  short_profile_bikes  \n0                        -2.00                 2.75  \n1                        -0.25                 4.00  \n2                        -8.00                 4.50  \n3                         1.75                 3.50  \n4                         2.25                 3.25  \n\n[5 rows x 25 columns]",
      "text/html": "<div>\n<style scoped>\n    .dataframe tbody tr th:only-of-type {\n        vertical-align: middle;\n    }\n\n    .dataframe tbody tr th {\n        vertical-align: top;\n    }\n\n    .dataframe thead th {\n        text-align: right;\n    }\n</style>\n<table border=\"1\" class=\"dataframe\">\n  <thead>\n    <tr style=\"text-align: right;\">\n      <th></th>\n      <th>Id</th>\n      <th>station</th>\n      <th>latitude</th>\n      <th>longitude</th>\n      <th>numDocks</th>\n      <th>timestamp</th>\n      <th>year</th>\n      <th>month</th>\n      <th>day</th>\n      <th>hour</th>\n      <th>...</th>\n      <th>windDirection.grades</th>\n      <th>temperature.C</th>\n      <th>relHumidity.HR</th>\n      <th>airPressure.mb</th>\n      <th>precipitation.l.m2</th>\n      <th>bikes_3h_ago</th>\n      <th>full_profile_3h_diff_bikes</th>\n      <th>full_profile_bikes</th>\n      <th>short_profile_3h_diff_bikes</th>\n      <th>short_profile_bikes</th>\n    </tr>\n  </thead>\n  <tbody>\n    <tr>\n      <th>0</th>\n      <td>1</td>\n      <td>201</td>\n      <td>39.478178</td>\n      <td>-0.383541</td>\n      <td>27</td>\n      <td>1415149200</td>\n      <td>2014</td>\n      <td>11</td>\n      <td>5</td>\n      <td>2</td>\n      <td>...</td>\n      <td>202.5</td>\n      <td>12.1</td>\n      <td>62</td>\n      <td>1002.6</td>\n      <td>0.0</td>\n      <td>1</td>\n      <td>-2.000000</td>\n      <td>2.200000</td>\n      <td>-2.00</td>\n      <td>2.75</td>\n    </tr>\n    <tr>\n      <th>1</th>\n      <td>2</td>\n      <td>201</td>\n      <td>39.478178</td>\n      <td>-0.383541</td>\n      <td>27</td>\n      <td>1415469600</td>\n      <td>2014</td>\n      <td>11</td>\n      <td>8</td>\n      <td>19</td>\n      <td>...</td>\n      <td>202.5</td>\n      <td>17.2</td>\n      <td>43</td>\n      <td>1011.2</td>\n      <td>0.0</td>\n      <td>0</td>\n      <td>0.800000</td>\n      <td>4.400000</td>\n      <td>-0.25</td>\n      <td>4.00</td>\n    </tr>\n    <tr>\n      <th>2</th>\n      <td>3</td>\n      <td>201</td>\n      <td>39.478178</td>\n      <td>-0.383541</td>\n      <td>27</td>\n      <td>1415714400</td>\n      <td>2014</td>\n      <td>11</td>\n      <td>11</td>\n      <td>15</td>\n      <td>...</td>\n      <td>135.0</td>\n      <td>11.8</td>\n      <td>89</td>\n      <td>1004.0</td>\n      <td>0.0</td>\n      <td>15</td>\n      <td>-7.200000</td>\n      <td>3.800000</td>\n      <td>-8.00</td>\n      <td>4.50</td>\n    </tr>\n    <tr>\n      <th>3</th>\n      <td>4</td>\n      <td>201</td>\n      <td>39.478178</td>\n      <td>-0.383541</td>\n      <td>27</td>\n      <td>1415919600</td>\n      <td>2014</td>\n      <td>11</td>\n      <td>14</td>\n      <td>0</td>\n      <td>...</td>\n      <td>202.5</td>\n      <td>19.3</td>\n      <td>64</td>\n      <td>1010.5</td>\n      <td>0.0</td>\n      <td>3</td>\n      <td>0.166667</td>\n      <td>2.333333</td>\n      <td>1.75</td>\n      <td>3.50</td>\n    </tr>\n    <tr>\n      <th>4</th>\n      <td>5</td>\n      <td>201</td>\n      <td>39.478178</td>\n      <td>-0.383541</td>\n      <td>27</td>\n      <td>1416254400</td>\n      <td>2014</td>\n      <td>11</td>\n      <td>17</td>\n      <td>21</td>\n      <td>...</td>\n      <td>112.5</td>\n      <td>14.4</td>\n      <td>52</td>\n      <td>1011.6</td>\n      <td>0.0</td>\n      <td>0</td>\n      <td>1.166667</td>\n      <td>2.333333</td>\n      <td>2.25</td>\n      <td>3.25</td>\n    </tr>\n  </tbody>\n</table>\n<p>5 rows × 25 columns</p>\n</div>"
     },
     "execution_count": 5,
     "metadata": {},
     "output_type": "execute_result"
    }
   ],
   "source": [
    "import pandas as pd\n",
    "test_data = pd.read_csv('../data/test.csv')\n",
    "test_data.head(n=5)"
   ],
   "metadata": {
    "collapsed": false,
    "pycharm": {
     "name": "#%%\n"
    }
   }
  },
  {
   "cell_type": "code",
   "execution_count": 2,
   "outputs": [
    {
     "data": {
      "text/plain": "(2250, 25)"
     },
     "execution_count": 2,
     "metadata": {},
     "output_type": "execute_result"
    }
   ],
   "source": [
    "test_data.shape"
   ],
   "metadata": {
    "collapsed": false,
    "pycharm": {
     "name": "#%%\n"
    }
   }
  },
  {
   "cell_type": "code",
   "execution_count": 6,
   "outputs": [
    {
     "data": {
      "text/plain": "(2209, 25)"
     },
     "execution_count": 6,
     "metadata": {},
     "output_type": "execute_result"
    }
   ],
   "source": [
    "# very few rows have rain\n",
    "test_data.loc[test_data['precipitation.l.m2'] == 0.0].shape"
   ],
   "metadata": {
    "collapsed": false,
    "pycharm": {
     "name": "#%%\n"
    }
   }
  }
 ],
 "metadata": {
  "kernelspec": {
   "display_name": "Python 3",
   "language": "python",
   "name": "python3"
  },
  "language_info": {
   "codemirror_mode": {
    "name": "ipython",
    "version": 2
   },
   "file_extension": ".py",
   "mimetype": "text/x-python",
   "name": "python",
   "nbconvert_exporter": "python",
   "pygments_lexer": "ipython2",
   "version": "2.7.6"
  }
 },
 "nbformat": 4,
 "nbformat_minor": 0
}