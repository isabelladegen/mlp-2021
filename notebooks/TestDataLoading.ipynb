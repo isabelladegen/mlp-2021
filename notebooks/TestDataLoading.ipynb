{
 "cells": [
  {
   "cell_type": "markdown",
   "metadata": {
    "collapsed": true,
    "pycharm": {
     "name": "#%% md\n"
    }
   },
   "source": [
    "# Test Data"
   ]
  },
  {
   "cell_type": "code",
   "execution_count": 1,
   "outputs": [
    {
     "data": {
      "text/plain": "        Id  station   latitude  longitude  numDocks   timestamp  year  month  \\\n0        1      201  39.478178  -0.383541        27  1415149200  2014     11   \n1        2      201  39.478178  -0.383541        27  1415469600  2014     11   \n2        3      201  39.478178  -0.383541        27  1415714400  2014     11   \n3        4      201  39.478178  -0.383541        27  1415919600  2014     11   \n4        5      201  39.478178  -0.383541        27  1416254400  2014     11   \n...    ...      ...        ...        ...       ...         ...   ...    ...   \n2245  2246      275  39.450273  -0.333363        15  1421301600  2015      1   \n2246  2247      275  39.450273  -0.333363        15  1421539200  2015      1   \n2247  2248      275  39.450273  -0.333363        15  1421859600  2015      1   \n2248  2249      275  39.450273  -0.333363        15  1422061200  2015      1   \n2249  2250      275  39.450273  -0.333363        15  1422374400  2015      1   \n\n      day  hour  ... windDirection.grades  temperature.C  relHumidity.HR  \\\n0       5     2  ...                202.5           12.1              62   \n1       8    19  ...                202.5           17.2              43   \n2      11    15  ...                135.0           11.8              89   \n3      14     0  ...                202.5           19.3              64   \n4      17    21  ...                112.5           14.4              52   \n...   ...   ...  ...                  ...            ...             ...   \n2245   15     7  ...                157.5            8.2              73   \n2246   18     1  ...                157.5            6.8              51   \n2247   21    18  ...                180.0           10.8              53   \n2248   24     2  ...                202.5            6.9              45   \n2249   27    17  ...                135.0           18.3              33   \n\n      airPressure.mb  precipitation.l.m2  bikes_3h_ago  \\\n0             1002.6                 0.0             1   \n1             1011.2                 0.0             0   \n2             1004.0                 0.0            15   \n3             1010.5                 0.0             3   \n4             1011.6                 0.0             0   \n...              ...                 ...           ...   \n2245          1020.9                 0.0            14   \n2246          1021.4                 0.0            13   \n2247          1006.7                 0.0             7   \n2248          1021.0                 0.0            14   \n2249          1020.3                 0.0            13   \n\n      full_profile_3h_diff_bikes  full_profile_bikes  \\\n0                      -2.000000            2.200000   \n1                       0.800000            4.400000   \n2                      -7.200000            3.800000   \n3                       0.166667            2.333333   \n4                       1.166667            2.333333   \n...                          ...                 ...   \n2245                   -2.733333            9.333333   \n2246                    0.400000           10.866667   \n2247                    0.937500            8.187500   \n2248                    0.812500           11.812500   \n2249                    2.000000            9.687500   \n\n      short_profile_3h_diff_bikes  short_profile_bikes  \n0                           -2.00                 2.75  \n1                           -0.25                 4.00  \n2                           -8.00                 4.50  \n3                            1.75                 3.50  \n4                            2.25                 3.25  \n...                           ...                  ...  \n2245                        -0.50                10.00  \n2246                         0.50                 8.25  \n2247                         0.50                10.00  \n2248                         0.75                10.75  \n2249                         0.50                 8.50  \n\n[2250 rows x 25 columns]",
      "text/html": "<div>\n<style scoped>\n    .dataframe tbody tr th:only-of-type {\n        vertical-align: middle;\n    }\n\n    .dataframe tbody tr th {\n        vertical-align: top;\n    }\n\n    .dataframe thead th {\n        text-align: right;\n    }\n</style>\n<table border=\"1\" class=\"dataframe\">\n  <thead>\n    <tr style=\"text-align: right;\">\n      <th></th>\n      <th>Id</th>\n      <th>station</th>\n      <th>latitude</th>\n      <th>longitude</th>\n      <th>numDocks</th>\n      <th>timestamp</th>\n      <th>year</th>\n      <th>month</th>\n      <th>day</th>\n      <th>hour</th>\n      <th>...</th>\n      <th>windDirection.grades</th>\n      <th>temperature.C</th>\n      <th>relHumidity.HR</th>\n      <th>airPressure.mb</th>\n      <th>precipitation.l.m2</th>\n      <th>bikes_3h_ago</th>\n      <th>full_profile_3h_diff_bikes</th>\n      <th>full_profile_bikes</th>\n      <th>short_profile_3h_diff_bikes</th>\n      <th>short_profile_bikes</th>\n    </tr>\n  </thead>\n  <tbody>\n    <tr>\n      <th>0</th>\n      <td>1</td>\n      <td>201</td>\n      <td>39.478178</td>\n      <td>-0.383541</td>\n      <td>27</td>\n      <td>1415149200</td>\n      <td>2014</td>\n      <td>11</td>\n      <td>5</td>\n      <td>2</td>\n      <td>...</td>\n      <td>202.5</td>\n      <td>12.1</td>\n      <td>62</td>\n      <td>1002.6</td>\n      <td>0.0</td>\n      <td>1</td>\n      <td>-2.000000</td>\n      <td>2.200000</td>\n      <td>-2.00</td>\n      <td>2.75</td>\n    </tr>\n    <tr>\n      <th>1</th>\n      <td>2</td>\n      <td>201</td>\n      <td>39.478178</td>\n      <td>-0.383541</td>\n      <td>27</td>\n      <td>1415469600</td>\n      <td>2014</td>\n      <td>11</td>\n      <td>8</td>\n      <td>19</td>\n      <td>...</td>\n      <td>202.5</td>\n      <td>17.2</td>\n      <td>43</td>\n      <td>1011.2</td>\n      <td>0.0</td>\n      <td>0</td>\n      <td>0.800000</td>\n      <td>4.400000</td>\n      <td>-0.25</td>\n      <td>4.00</td>\n    </tr>\n    <tr>\n      <th>2</th>\n      <td>3</td>\n      <td>201</td>\n      <td>39.478178</td>\n      <td>-0.383541</td>\n      <td>27</td>\n      <td>1415714400</td>\n      <td>2014</td>\n      <td>11</td>\n      <td>11</td>\n      <td>15</td>\n      <td>...</td>\n      <td>135.0</td>\n      <td>11.8</td>\n      <td>89</td>\n      <td>1004.0</td>\n      <td>0.0</td>\n      <td>15</td>\n      <td>-7.200000</td>\n      <td>3.800000</td>\n      <td>-8.00</td>\n      <td>4.50</td>\n    </tr>\n    <tr>\n      <th>3</th>\n      <td>4</td>\n      <td>201</td>\n      <td>39.478178</td>\n      <td>-0.383541</td>\n      <td>27</td>\n      <td>1415919600</td>\n      <td>2014</td>\n      <td>11</td>\n      <td>14</td>\n      <td>0</td>\n      <td>...</td>\n      <td>202.5</td>\n      <td>19.3</td>\n      <td>64</td>\n      <td>1010.5</td>\n      <td>0.0</td>\n      <td>3</td>\n      <td>0.166667</td>\n      <td>2.333333</td>\n      <td>1.75</td>\n      <td>3.50</td>\n    </tr>\n    <tr>\n      <th>4</th>\n      <td>5</td>\n      <td>201</td>\n      <td>39.478178</td>\n      <td>-0.383541</td>\n      <td>27</td>\n      <td>1416254400</td>\n      <td>2014</td>\n      <td>11</td>\n      <td>17</td>\n      <td>21</td>\n      <td>...</td>\n      <td>112.5</td>\n      <td>14.4</td>\n      <td>52</td>\n      <td>1011.6</td>\n      <td>0.0</td>\n      <td>0</td>\n      <td>1.166667</td>\n      <td>2.333333</td>\n      <td>2.25</td>\n      <td>3.25</td>\n    </tr>\n    <tr>\n      <th>...</th>\n      <td>...</td>\n      <td>...</td>\n      <td>...</td>\n      <td>...</td>\n      <td>...</td>\n      <td>...</td>\n      <td>...</td>\n      <td>...</td>\n      <td>...</td>\n      <td>...</td>\n      <td>...</td>\n      <td>...</td>\n      <td>...</td>\n      <td>...</td>\n      <td>...</td>\n      <td>...</td>\n      <td>...</td>\n      <td>...</td>\n      <td>...</td>\n      <td>...</td>\n      <td>...</td>\n    </tr>\n    <tr>\n      <th>2245</th>\n      <td>2246</td>\n      <td>275</td>\n      <td>39.450273</td>\n      <td>-0.333363</td>\n      <td>15</td>\n      <td>1421301600</td>\n      <td>2015</td>\n      <td>1</td>\n      <td>15</td>\n      <td>7</td>\n      <td>...</td>\n      <td>157.5</td>\n      <td>8.2</td>\n      <td>73</td>\n      <td>1020.9</td>\n      <td>0.0</td>\n      <td>14</td>\n      <td>-2.733333</td>\n      <td>9.333333</td>\n      <td>-0.50</td>\n      <td>10.00</td>\n    </tr>\n    <tr>\n      <th>2246</th>\n      <td>2247</td>\n      <td>275</td>\n      <td>39.450273</td>\n      <td>-0.333363</td>\n      <td>15</td>\n      <td>1421539200</td>\n      <td>2015</td>\n      <td>1</td>\n      <td>18</td>\n      <td>1</td>\n      <td>...</td>\n      <td>157.5</td>\n      <td>6.8</td>\n      <td>51</td>\n      <td>1021.4</td>\n      <td>0.0</td>\n      <td>13</td>\n      <td>0.400000</td>\n      <td>10.866667</td>\n      <td>0.50</td>\n      <td>8.25</td>\n    </tr>\n    <tr>\n      <th>2247</th>\n      <td>2248</td>\n      <td>275</td>\n      <td>39.450273</td>\n      <td>-0.333363</td>\n      <td>15</td>\n      <td>1421859600</td>\n      <td>2015</td>\n      <td>1</td>\n      <td>21</td>\n      <td>18</td>\n      <td>...</td>\n      <td>180.0</td>\n      <td>10.8</td>\n      <td>53</td>\n      <td>1006.7</td>\n      <td>0.0</td>\n      <td>7</td>\n      <td>0.937500</td>\n      <td>8.187500</td>\n      <td>0.50</td>\n      <td>10.00</td>\n    </tr>\n    <tr>\n      <th>2248</th>\n      <td>2249</td>\n      <td>275</td>\n      <td>39.450273</td>\n      <td>-0.333363</td>\n      <td>15</td>\n      <td>1422061200</td>\n      <td>2015</td>\n      <td>1</td>\n      <td>24</td>\n      <td>2</td>\n      <td>...</td>\n      <td>202.5</td>\n      <td>6.9</td>\n      <td>45</td>\n      <td>1021.0</td>\n      <td>0.0</td>\n      <td>14</td>\n      <td>0.812500</td>\n      <td>11.812500</td>\n      <td>0.75</td>\n      <td>10.75</td>\n    </tr>\n    <tr>\n      <th>2249</th>\n      <td>2250</td>\n      <td>275</td>\n      <td>39.450273</td>\n      <td>-0.333363</td>\n      <td>15</td>\n      <td>1422374400</td>\n      <td>2015</td>\n      <td>1</td>\n      <td>27</td>\n      <td>17</td>\n      <td>...</td>\n      <td>135.0</td>\n      <td>18.3</td>\n      <td>33</td>\n      <td>1020.3</td>\n      <td>0.0</td>\n      <td>13</td>\n      <td>2.000000</td>\n      <td>9.687500</td>\n      <td>0.50</td>\n      <td>8.50</td>\n    </tr>\n  </tbody>\n</table>\n<p>2250 rows × 25 columns</p>\n</div>"
     },
     "execution_count": 1,
     "metadata": {},
     "output_type": "execute_result"
    }
   ],
   "source": [
    "import pandas as pd\n",
    "test_data = pd.read_csv('../data/test.csv')\n",
    "test_data"
   ],
   "metadata": {
    "collapsed": false,
    "pycharm": {
     "name": "#%%\n"
    }
   }
  },
  {
   "cell_type": "code",
   "execution_count": 2,
   "outputs": [
    {
     "data": {
      "text/plain": "(2250, 25)"
     },
     "execution_count": 2,
     "metadata": {},
     "output_type": "execute_result"
    }
   ],
   "source": [
    "test_data.shape"
   ],
   "metadata": {
    "collapsed": false,
    "pycharm": {
     "name": "#%%\n"
    }
   }
  },
  {
   "cell_type": "code",
   "execution_count": 4,
   "outputs": [
    {
     "data": {
      "text/plain": "        Id  station   latitude  longitude  numDocks   timestamp  year  month  \\\n0        1      201  39.478178  -0.383541        27  1415149200  2014     11   \n1        2      201  39.478178  -0.383541        27  1415469600  2014     11   \n2        3      201  39.478178  -0.383541        27  1415714400  2014     11   \n3        4      201  39.478178  -0.383541        27  1415919600  2014     11   \n4        5      201  39.478178  -0.383541        27  1416254400  2014     11   \n...    ...      ...        ...        ...       ...         ...   ...    ...   \n2245  2246      275  39.450273  -0.333363        15  1421301600  2015      1   \n2246  2247      275  39.450273  -0.333363        15  1421539200  2015      1   \n2247  2248      275  39.450273  -0.333363        15  1421859600  2015      1   \n2248  2249      275  39.450273  -0.333363        15  1422061200  2015      1   \n2249  2250      275  39.450273  -0.333363        15  1422374400  2015      1   \n\n      day  hour  ... windDirection.grades  temperature.C  relHumidity.HR  \\\n0       5     2  ...                202.5           12.1              62   \n1       8    19  ...                202.5           17.2              43   \n2      11    15  ...                135.0           11.8              89   \n3      14     0  ...                202.5           19.3              64   \n4      17    21  ...                112.5           14.4              52   \n...   ...   ...  ...                  ...            ...             ...   \n2245   15     7  ...                157.5            8.2              73   \n2246   18     1  ...                157.5            6.8              51   \n2247   21    18  ...                180.0           10.8              53   \n2248   24     2  ...                202.5            6.9              45   \n2249   27    17  ...                135.0           18.3              33   \n\n      airPressure.mb  precipitation.l.m2  bikes_3h_ago  \\\n0             1002.6                 0.0             1   \n1             1011.2                 0.0             0   \n2             1004.0                 0.0            15   \n3             1010.5                 0.0             3   \n4             1011.6                 0.0             0   \n...              ...                 ...           ...   \n2245          1020.9                 0.0            14   \n2246          1021.4                 0.0            13   \n2247          1006.7                 0.0             7   \n2248          1021.0                 0.0            14   \n2249          1020.3                 0.0            13   \n\n      full_profile_3h_diff_bikes  full_profile_bikes  \\\n0                      -2.000000            2.200000   \n1                       0.800000            4.400000   \n2                      -7.200000            3.800000   \n3                       0.166667            2.333333   \n4                       1.166667            2.333333   \n...                          ...                 ...   \n2245                   -2.733333            9.333333   \n2246                    0.400000           10.866667   \n2247                    0.937500            8.187500   \n2248                    0.812500           11.812500   \n2249                    2.000000            9.687500   \n\n      short_profile_3h_diff_bikes  short_profile_bikes  \n0                           -2.00                 2.75  \n1                           -0.25                 4.00  \n2                           -8.00                 4.50  \n3                            1.75                 3.50  \n4                            2.25                 3.25  \n...                           ...                  ...  \n2245                        -0.50                10.00  \n2246                         0.50                 8.25  \n2247                         0.50                10.00  \n2248                         0.75                10.75  \n2249                         0.50                 8.50  \n\n[2209 rows x 25 columns]",
      "text/html": "<div>\n<style scoped>\n    .dataframe tbody tr th:only-of-type {\n        vertical-align: middle;\n    }\n\n    .dataframe tbody tr th {\n        vertical-align: top;\n    }\n\n    .dataframe thead th {\n        text-align: right;\n    }\n</style>\n<table border=\"1\" class=\"dataframe\">\n  <thead>\n    <tr style=\"text-align: right;\">\n      <th></th>\n      <th>Id</th>\n      <th>station</th>\n      <th>latitude</th>\n      <th>longitude</th>\n      <th>numDocks</th>\n      <th>timestamp</th>\n      <th>year</th>\n      <th>month</th>\n      <th>day</th>\n      <th>hour</th>\n      <th>...</th>\n      <th>windDirection.grades</th>\n      <th>temperature.C</th>\n      <th>relHumidity.HR</th>\n      <th>airPressure.mb</th>\n      <th>precipitation.l.m2</th>\n      <th>bikes_3h_ago</th>\n      <th>full_profile_3h_diff_bikes</th>\n      <th>full_profile_bikes</th>\n      <th>short_profile_3h_diff_bikes</th>\n      <th>short_profile_bikes</th>\n    </tr>\n  </thead>\n  <tbody>\n    <tr>\n      <th>0</th>\n      <td>1</td>\n      <td>201</td>\n      <td>39.478178</td>\n      <td>-0.383541</td>\n      <td>27</td>\n      <td>1415149200</td>\n      <td>2014</td>\n      <td>11</td>\n      <td>5</td>\n      <td>2</td>\n      <td>...</td>\n      <td>202.5</td>\n      <td>12.1</td>\n      <td>62</td>\n      <td>1002.6</td>\n      <td>0.0</td>\n      <td>1</td>\n      <td>-2.000000</td>\n      <td>2.200000</td>\n      <td>-2.00</td>\n      <td>2.75</td>\n    </tr>\n    <tr>\n      <th>1</th>\n      <td>2</td>\n      <td>201</td>\n      <td>39.478178</td>\n      <td>-0.383541</td>\n      <td>27</td>\n      <td>1415469600</td>\n      <td>2014</td>\n      <td>11</td>\n      <td>8</td>\n      <td>19</td>\n      <td>...</td>\n      <td>202.5</td>\n      <td>17.2</td>\n      <td>43</td>\n      <td>1011.2</td>\n      <td>0.0</td>\n      <td>0</td>\n      <td>0.800000</td>\n      <td>4.400000</td>\n      <td>-0.25</td>\n      <td>4.00</td>\n    </tr>\n    <tr>\n      <th>2</th>\n      <td>3</td>\n      <td>201</td>\n      <td>39.478178</td>\n      <td>-0.383541</td>\n      <td>27</td>\n      <td>1415714400</td>\n      <td>2014</td>\n      <td>11</td>\n      <td>11</td>\n      <td>15</td>\n      <td>...</td>\n      <td>135.0</td>\n      <td>11.8</td>\n      <td>89</td>\n      <td>1004.0</td>\n      <td>0.0</td>\n      <td>15</td>\n      <td>-7.200000</td>\n      <td>3.800000</td>\n      <td>-8.00</td>\n      <td>4.50</td>\n    </tr>\n    <tr>\n      <th>3</th>\n      <td>4</td>\n      <td>201</td>\n      <td>39.478178</td>\n      <td>-0.383541</td>\n      <td>27</td>\n      <td>1415919600</td>\n      <td>2014</td>\n      <td>11</td>\n      <td>14</td>\n      <td>0</td>\n      <td>...</td>\n      <td>202.5</td>\n      <td>19.3</td>\n      <td>64</td>\n      <td>1010.5</td>\n      <td>0.0</td>\n      <td>3</td>\n      <td>0.166667</td>\n      <td>2.333333</td>\n      <td>1.75</td>\n      <td>3.50</td>\n    </tr>\n    <tr>\n      <th>4</th>\n      <td>5</td>\n      <td>201</td>\n      <td>39.478178</td>\n      <td>-0.383541</td>\n      <td>27</td>\n      <td>1416254400</td>\n      <td>2014</td>\n      <td>11</td>\n      <td>17</td>\n      <td>21</td>\n      <td>...</td>\n      <td>112.5</td>\n      <td>14.4</td>\n      <td>52</td>\n      <td>1011.6</td>\n      <td>0.0</td>\n      <td>0</td>\n      <td>1.166667</td>\n      <td>2.333333</td>\n      <td>2.25</td>\n      <td>3.25</td>\n    </tr>\n    <tr>\n      <th>...</th>\n      <td>...</td>\n      <td>...</td>\n      <td>...</td>\n      <td>...</td>\n      <td>...</td>\n      <td>...</td>\n      <td>...</td>\n      <td>...</td>\n      <td>...</td>\n      <td>...</td>\n      <td>...</td>\n      <td>...</td>\n      <td>...</td>\n      <td>...</td>\n      <td>...</td>\n      <td>...</td>\n      <td>...</td>\n      <td>...</td>\n      <td>...</td>\n      <td>...</td>\n      <td>...</td>\n    </tr>\n    <tr>\n      <th>2245</th>\n      <td>2246</td>\n      <td>275</td>\n      <td>39.450273</td>\n      <td>-0.333363</td>\n      <td>15</td>\n      <td>1421301600</td>\n      <td>2015</td>\n      <td>1</td>\n      <td>15</td>\n      <td>7</td>\n      <td>...</td>\n      <td>157.5</td>\n      <td>8.2</td>\n      <td>73</td>\n      <td>1020.9</td>\n      <td>0.0</td>\n      <td>14</td>\n      <td>-2.733333</td>\n      <td>9.333333</td>\n      <td>-0.50</td>\n      <td>10.00</td>\n    </tr>\n    <tr>\n      <th>2246</th>\n      <td>2247</td>\n      <td>275</td>\n      <td>39.450273</td>\n      <td>-0.333363</td>\n      <td>15</td>\n      <td>1421539200</td>\n      <td>2015</td>\n      <td>1</td>\n      <td>18</td>\n      <td>1</td>\n      <td>...</td>\n      <td>157.5</td>\n      <td>6.8</td>\n      <td>51</td>\n      <td>1021.4</td>\n      <td>0.0</td>\n      <td>13</td>\n      <td>0.400000</td>\n      <td>10.866667</td>\n      <td>0.50</td>\n      <td>8.25</td>\n    </tr>\n    <tr>\n      <th>2247</th>\n      <td>2248</td>\n      <td>275</td>\n      <td>39.450273</td>\n      <td>-0.333363</td>\n      <td>15</td>\n      <td>1421859600</td>\n      <td>2015</td>\n      <td>1</td>\n      <td>21</td>\n      <td>18</td>\n      <td>...</td>\n      <td>180.0</td>\n      <td>10.8</td>\n      <td>53</td>\n      <td>1006.7</td>\n      <td>0.0</td>\n      <td>7</td>\n      <td>0.937500</td>\n      <td>8.187500</td>\n      <td>0.50</td>\n      <td>10.00</td>\n    </tr>\n    <tr>\n      <th>2248</th>\n      <td>2249</td>\n      <td>275</td>\n      <td>39.450273</td>\n      <td>-0.333363</td>\n      <td>15</td>\n      <td>1422061200</td>\n      <td>2015</td>\n      <td>1</td>\n      <td>24</td>\n      <td>2</td>\n      <td>...</td>\n      <td>202.5</td>\n      <td>6.9</td>\n      <td>45</td>\n      <td>1021.0</td>\n      <td>0.0</td>\n      <td>14</td>\n      <td>0.812500</td>\n      <td>11.812500</td>\n      <td>0.75</td>\n      <td>10.75</td>\n    </tr>\n    <tr>\n      <th>2249</th>\n      <td>2250</td>\n      <td>275</td>\n      <td>39.450273</td>\n      <td>-0.333363</td>\n      <td>15</td>\n      <td>1422374400</td>\n      <td>2015</td>\n      <td>1</td>\n      <td>27</td>\n      <td>17</td>\n      <td>...</td>\n      <td>135.0</td>\n      <td>18.3</td>\n      <td>33</td>\n      <td>1020.3</td>\n      <td>0.0</td>\n      <td>13</td>\n      <td>2.000000</td>\n      <td>9.687500</td>\n      <td>0.50</td>\n      <td>8.50</td>\n    </tr>\n  </tbody>\n</table>\n<p>2209 rows × 25 columns</p>\n</div>"
     },
     "execution_count": 4,
     "metadata": {},
     "output_type": "execute_result"
    }
   ],
   "source": [
    "#very few rows have rain\n",
    "test_data.loc[test_data['precipitation.l.m2'] == 0.0]"
   ],
   "metadata": {
    "collapsed": false,
    "pycharm": {
     "name": "#%%\n"
    }
   }
  },
  {
   "cell_type": "code",
   "execution_count": null,
   "outputs": [],
   "source": [],
   "metadata": {
    "collapsed": false,
    "pycharm": {
     "name": "#%%\n"
    }
   }
  }
 ],
 "metadata": {
  "kernelspec": {
   "display_name": "Python 3",
   "language": "python",
   "name": "python3"
  },
  "language_info": {
   "codemirror_mode": {
    "name": "ipython",
    "version": 2
   },
   "file_extension": ".py",
   "mimetype": "text/x-python",
   "name": "python",
   "nbconvert_exporter": "python",
   "pygments_lexer": "ipython2",
   "version": "2.7.6"
  }
 },
 "nbformat": 4,
 "nbformat_minor": 0
}