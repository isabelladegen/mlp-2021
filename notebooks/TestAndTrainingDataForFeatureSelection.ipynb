{
 "cells": [
  {
   "cell_type": "markdown",
   "metadata": {
    "collapsed": true,
    "pycharm": {
     "name": "#%% md\n"
    }
   },
   "source": [
    "# Check values before feature selection in both training and test data\n",
    "\n",
    "- nan\n",
    "- different enough values"
   ]
  },
  {
   "cell_type": "code",
   "execution_count": 19,
   "outputs": [],
   "source": [
    "import pandas as pd\n",
    "import glob\n",
    "import os\n",
    "\n",
    "training_df = pd.concat(map(pd.read_csv, glob.glob(os.path.join('../Data/Train', \"*.csv\"))), ignore_index=True)\n",
    "test_df = test_data = pd.read_csv('../data/test.csv')"
   ],
   "metadata": {
    "collapsed": false,
    "pycharm": {
     "name": "#%%\n"
    }
   }
  },
  {
   "cell_type": "code",
   "execution_count": 23,
   "outputs": [],
   "source": [
    "training_df_shape = training_df.shape\n",
    "test_df_shape = test_df.shape\n",
    "\n",
    "\n",
    "def nan_analysis(column_name):\n",
    "    training_with_null_df = training_df[training_df[column_name].isnull()]\n",
    "    training_nan = training_with_null_df.shape\n",
    "    print(f'Number of Nan for {column_name}: {training_nan} of {training_df_shape}')\n",
    "    test_nan = test_df[test_df[column_name].isnull()].shape\n",
    "    print(f'Number of Nan for {column_name}: {test_nan} of {test_df_shape}')\n",
    "    return training_with_null_df[['station']]\n",
    "\n",
    "\n",
    "def value_analysis(column_name):\n",
    "    return pd.merge(training_df[[column_name]].describe(),\n",
    "                    test_df[[column_name]].describe(),\n",
    "                    left_index=True,\n",
    "                    right_index=True,\n",
    "                    suffixes=('training', 'test'))\n"
   ],
   "metadata": {
    "collapsed": false,
    "pycharm": {
     "name": "#%%\n"
    }
   }
  },
  {
   "cell_type": "markdown",
   "source": [
    "# Weather Data"
   ],
   "metadata": {
    "collapsed": false,
    "pycharm": {
     "name": "#%% md\n"
    }
   }
  },
  {
   "cell_type": "code",
   "execution_count": 24,
   "outputs": [
    {
     "name": "stdout",
     "output_type": "stream",
     "text": [
      "Number of Nan for precipitation.l.m2: (75, 25) of (55875, 25)\n",
      "Number of Nan for precipitation.l.m2: (0, 25) of (2250, 25)\n"
     ]
    },
    {
     "data": {
      "text/plain": "       precipitation.l.m2training  precipitation.l.m2test\ncount                     55800.0             2250.000000\nmean                          0.0                0.008622\nstd                           0.0                0.092475\nmin                           0.0                0.000000\n25%                           0.0                0.000000\n50%                           0.0                0.000000\n75%                           0.0                0.000000\nmax                           0.0                2.600000",
      "text/html": "<div>\n<style scoped>\n    .dataframe tbody tr th:only-of-type {\n        vertical-align: middle;\n    }\n\n    .dataframe tbody tr th {\n        vertical-align: top;\n    }\n\n    .dataframe thead th {\n        text-align: right;\n    }\n</style>\n<table border=\"1\" class=\"dataframe\">\n  <thead>\n    <tr style=\"text-align: right;\">\n      <th></th>\n      <th>precipitation.l.m2training</th>\n      <th>precipitation.l.m2test</th>\n    </tr>\n  </thead>\n  <tbody>\n    <tr>\n      <th>count</th>\n      <td>55800.0</td>\n      <td>2250.000000</td>\n    </tr>\n    <tr>\n      <th>mean</th>\n      <td>0.0</td>\n      <td>0.008622</td>\n    </tr>\n    <tr>\n      <th>std</th>\n      <td>0.0</td>\n      <td>0.092475</td>\n    </tr>\n    <tr>\n      <th>min</th>\n      <td>0.0</td>\n      <td>0.000000</td>\n    </tr>\n    <tr>\n      <th>25%</th>\n      <td>0.0</td>\n      <td>0.000000</td>\n    </tr>\n    <tr>\n      <th>50%</th>\n      <td>0.0</td>\n      <td>0.000000</td>\n    </tr>\n    <tr>\n      <th>75%</th>\n      <td>0.0</td>\n      <td>0.000000</td>\n    </tr>\n    <tr>\n      <th>max</th>\n      <td>0.0</td>\n      <td>2.600000</td>\n    </tr>\n  </tbody>\n</table>\n</div>"
     },
     "execution_count": 24,
     "metadata": {},
     "output_type": "execute_result"
    }
   ],
   "source": [
    "precipitation = 'precipitation.l.m2'\n",
    "precipitation_nan = nan_analysis(precipitation)\n",
    "value_analysis(precipitation)\n",
    "\n",
    "# -> Training data has no values for precipitation not a good feature"
   ],
   "metadata": {
    "collapsed": false,
    "pycharm": {
     "name": "#%%\n"
    }
   }
  },
  {
   "cell_type": "code",
   "execution_count": 25,
   "outputs": [
    {
     "name": "stdout",
     "output_type": "stream",
     "text": [
      "Number of Nan for temperature.C: (75, 25) of (55875, 25)\n",
      "Number of Nan for temperature.C: (0, 25) of (2250, 25)\n"
     ]
    },
    {
     "data": {
      "text/plain": "       temperature.Ctraining  temperature.Ctest\ncount           55800.000000        2250.000000\nmean               21.707796          12.926578\nstd                 3.271253           4.084343\nmin                13.900000           3.100000\n25%                19.400000           9.900000\n50%                21.350000          12.900000\n75%                23.400000          15.975000\nmax                34.600000          25.000000",
      "text/html": "<div>\n<style scoped>\n    .dataframe tbody tr th:only-of-type {\n        vertical-align: middle;\n    }\n\n    .dataframe tbody tr th {\n        vertical-align: top;\n    }\n\n    .dataframe thead th {\n        text-align: right;\n    }\n</style>\n<table border=\"1\" class=\"dataframe\">\n  <thead>\n    <tr style=\"text-align: right;\">\n      <th></th>\n      <th>temperature.Ctraining</th>\n      <th>temperature.Ctest</th>\n    </tr>\n  </thead>\n  <tbody>\n    <tr>\n      <th>count</th>\n      <td>55800.000000</td>\n      <td>2250.000000</td>\n    </tr>\n    <tr>\n      <th>mean</th>\n      <td>21.707796</td>\n      <td>12.926578</td>\n    </tr>\n    <tr>\n      <th>std</th>\n      <td>3.271253</td>\n      <td>4.084343</td>\n    </tr>\n    <tr>\n      <th>min</th>\n      <td>13.900000</td>\n      <td>3.100000</td>\n    </tr>\n    <tr>\n      <th>25%</th>\n      <td>19.400000</td>\n      <td>9.900000</td>\n    </tr>\n    <tr>\n      <th>50%</th>\n      <td>21.350000</td>\n      <td>12.900000</td>\n    </tr>\n    <tr>\n      <th>75%</th>\n      <td>23.400000</td>\n      <td>15.975000</td>\n    </tr>\n    <tr>\n      <th>max</th>\n      <td>34.600000</td>\n      <td>25.000000</td>\n    </tr>\n  </tbody>\n</table>\n</div>"
     },
     "execution_count": 25,
     "metadata": {},
     "output_type": "execute_result"
    }
   ],
   "source": [
    "column = 'temperature.C'\n",
    "temperature_nan = nan_analysis(column)\n",
    "value_analysis(column)\n",
    "\n",
    "# min temperature is quite different between training and test but there seems to be enough data"
   ],
   "metadata": {
    "collapsed": false,
    "pycharm": {
     "name": "#%%\n"
    }
   }
  },
  {
   "cell_type": "code",
   "execution_count": 26,
   "outputs": [
    {
     "name": "stdout",
     "output_type": "stream",
     "text": [
      "Number of Nan for windMaxSpeed.m.s: (75, 25) of (55875, 25)\n",
      "Number of Nan for windMaxSpeed.m.s: (0, 25) of (2250, 25)\n"
     ]
    },
    {
     "data": {
      "text/plain": "       windMaxSpeed.m.straining  windMaxSpeed.m.stest\ncount              55800.000000           2250.000000\nmean                  11.406855             11.377333\nstd                    8.664456              9.221720\nmin                    0.000000              0.000000\n25%                    4.800000              4.800000\n50%                    9.700000              8.000000\n75%                   16.100000             14.500000\nmax                   43.500000             62.800000",
      "text/html": "<div>\n<style scoped>\n    .dataframe tbody tr th:only-of-type {\n        vertical-align: middle;\n    }\n\n    .dataframe tbody tr th {\n        vertical-align: top;\n    }\n\n    .dataframe thead th {\n        text-align: right;\n    }\n</style>\n<table border=\"1\" class=\"dataframe\">\n  <thead>\n    <tr style=\"text-align: right;\">\n      <th></th>\n      <th>windMaxSpeed.m.straining</th>\n      <th>windMaxSpeed.m.stest</th>\n    </tr>\n  </thead>\n  <tbody>\n    <tr>\n      <th>count</th>\n      <td>55800.000000</td>\n      <td>2250.000000</td>\n    </tr>\n    <tr>\n      <th>mean</th>\n      <td>11.406855</td>\n      <td>11.377333</td>\n    </tr>\n    <tr>\n      <th>std</th>\n      <td>8.664456</td>\n      <td>9.221720</td>\n    </tr>\n    <tr>\n      <th>min</th>\n      <td>0.000000</td>\n      <td>0.000000</td>\n    </tr>\n    <tr>\n      <th>25%</th>\n      <td>4.800000</td>\n      <td>4.800000</td>\n    </tr>\n    <tr>\n      <th>50%</th>\n      <td>9.700000</td>\n      <td>8.000000</td>\n    </tr>\n    <tr>\n      <th>75%</th>\n      <td>16.100000</td>\n      <td>14.500000</td>\n    </tr>\n    <tr>\n      <th>max</th>\n      <td>43.500000</td>\n      <td>62.800000</td>\n    </tr>\n  </tbody>\n</table>\n</div>"
     },
     "execution_count": 26,
     "metadata": {},
     "output_type": "execute_result"
    }
   ],
   "source": [
    "column = 'windMaxSpeed.m.s'\n",
    "windmax_nan = nan_analysis(column)\n",
    "value_analysis(column)"
   ],
   "metadata": {
    "collapsed": false,
    "pycharm": {
     "name": "#%%\n"
    }
   }
  },
  {
   "cell_type": "code",
   "execution_count": 27,
   "outputs": [
    {
     "name": "stdout",
     "output_type": "stream",
     "text": [
      "Number of Nan for windMeanSpeed.m.s: (75, 25) of (55875, 25)\n",
      "Number of Nan for windMeanSpeed.m.s: (0, 25) of (2250, 25)\n"
     ]
    },
    {
     "data": {
      "text/plain": "       windMeanSpeed.m.straining  windMeanSpeed.m.stest\ncount               55800.000000            2250.000000\nmean                    4.694489               4.079911\nstd                     4.583093               4.404740\nmin                     0.000000               0.000000\n25%                     1.600000               1.600000\n50%                     3.200000               3.200000\n75%                     6.400000               6.400000\nmax                    27.400000              25.700000",
      "text/html": "<div>\n<style scoped>\n    .dataframe tbody tr th:only-of-type {\n        vertical-align: middle;\n    }\n\n    .dataframe tbody tr th {\n        vertical-align: top;\n    }\n\n    .dataframe thead th {\n        text-align: right;\n    }\n</style>\n<table border=\"1\" class=\"dataframe\">\n  <thead>\n    <tr style=\"text-align: right;\">\n      <th></th>\n      <th>windMeanSpeed.m.straining</th>\n      <th>windMeanSpeed.m.stest</th>\n    </tr>\n  </thead>\n  <tbody>\n    <tr>\n      <th>count</th>\n      <td>55800.000000</td>\n      <td>2250.000000</td>\n    </tr>\n    <tr>\n      <th>mean</th>\n      <td>4.694489</td>\n      <td>4.079911</td>\n    </tr>\n    <tr>\n      <th>std</th>\n      <td>4.583093</td>\n      <td>4.404740</td>\n    </tr>\n    <tr>\n      <th>min</th>\n      <td>0.000000</td>\n      <td>0.000000</td>\n    </tr>\n    <tr>\n      <th>25%</th>\n      <td>1.600000</td>\n      <td>1.600000</td>\n    </tr>\n    <tr>\n      <th>50%</th>\n      <td>3.200000</td>\n      <td>3.200000</td>\n    </tr>\n    <tr>\n      <th>75%</th>\n      <td>6.400000</td>\n      <td>6.400000</td>\n    </tr>\n    <tr>\n      <th>max</th>\n      <td>27.400000</td>\n      <td>25.700000</td>\n    </tr>\n  </tbody>\n</table>\n</div>"
     },
     "execution_count": 27,
     "metadata": {},
     "output_type": "execute_result"
    }
   ],
   "source": [
    "column = 'windMeanSpeed.m.s'\n",
    "windmean_nan = nan_analysis(column)\n",
    "value_analysis(column)"
   ],
   "metadata": {
    "collapsed": false,
    "pycharm": {
     "name": "#%%\n"
    }
   }
  },
  {
   "cell_type": "code",
   "execution_count": 28,
   "outputs": [
    {
     "name": "stdout",
     "output_type": "stream",
     "text": [
      "Number of Nan for windDirection.grades: (375, 25) of (55875, 25)\n",
      "Number of Nan for windDirection.grades: (0, 25) of (2250, 25)\n"
     ]
    },
    {
     "data": {
      "text/plain": "       windDirection.gradestraining  windDirection.gradestest\ncount                  55500.000000               2250.000000\nmean                     170.227162                181.716800\nstd                       86.912565                 67.840312\nmin                        0.000000                  0.000000\n25%                      135.000000                157.500000\n50%                      180.000000                180.000000\n75%                      202.500000                225.000000\nmax                      337.500000                337.500000",
      "text/html": "<div>\n<style scoped>\n    .dataframe tbody tr th:only-of-type {\n        vertical-align: middle;\n    }\n\n    .dataframe tbody tr th {\n        vertical-align: top;\n    }\n\n    .dataframe thead th {\n        text-align: right;\n    }\n</style>\n<table border=\"1\" class=\"dataframe\">\n  <thead>\n    <tr style=\"text-align: right;\">\n      <th></th>\n      <th>windDirection.gradestraining</th>\n      <th>windDirection.gradestest</th>\n    </tr>\n  </thead>\n  <tbody>\n    <tr>\n      <th>count</th>\n      <td>55500.000000</td>\n      <td>2250.000000</td>\n    </tr>\n    <tr>\n      <th>mean</th>\n      <td>170.227162</td>\n      <td>181.716800</td>\n    </tr>\n    <tr>\n      <th>std</th>\n      <td>86.912565</td>\n      <td>67.840312</td>\n    </tr>\n    <tr>\n      <th>min</th>\n      <td>0.000000</td>\n      <td>0.000000</td>\n    </tr>\n    <tr>\n      <th>25%</th>\n      <td>135.000000</td>\n      <td>157.500000</td>\n    </tr>\n    <tr>\n      <th>50%</th>\n      <td>180.000000</td>\n      <td>180.000000</td>\n    </tr>\n    <tr>\n      <th>75%</th>\n      <td>202.500000</td>\n      <td>225.000000</td>\n    </tr>\n    <tr>\n      <th>max</th>\n      <td>337.500000</td>\n      <td>337.500000</td>\n    </tr>\n  </tbody>\n</table>\n</div>"
     },
     "execution_count": 28,
     "metadata": {},
     "output_type": "execute_result"
    }
   ],
   "source": [
    "column = 'windDirection.grades'\n",
    "winddir_nan = nan_analysis(column)\n",
    "value_analysis(column)"
   ],
   "metadata": {
    "collapsed": false,
    "pycharm": {
     "name": "#%%\n"
    }
   }
  },
  {
   "cell_type": "code",
   "execution_count": 29,
   "outputs": [
    {
     "name": "stdout",
     "output_type": "stream",
     "text": [
      "Number of Nan for relHumidity.HR: (75, 25) of (55875, 25)\n",
      "Number of Nan for relHumidity.HR: (0, 25) of (2250, 25)\n"
     ]
    },
    {
     "data": {
      "text/plain": "       relHumidity.HRtraining  relHumidity.HRtest\ncount            55800.000000         2250.000000\nmean                65.943548           64.204889\nstd                 16.724256           17.402368\nmin                 18.000000           17.000000\n25%                 54.000000           50.000000\n50%                 68.000000           65.000000\n75%                 81.000000           79.000000\nmax                 91.000000           97.000000",
      "text/html": "<div>\n<style scoped>\n    .dataframe tbody tr th:only-of-type {\n        vertical-align: middle;\n    }\n\n    .dataframe tbody tr th {\n        vertical-align: top;\n    }\n\n    .dataframe thead th {\n        text-align: right;\n    }\n</style>\n<table border=\"1\" class=\"dataframe\">\n  <thead>\n    <tr style=\"text-align: right;\">\n      <th></th>\n      <th>relHumidity.HRtraining</th>\n      <th>relHumidity.HRtest</th>\n    </tr>\n  </thead>\n  <tbody>\n    <tr>\n      <th>count</th>\n      <td>55800.000000</td>\n      <td>2250.000000</td>\n    </tr>\n    <tr>\n      <th>mean</th>\n      <td>65.943548</td>\n      <td>64.204889</td>\n    </tr>\n    <tr>\n      <th>std</th>\n      <td>16.724256</td>\n      <td>17.402368</td>\n    </tr>\n    <tr>\n      <th>min</th>\n      <td>18.000000</td>\n      <td>17.000000</td>\n    </tr>\n    <tr>\n      <th>25%</th>\n      <td>54.000000</td>\n      <td>50.000000</td>\n    </tr>\n    <tr>\n      <th>50%</th>\n      <td>68.000000</td>\n      <td>65.000000</td>\n    </tr>\n    <tr>\n      <th>75%</th>\n      <td>81.000000</td>\n      <td>79.000000</td>\n    </tr>\n    <tr>\n      <th>max</th>\n      <td>91.000000</td>\n      <td>97.000000</td>\n    </tr>\n  </tbody>\n</table>\n</div>"
     },
     "execution_count": 29,
     "metadata": {},
     "output_type": "execute_result"
    }
   ],
   "source": [
    "column = 'relHumidity.HR'\n",
    "relhum_nan = nan_analysis(column)\n",
    "value_analysis(column)"
   ],
   "metadata": {
    "collapsed": false,
    "pycharm": {
     "name": "#%%\n"
    }
   }
  },
  {
   "cell_type": "code",
   "execution_count": 30,
   "outputs": [
    {
     "name": "stdout",
     "output_type": "stream",
     "text": [
      "Number of Nan for airPressure.mb: (75, 25) of (55875, 25)\n",
      "Number of Nan for airPressure.mb: (0, 25) of (2250, 25)\n"
     ]
    },
    {
     "data": {
      "text/plain": "       airPressure.mbtraining  airPressure.mbtest\ncount            55800.000000         2250.000000\nmean              1002.257258         1010.362089\nstd                 42.523692           17.065828\nmin                811.900000          896.900000\n25%               1009.675000         1005.700000\n50%               1015.350000         1013.550000\n75%               1021.500000         1021.500000\nmax               1084.900000         1033.600000",
      "text/html": "<div>\n<style scoped>\n    .dataframe tbody tr th:only-of-type {\n        vertical-align: middle;\n    }\n\n    .dataframe tbody tr th {\n        vertical-align: top;\n    }\n\n    .dataframe thead th {\n        text-align: right;\n    }\n</style>\n<table border=\"1\" class=\"dataframe\">\n  <thead>\n    <tr style=\"text-align: right;\">\n      <th></th>\n      <th>airPressure.mbtraining</th>\n      <th>airPressure.mbtest</th>\n    </tr>\n  </thead>\n  <tbody>\n    <tr>\n      <th>count</th>\n      <td>55800.000000</td>\n      <td>2250.000000</td>\n    </tr>\n    <tr>\n      <th>mean</th>\n      <td>1002.257258</td>\n      <td>1010.362089</td>\n    </tr>\n    <tr>\n      <th>std</th>\n      <td>42.523692</td>\n      <td>17.065828</td>\n    </tr>\n    <tr>\n      <th>min</th>\n      <td>811.900000</td>\n      <td>896.900000</td>\n    </tr>\n    <tr>\n      <th>25%</th>\n      <td>1009.675000</td>\n      <td>1005.700000</td>\n    </tr>\n    <tr>\n      <th>50%</th>\n      <td>1015.350000</td>\n      <td>1013.550000</td>\n    </tr>\n    <tr>\n      <th>75%</th>\n      <td>1021.500000</td>\n      <td>1021.500000</td>\n    </tr>\n    <tr>\n      <th>max</th>\n      <td>1084.900000</td>\n      <td>1033.600000</td>\n    </tr>\n  </tbody>\n</table>\n</div>"
     },
     "execution_count": 30,
     "metadata": {},
     "output_type": "execute_result"
    }
   ],
   "source": [
    "column = 'airPressure.mb'\n",
    "airpressure_nan = nan_analysis(column)\n",
    "value_analysis(column)"
   ],
   "metadata": {
    "collapsed": false,
    "pycharm": {
     "name": "#%%\n"
    }
   }
  },
  {
   "cell_type": "code",
   "execution_count": 42,
   "outputs": [],
   "source": [
    "# all weather measure are missing 75\n",
    "diff = set(airpressure_nan.index) - set(relhum_nan.index)\n"
   ],
   "metadata": {
    "collapsed": false,
    "pycharm": {
     "name": "#%%\n"
    }
   }
  },
  {
   "cell_type": "code",
   "execution_count": 41,
   "outputs": [],
   "source": [
    "diff = set(winddir_nan.index) - set(relhum_nan.index)"
   ],
   "metadata": {
    "collapsed": false,
    "pycharm": {
     "name": "#%%\n"
    }
   }
  },
  {
   "cell_type": "code",
   "execution_count": 43,
   "outputs": [
    {
     "name": "stdout",
     "output_type": "stream",
     "text": [
      "Number of Nan for isHoliday: (0, 25) of (55875, 25)\n",
      "Number of Nan for isHoliday: (0, 25) of (2250, 25)\n"
     ]
    },
    {
     "data": {
      "text/plain": "       isHolidaytraining  isHolidaytest\ncount       55875.000000    2250.000000\nmean            0.064430       0.064000\nstd             0.245519       0.244807\nmin             0.000000       0.000000\n25%             0.000000       0.000000\n50%             0.000000       0.000000\n75%             0.000000       0.000000\nmax             1.000000       1.000000",
      "text/html": "<div>\n<style scoped>\n    .dataframe tbody tr th:only-of-type {\n        vertical-align: middle;\n    }\n\n    .dataframe tbody tr th {\n        vertical-align: top;\n    }\n\n    .dataframe thead th {\n        text-align: right;\n    }\n</style>\n<table border=\"1\" class=\"dataframe\">\n  <thead>\n    <tr style=\"text-align: right;\">\n      <th></th>\n      <th>isHolidaytraining</th>\n      <th>isHolidaytest</th>\n    </tr>\n  </thead>\n  <tbody>\n    <tr>\n      <th>count</th>\n      <td>55875.000000</td>\n      <td>2250.000000</td>\n    </tr>\n    <tr>\n      <th>mean</th>\n      <td>0.064430</td>\n      <td>0.064000</td>\n    </tr>\n    <tr>\n      <th>std</th>\n      <td>0.245519</td>\n      <td>0.244807</td>\n    </tr>\n    <tr>\n      <th>min</th>\n      <td>0.000000</td>\n      <td>0.000000</td>\n    </tr>\n    <tr>\n      <th>25%</th>\n      <td>0.000000</td>\n      <td>0.000000</td>\n    </tr>\n    <tr>\n      <th>50%</th>\n      <td>0.000000</td>\n      <td>0.000000</td>\n    </tr>\n    <tr>\n      <th>75%</th>\n      <td>0.000000</td>\n      <td>0.000000</td>\n    </tr>\n    <tr>\n      <th>max</th>\n      <td>1.000000</td>\n      <td>1.000000</td>\n    </tr>\n  </tbody>\n</table>\n</div>"
     },
     "execution_count": 43,
     "metadata": {},
     "output_type": "execute_result"
    }
   ],
   "source": [
    "column = 'isHoliday'\n",
    "nan_analysis(column)\n",
    "value_analysis(column)"
   ],
   "metadata": {
    "collapsed": false,
    "pycharm": {
     "name": "#%%\n"
    }
   }
  },
  {
   "cell_type": "code",
   "execution_count": null,
   "outputs": [],
   "source": [],
   "metadata": {
    "collapsed": false,
    "pycharm": {
     "name": "#%%\n"
    }
   }
  }
 ],
 "metadata": {
  "kernelspec": {
   "display_name": "Python 3",
   "language": "python",
   "name": "python3"
  },
  "language_info": {
   "codemirror_mode": {
    "name": "ipython",
    "version": 2
   },
   "file_extension": ".py",
   "mimetype": "text/x-python",
   "name": "python",
   "nbconvert_exporter": "python",
   "pygments_lexer": "ipython2",
   "version": "2.7.6"
  }
 },
 "nbformat": 4,
 "nbformat_minor": 0
}