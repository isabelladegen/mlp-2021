{
 "cells": [
  {
   "cell_type": "markdown",
   "metadata": {
    "collapsed": true,
    "pycharm": {
     "name": "#%% md\n"
    }
   },
   "source": [
    "# Check values before feature selection in both training and test data\n",
    "\n",
    "- nan\n",
    "- different enough values"
   ]
  },
  {
   "cell_type": "code",
   "execution_count": 19,
   "outputs": [],
   "source": [
    "import pandas as pd\n",
    "import glob\n",
    "import os\n",
    "\n",
    "training_df = pd.concat(map(pd.read_csv, glob.glob(os.path.join('../Data/Train', \"*.csv\"))), ignore_index=True)\n",
    "test_df = test_data = pd.read_csv('../data/test.csv')"
   ],
   "metadata": {
    "collapsed": false,
    "pycharm": {
     "name": "#%%\n"
    }
   }
  },
  {
   "cell_type": "code",
   "execution_count": 23,
   "outputs": [],
   "source": [
    "training_df_shape = training_df.shape\n",
    "test_df_shape = test_df.shape\n",
    "\n",
    "\n",
    "def nan_analysis(column_name):\n",
    "    training_with_null_df = training_df[training_df[column_name].isnull()]\n",
    "    training_nan = training_with_null_df.shape\n",
    "    print(f'Number of Nan for {column_name}: {training_nan} of {training_df_shape}')\n",
    "    test_nan = test_df[test_df[column_name].isnull()].shape\n",
    "    print(f'Number of Nan for {column_name}: {test_nan} of {test_df_shape}')\n",
    "    return training_with_null_df[['station']]\n",
    "\n",
    "\n",
    "def value_analysis(column_name):\n",
    "    return pd.merge(training_df[[column_name]].describe(),\n",
    "                    test_df[[column_name]].describe(),\n",
    "                    left_index=True,\n",
    "                    right_index=True,\n",
    "                    suffixes=('training', 'test'))\n"
   ],
   "metadata": {
    "collapsed": false,
    "pycharm": {
     "name": "#%%\n"
    }
   }
  },
  {
   "cell_type": "markdown",
   "source": [
    "# Weather Data"
   ],
   "metadata": {
    "collapsed": false,
    "pycharm": {
     "name": "#%% md\n"
    }
   }
  },
  {
   "cell_type": "code",
   "execution_count": 24,
   "outputs": [
    {
     "name": "stdout",
     "output_type": "stream",
     "text": [
      "Number of Nan for precipitation.l.m2: (75, 25) of (55875, 25)\n",
      "Number of Nan for precipitation.l.m2: (0, 25) of (2250, 25)\n"
     ]
    },
    {
     "data": {
      "text/plain": "       precipitation.l.m2training  precipitation.l.m2test\ncount                     55800.0             2250.000000\nmean                          0.0                0.008622\nstd                           0.0                0.092475\nmin                           0.0                0.000000\n25%                           0.0                0.000000\n50%                           0.0                0.000000\n75%                           0.0                0.000000\nmax                           0.0                2.600000",
      "text/html": "<div>\n<style scoped>\n    .dataframe tbody tr th:only-of-type {\n        vertical-align: middle;\n    }\n\n    .dataframe tbody tr th {\n        vertical-align: top;\n    }\n\n    .dataframe thead th {\n        text-align: right;\n    }\n</style>\n<table border=\"1\" class=\"dataframe\">\n  <thead>\n    <tr style=\"text-align: right;\">\n      <th></th>\n      <th>precipitation.l.m2training</th>\n      <th>precipitation.l.m2test</th>\n    </tr>\n  </thead>\n  <tbody>\n    <tr>\n      <th>count</th>\n      <td>55800.0</td>\n      <td>2250.000000</td>\n    </tr>\n    <tr>\n      <th>mean</th>\n      <td>0.0</td>\n      <td>0.008622</td>\n    </tr>\n    <tr>\n      <th>std</th>\n      <td>0.0</td>\n      <td>0.092475</td>\n    </tr>\n    <tr>\n      <th>min</th>\n      <td>0.0</td>\n      <td>0.000000</td>\n    </tr>\n    <tr>\n      <th>25%</th>\n      <td>0.0</td>\n      <td>0.000000</td>\n    </tr>\n    <tr>\n      <th>50%</th>\n      <td>0.0</td>\n      <td>0.000000</td>\n    </tr>\n    <tr>\n      <th>75%</th>\n      <td>0.0</td>\n      <td>0.000000</td>\n    </tr>\n    <tr>\n      <th>max</th>\n      <td>0.0</td>\n      <td>2.600000</td>\n    </tr>\n  </tbody>\n</table>\n</div>"
     },
     "execution_count": 24,
     "metadata": {},
     "output_type": "execute_result"
    }
   ],
   "source": [
    "precipitation = 'precipitation.l.m2'\n",
    "precipitation_nan = nan_analysis(precipitation)\n",
    "value_analysis(precipitation)\n",
    "\n",
    "# -> Training data has no values for precipitation not a good feature"
   ],
   "metadata": {
    "collapsed": false,
    "pycharm": {
     "name": "#%%\n"
    }
   }
  },
  {
   "cell_type": "code",
   "execution_count": 25,
   "outputs": [
    {
     "name": "stdout",
     "output_type": "stream",
     "text": [
      "Number of Nan for temperature.C: (75, 25) of (55875, 25)\n",
      "Number of Nan for temperature.C: (0, 25) of (2250, 25)\n"
     ]
    },
    {
     "data": {
      "text/plain": "       temperature.Ctraining  temperature.Ctest\ncount           55800.000000        2250.000000\nmean               21.707796          12.926578\nstd                 3.271253           4.084343\nmin                13.900000           3.100000\n25%                19.400000           9.900000\n50%                21.350000          12.900000\n75%                23.400000          15.975000\nmax                34.600000          25.000000",
      "text/html": "<div>\n<style scoped>\n    .dataframe tbody tr th:only-of-type {\n        vertical-align: middle;\n    }\n\n    .dataframe tbody tr th {\n        vertical-align: top;\n    }\n\n    .dataframe thead th {\n        text-align: right;\n    }\n</style>\n<table border=\"1\" class=\"dataframe\">\n  <thead>\n    <tr style=\"text-align: right;\">\n      <th></th>\n      <th>temperature.Ctraining</th>\n      <th>temperature.Ctest</th>\n    </tr>\n  </thead>\n  <tbody>\n    <tr>\n      <th>count</th>\n      <td>55800.000000</td>\n      <td>2250.000000</td>\n    </tr>\n    <tr>\n      <th>mean</th>\n      <td>21.707796</td>\n      <td>12.926578</td>\n    </tr>\n    <tr>\n      <th>std</th>\n      <td>3.271253</td>\n      <td>4.084343</td>\n    </tr>\n    <tr>\n      <th>min</th>\n      <td>13.900000</td>\n      <td>3.100000</td>\n    </tr>\n    <tr>\n      <th>25%</th>\n      <td>19.400000</td>\n      <td>9.900000</td>\n    </tr>\n    <tr>\n      <th>50%</th>\n      <td>21.350000</td>\n      <td>12.900000</td>\n    </tr>\n    <tr>\n      <th>75%</th>\n      <td>23.400000</td>\n      <td>15.975000</td>\n    </tr>\n    <tr>\n      <th>max</th>\n      <td>34.600000</td>\n      <td>25.000000</td>\n    </tr>\n  </tbody>\n</table>\n</div>"
     },
     "execution_count": 25,
     "metadata": {},
     "output_type": "execute_result"
    }
   ],
   "source": [
    "column = 'temperature.C'\n",
    "temperature_nan = nan_analysis(column)\n",
    "value_analysis(column)\n",
    "\n",
    "# min temperature is quite different between training and test but there seems to be enough data"
   ],
   "metadata": {
    "collapsed": false,
    "pycharm": {
     "name": "#%%\n"
    }
   }
  },
  {
   "cell_type": "code",
   "execution_count": 26,
   "outputs": [
    {
     "name": "stdout",
     "output_type": "stream",
     "text": [
      "Number of Nan for windMaxSpeed.m.s: (75, 25) of (55875, 25)\n",
      "Number of Nan for windMaxSpeed.m.s: (0, 25) of (2250, 25)\n"
     ]
    },
    {
     "data": {
      "text/plain": "       windMaxSpeed.m.straining  windMaxSpeed.m.stest\ncount              55800.000000           2250.000000\nmean                  11.406855             11.377333\nstd                    8.664456              9.221720\nmin                    0.000000              0.000000\n25%                    4.800000              4.800000\n50%                    9.700000              8.000000\n75%                   16.100000             14.500000\nmax                   43.500000             62.800000",
      "text/html": "<div>\n<style scoped>\n    .dataframe tbody tr th:only-of-type {\n        vertical-align: middle;\n    }\n\n    .dataframe tbody tr th {\n        vertical-align: top;\n    }\n\n    .dataframe thead th {\n        text-align: right;\n    }\n</style>\n<table border=\"1\" class=\"dataframe\">\n  <thead>\n    <tr style=\"text-align: right;\">\n      <th></th>\n      <th>windMaxSpeed.m.straining</th>\n      <th>windMaxSpeed.m.stest</th>\n    </tr>\n  </thead>\n  <tbody>\n    <tr>\n      <th>count</th>\n      <td>55800.000000</td>\n      <td>2250.000000</td>\n    </tr>\n    <tr>\n      <th>mean</th>\n      <td>11.406855</td>\n      <td>11.377333</td>\n    </tr>\n    <tr>\n      <th>std</th>\n      <td>8.664456</td>\n      <td>9.221720</td>\n    </tr>\n    <tr>\n      <th>min</th>\n      <td>0.000000</td>\n      <td>0.000000</td>\n    </tr>\n    <tr>\n      <th>25%</th>\n      <td>4.800000</td>\n      <td>4.800000</td>\n    </tr>\n    <tr>\n      <th>50%</th>\n      <td>9.700000</td>\n      <td>8.000000</td>\n    </tr>\n    <tr>\n      <th>75%</th>\n      <td>16.100000</td>\n      <td>14.500000</td>\n    </tr>\n    <tr>\n      <th>max</th>\n      <td>43.500000</td>\n      <td>62.800000</td>\n    </tr>\n  </tbody>\n</table>\n</div>"
     },
     "execution_count": 26,
     "metadata": {},
     "output_type": "execute_result"
    }
   ],
   "source": [
    "column = 'windMaxSpeed.m.s'\n",
    "windmax_nan = nan_analysis(column)\n",
    "value_analysis(column)"
   ],
   "metadata": {
    "collapsed": false,
    "pycharm": {
     "name": "#%%\n"
    }
   }
  },
  {
   "cell_type": "code",
   "execution_count": 27,
   "outputs": [
    {
     "name": "stdout",
     "output_type": "stream",
     "text": [
      "Number of Nan for windMeanSpeed.m.s: (75, 25) of (55875, 25)\n",
      "Number of Nan for windMeanSpeed.m.s: (0, 25) of (2250, 25)\n"
     ]
    },
    {
     "data": {
      "text/plain": "       windMeanSpeed.m.straining  windMeanSpeed.m.stest\ncount               55800.000000            2250.000000\nmean                    4.694489               4.079911\nstd                     4.583093               4.404740\nmin                     0.000000               0.000000\n25%                     1.600000               1.600000\n50%                     3.200000               3.200000\n75%                     6.400000               6.400000\nmax                    27.400000              25.700000",
      "text/html": "<div>\n<style scoped>\n    .dataframe tbody tr th:only-of-type {\n        vertical-align: middle;\n    }\n\n    .dataframe tbody tr th {\n        vertical-align: top;\n    }\n\n    .dataframe thead th {\n        text-align: right;\n    }\n</style>\n<table border=\"1\" class=\"dataframe\">\n  <thead>\n    <tr style=\"text-align: right;\">\n      <th></th>\n      <th>windMeanSpeed.m.straining</th>\n      <th>windMeanSpeed.m.stest</th>\n    </tr>\n  </thead>\n  <tbody>\n    <tr>\n      <th>count</th>\n      <td>55800.000000</td>\n      <td>2250.000000</td>\n    </tr>\n    <tr>\n      <th>mean</th>\n      <td>4.694489</td>\n      <td>4.079911</td>\n    </tr>\n    <tr>\n      <th>std</th>\n      <td>4.583093</td>\n      <td>4.404740</td>\n    </tr>\n    <tr>\n      <th>min</th>\n      <td>0.000000</td>\n      <td>0.000000</td>\n    </tr>\n    <tr>\n      <th>25%</th>\n      <td>1.600000</td>\n      <td>1.600000</td>\n    </tr>\n    <tr>\n      <th>50%</th>\n      <td>3.200000</td>\n      <td>3.200000</td>\n    </tr>\n    <tr>\n      <th>75%</th>\n      <td>6.400000</td>\n      <td>6.400000</td>\n    </tr>\n    <tr>\n      <th>max</th>\n      <td>27.400000</td>\n      <td>25.700000</td>\n    </tr>\n  </tbody>\n</table>\n</div>"
     },
     "execution_count": 27,
     "metadata": {},
     "output_type": "execute_result"
    }
   ],
   "source": [
    "column = 'windMeanSpeed.m.s'\n",
    "windmean_nan = nan_analysis(column)\n",
    "value_analysis(column)"
   ],
   "metadata": {
    "collapsed": false,
    "pycharm": {
     "name": "#%%\n"
    }
   }
  },
  {
   "cell_type": "code",
   "execution_count": 28,
   "outputs": [
    {
     "name": "stdout",
     "output_type": "stream",
     "text": [
      "Number of Nan for windDirection.grades: (375, 25) of (55875, 25)\n",
      "Number of Nan for windDirection.grades: (0, 25) of (2250, 25)\n"
     ]
    },
    {
     "data": {
      "text/plain": "       windDirection.gradestraining  windDirection.gradestest\ncount                  55500.000000               2250.000000\nmean                     170.227162                181.716800\nstd                       86.912565                 67.840312\nmin                        0.000000                  0.000000\n25%                      135.000000                157.500000\n50%                      180.000000                180.000000\n75%                      202.500000                225.000000\nmax                      337.500000                337.500000",
      "text/html": "<div>\n<style scoped>\n    .dataframe tbody tr th:only-of-type {\n        vertical-align: middle;\n    }\n\n    .dataframe tbody tr th {\n        vertical-align: top;\n    }\n\n    .dataframe thead th {\n        text-align: right;\n    }\n</style>\n<table border=\"1\" class=\"dataframe\">\n  <thead>\n    <tr style=\"text-align: right;\">\n      <th></th>\n      <th>windDirection.gradestraining</th>\n      <th>windDirection.gradestest</th>\n    </tr>\n  </thead>\n  <tbody>\n    <tr>\n      <th>count</th>\n      <td>55500.000000</td>\n      <td>2250.000000</td>\n    </tr>\n    <tr>\n      <th>mean</th>\n      <td>170.227162</td>\n      <td>181.716800</td>\n    </tr>\n    <tr>\n      <th>std</th>\n      <td>86.912565</td>\n      <td>67.840312</td>\n    </tr>\n    <tr>\n      <th>min</th>\n      <td>0.000000</td>\n      <td>0.000000</td>\n    </tr>\n    <tr>\n      <th>25%</th>\n      <td>135.000000</td>\n      <td>157.500000</td>\n    </tr>\n    <tr>\n      <th>50%</th>\n      <td>180.000000</td>\n      <td>180.000000</td>\n    </tr>\n    <tr>\n      <th>75%</th>\n      <td>202.500000</td>\n      <td>225.000000</td>\n    </tr>\n    <tr>\n      <th>max</th>\n      <td>337.500000</td>\n      <td>337.500000</td>\n    </tr>\n  </tbody>\n</table>\n</div>"
     },
     "execution_count": 28,
     "metadata": {},
     "output_type": "execute_result"
    }
   ],
   "source": [
    "column = 'windDirection.grades'\n",
    "winddir_nan = nan_analysis(column)\n",
    "value_analysis(column)"
   ],
   "metadata": {
    "collapsed": false,
    "pycharm": {
     "name": "#%%\n"
    }
   }
  },
  {
   "cell_type": "code",
   "execution_count": 29,
   "outputs": [
    {
     "name": "stdout",
     "output_type": "stream",
     "text": [
      "Number of Nan for relHumidity.HR: (75, 25) of (55875, 25)\n",
      "Number of Nan for relHumidity.HR: (0, 25) of (2250, 25)\n"
     ]
    },
    {
     "data": {
      "text/plain": "       relHumidity.HRtraining  relHumidity.HRtest\ncount            55800.000000         2250.000000\nmean                65.943548           64.204889\nstd                 16.724256           17.402368\nmin                 18.000000           17.000000\n25%                 54.000000           50.000000\n50%                 68.000000           65.000000\n75%                 81.000000           79.000000\nmax                 91.000000           97.000000",
      "text/html": "<div>\n<style scoped>\n    .dataframe tbody tr th:only-of-type {\n        vertical-align: middle;\n    }\n\n    .dataframe tbody tr th {\n        vertical-align: top;\n    }\n\n    .dataframe thead th {\n        text-align: right;\n    }\n</style>\n<table border=\"1\" class=\"dataframe\">\n  <thead>\n    <tr style=\"text-align: right;\">\n      <th></th>\n      <th>relHumidity.HRtraining</th>\n      <th>relHumidity.HRtest</th>\n    </tr>\n  </thead>\n  <tbody>\n    <tr>\n      <th>count</th>\n      <td>55800.000000</td>\n      <td>2250.000000</td>\n    </tr>\n    <tr>\n      <th>mean</th>\n      <td>65.943548</td>\n      <td>64.204889</td>\n    </tr>\n    <tr>\n      <th>std</th>\n      <td>16.724256</td>\n      <td>17.402368</td>\n    </tr>\n    <tr>\n      <th>min</th>\n      <td>18.000000</td>\n      <td>17.000000</td>\n    </tr>\n    <tr>\n      <th>25%</th>\n      <td>54.000000</td>\n      <td>50.000000</td>\n    </tr>\n    <tr>\n      <th>50%</th>\n      <td>68.000000</td>\n      <td>65.000000</td>\n    </tr>\n    <tr>\n      <th>75%</th>\n      <td>81.000000</td>\n      <td>79.000000</td>\n    </tr>\n    <tr>\n      <th>max</th>\n      <td>91.000000</td>\n      <td>97.000000</td>\n    </tr>\n  </tbody>\n</table>\n</div>"
     },
     "execution_count": 29,
     "metadata": {},
     "output_type": "execute_result"
    }
   ],
   "source": [
    "column = 'relHumidity.HR'\n",
    "relhum_nan = nan_analysis(column)\n",
    "value_analysis(column)"
   ],
   "metadata": {
    "collapsed": false,
    "pycharm": {
     "name": "#%%\n"
    }
   }
  },
  {
   "cell_type": "code",
   "execution_count": 30,
   "outputs": [
    {
     "name": "stdout",
     "output_type": "stream",
     "text": [
      "Number of Nan for airPressure.mb: (75, 25) of (55875, 25)\n",
      "Number of Nan for airPressure.mb: (0, 25) of (2250, 25)\n"
     ]
    },
    {
     "data": {
      "text/plain": "       airPressure.mbtraining  airPressure.mbtest\ncount            55800.000000         2250.000000\nmean              1002.257258         1010.362089\nstd                 42.523692           17.065828\nmin                811.900000          896.900000\n25%               1009.675000         1005.700000\n50%               1015.350000         1013.550000\n75%               1021.500000         1021.500000\nmax               1084.900000         1033.600000",
      "text/html": "<div>\n<style scoped>\n    .dataframe tbody tr th:only-of-type {\n        vertical-align: middle;\n    }\n\n    .dataframe tbody tr th {\n        vertical-align: top;\n    }\n\n    .dataframe thead th {\n        text-align: right;\n    }\n</style>\n<table border=\"1\" class=\"dataframe\">\n  <thead>\n    <tr style=\"text-align: right;\">\n      <th></th>\n      <th>airPressure.mbtraining</th>\n      <th>airPressure.mbtest</th>\n    </tr>\n  </thead>\n  <tbody>\n    <tr>\n      <th>count</th>\n      <td>55800.000000</td>\n      <td>2250.000000</td>\n    </tr>\n    <tr>\n      <th>mean</th>\n      <td>1002.257258</td>\n      <td>1010.362089</td>\n    </tr>\n    <tr>\n      <th>std</th>\n      <td>42.523692</td>\n      <td>17.065828</td>\n    </tr>\n    <tr>\n      <th>min</th>\n      <td>811.900000</td>\n      <td>896.900000</td>\n    </tr>\n    <tr>\n      <th>25%</th>\n      <td>1009.675000</td>\n      <td>1005.700000</td>\n    </tr>\n    <tr>\n      <th>50%</th>\n      <td>1015.350000</td>\n      <td>1013.550000</td>\n    </tr>\n    <tr>\n      <th>75%</th>\n      <td>1021.500000</td>\n      <td>1021.500000</td>\n    </tr>\n    <tr>\n      <th>max</th>\n      <td>1084.900000</td>\n      <td>1033.600000</td>\n    </tr>\n  </tbody>\n</table>\n</div>"
     },
     "execution_count": 30,
     "metadata": {},
     "output_type": "execute_result"
    }
   ],
   "source": [
    "column = 'airPressure.mb'\n",
    "airpressure_nan = nan_analysis(column)\n",
    "value_analysis(column)"
   ],
   "metadata": {
    "collapsed": false,
    "pycharm": {
     "name": "#%%\n"
    }
   }
  },
  {
   "cell_type": "code",
   "execution_count": 38,
   "outputs": [
    {
     "data": {
      "text/plain": "set()"
     },
     "execution_count": 38,
     "metadata": {},
     "output_type": "execute_result"
    }
   ],
   "source": [
    "# all weather measure are missing 75\n",
    "set(airpressure_nan.index) - set(relhum_nan.index)\n"
   ],
   "metadata": {
    "collapsed": false,
    "pycharm": {
     "name": "#%%\n"
    }
   }
  },
  {
   "cell_type": "code",
   "execution_count": 40,
   "outputs": [
    {
     "data": {
      "text/plain": "{193,\n 218,\n 222,\n 334,\n 938,\n 963,\n 967,\n 1079,\n 1683,\n 1708,\n 1712,\n 1824,\n 2428,\n 2453,\n 2457,\n 2569,\n 3173,\n 3198,\n 3202,\n 3314,\n 3918,\n 3943,\n 3947,\n 4059,\n 4663,\n 4688,\n 4692,\n 4804,\n 5408,\n 5433,\n 5437,\n 5549,\n 6153,\n 6178,\n 6182,\n 6294,\n 6898,\n 6923,\n 6927,\n 7039,\n 7643,\n 7668,\n 7672,\n 7784,\n 8388,\n 8413,\n 8417,\n 8529,\n 9133,\n 9158,\n 9162,\n 9274,\n 9878,\n 9903,\n 9907,\n 10019,\n 10623,\n 10648,\n 10652,\n 10764,\n 11368,\n 11393,\n 11397,\n 11509,\n 12113,\n 12138,\n 12142,\n 12254,\n 12858,\n 12883,\n 12887,\n 12999,\n 13603,\n 13628,\n 13632,\n 13744,\n 14348,\n 14373,\n 14377,\n 14489,\n 15093,\n 15118,\n 15122,\n 15234,\n 15838,\n 15863,\n 15867,\n 15979,\n 16583,\n 16608,\n 16612,\n 16724,\n 17328,\n 17353,\n 17357,\n 17469,\n 18073,\n 18098,\n 18102,\n 18214,\n 18818,\n 18843,\n 18847,\n 18959,\n 19563,\n 19588,\n 19592,\n 19704,\n 20308,\n 20333,\n 20337,\n 20449,\n 21053,\n 21078,\n 21082,\n 21194,\n 21798,\n 21823,\n 21827,\n 21939,\n 22543,\n 22568,\n 22572,\n 22684,\n 23288,\n 23313,\n 23317,\n 23429,\n 24033,\n 24058,\n 24062,\n 24174,\n 24778,\n 24803,\n 24807,\n 24919,\n 25523,\n 25548,\n 25552,\n 25664,\n 26268,\n 26293,\n 26297,\n 26409,\n 27013,\n 27038,\n 27042,\n 27154,\n 27758,\n 27783,\n 27787,\n 27899,\n 28503,\n 28528,\n 28532,\n 28644,\n 29248,\n 29273,\n 29277,\n 29389,\n 29993,\n 30018,\n 30022,\n 30134,\n 30738,\n 30763,\n 30767,\n 30879,\n 31483,\n 31508,\n 31512,\n 31624,\n 32228,\n 32253,\n 32257,\n 32369,\n 32973,\n 32998,\n 33002,\n 33114,\n 33718,\n 33743,\n 33747,\n 33859,\n 34463,\n 34488,\n 34492,\n 34604,\n 35208,\n 35233,\n 35237,\n 35349,\n 35953,\n 35978,\n 35982,\n 36094,\n 36698,\n 36723,\n 36727,\n 36839,\n 37443,\n 37468,\n 37472,\n 37584,\n 38188,\n 38213,\n 38217,\n 38329,\n 38933,\n 38958,\n 38962,\n 39074,\n 39678,\n 39703,\n 39707,\n 39819,\n 40423,\n 40448,\n 40452,\n 40564,\n 41168,\n 41193,\n 41197,\n 41309,\n 41913,\n 41938,\n 41942,\n 42054,\n 42658,\n 42683,\n 42687,\n 42799,\n 43403,\n 43428,\n 43432,\n 43544,\n 44148,\n 44173,\n 44177,\n 44289,\n 44893,\n 44918,\n 44922,\n 45034,\n 45638,\n 45663,\n 45667,\n 45779,\n 46383,\n 46408,\n 46412,\n 46524,\n 47128,\n 47153,\n 47157,\n 47269,\n 47873,\n 47898,\n 47902,\n 48014,\n 48618,\n 48643,\n 48647,\n 48759,\n 49363,\n 49388,\n 49392,\n 49504,\n 50108,\n 50133,\n 50137,\n 50249,\n 50853,\n 50878,\n 50882,\n 50994,\n 51598,\n 51623,\n 51627,\n 51739,\n 52343,\n 52368,\n 52372,\n 52484,\n 53088,\n 53113,\n 53117,\n 53229,\n 53833,\n 53858,\n 53862,\n 53974,\n 54578,\n 54603,\n 54607,\n 54719,\n 55323,\n 55348,\n 55352,\n 55464}"
     },
     "execution_count": 40,
     "metadata": {},
     "output_type": "execute_result"
    }
   ],
   "source": [
    "set(winddir_nan.index) - set(relhum_nan.index)"
   ],
   "metadata": {
    "collapsed": false,
    "pycharm": {
     "name": "#%%\n"
    }
   }
  },
  {
   "cell_type": "code",
   "execution_count": null,
   "outputs": [],
   "source": [],
   "metadata": {
    "collapsed": false,
    "pycharm": {
     "name": "#%%\n"
    }
   }
  }
 ],
 "metadata": {
  "kernelspec": {
   "display_name": "Python 3",
   "language": "python",
   "name": "python3"
  },
  "language_info": {
   "codemirror_mode": {
    "name": "ipython",
    "version": 2
   },
   "file_extension": ".py",
   "mimetype": "text/x-python",
   "name": "python",
   "nbconvert_exporter": "python",
   "pygments_lexer": "ipython2",
   "version": "2.7.6"
  }
 },
 "nbformat": 4,
 "nbformat_minor": 0
}